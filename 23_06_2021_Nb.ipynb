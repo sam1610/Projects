{
  "nbformat": 4,
  "nbformat_minor": 0,
  "metadata": {
    "colab": {
      "name": "23-06-2021 Nb.ipynb",
      "provenance": [],
      "collapsed_sections": [
        "rxJumxSTO7S9"
      ],
      "include_colab_link": true
    },
    "kernelspec": {
      "display_name": "Python 3",
      "name": "python3"
    },
    "language_info": {
      "name": "python"
    },
    "widgets": {
      "application/vnd.jupyter.widget-state+json": {
        "7e04a0bee8d34e86bc738303143b0597": {
          "model_module": "@jupyter-widgets/controls",
          "model_name": "VBoxModel",
          "state": {
            "_view_name": "VBoxView",
            "_dom_classes": [
              "widget-interact"
            ],
            "_model_name": "VBoxModel",
            "_view_module": "@jupyter-widgets/controls",
            "_model_module_version": "1.5.0",
            "_view_count": null,
            "_view_module_version": "1.5.0",
            "box_style": "",
            "layout": "IPY_MODEL_c7cdf3daa6024097afe9b14c6dd5b79c",
            "_model_module": "@jupyter-widgets/controls",
            "children": [
              "IPY_MODEL_c3174f7f835441a1a12f89a709f76e0e",
              "IPY_MODEL_b260ace607a841748604a865271559c0",
              "IPY_MODEL_fdfef9a1c50548b88a373e3929cc86e6"
            ]
          }
        },
        "c7cdf3daa6024097afe9b14c6dd5b79c": {
          "model_module": "@jupyter-widgets/base",
          "model_name": "LayoutModel",
          "state": {
            "_view_name": "LayoutView",
            "grid_template_rows": null,
            "right": null,
            "justify_content": null,
            "_view_module": "@jupyter-widgets/base",
            "overflow": null,
            "_model_module_version": "1.2.0",
            "_view_count": null,
            "flex_flow": null,
            "width": null,
            "min_width": null,
            "border": null,
            "align_items": null,
            "bottom": null,
            "_model_module": "@jupyter-widgets/base",
            "top": null,
            "grid_column": null,
            "overflow_y": null,
            "overflow_x": null,
            "grid_auto_flow": null,
            "grid_area": null,
            "grid_template_columns": null,
            "flex": null,
            "_model_name": "LayoutModel",
            "justify_items": null,
            "grid_row": null,
            "max_height": null,
            "align_content": null,
            "visibility": null,
            "align_self": null,
            "height": null,
            "min_height": null,
            "padding": null,
            "grid_auto_rows": null,
            "grid_gap": null,
            "max_width": null,
            "order": null,
            "_view_module_version": "1.2.0",
            "grid_template_areas": null,
            "object_position": null,
            "object_fit": null,
            "grid_auto_columns": null,
            "margin": null,
            "display": null,
            "left": null
          }
        },
        "c3174f7f835441a1a12f89a709f76e0e": {
          "model_module": "@jupyter-widgets/controls",
          "model_name": "DropdownModel",
          "state": {
            "_options_labels": [
              "081067607",
              "140938838",
              "071084462",
              "090926849",
              "141266150",
              "080634320",
              "100125474",
              "080969613",
              "070819342",
              "090563355"
            ],
            "_view_name": "DropdownView",
            "style": "IPY_MODEL_13b67f49e8cc43d98476f981fa03ad87",
            "_dom_classes": [],
            "description": "std",
            "_model_name": "DropdownModel",
            "index": 0,
            "_view_module": "@jupyter-widgets/controls",
            "_model_module_version": "1.5.0",
            "_view_count": null,
            "disabled": false,
            "_view_module_version": "1.5.0",
            "description_tooltip": null,
            "_model_module": "@jupyter-widgets/controls",
            "layout": "IPY_MODEL_4e113b5506a84ad9a623c388d0da886f"
          }
        },
        "b260ace607a841748604a865271559c0": {
          "model_module": "@jupyter-widgets/controls",
          "model_name": "DropdownModel",
          "state": {
            "_options_labels": [
              "g7_1",
              "g7_4",
              "g7_6",
              "g7_2",
              "g7_3",
              "g7_5"
            ],
            "_view_name": "DropdownView",
            "style": "IPY_MODEL_d2b8b68a5838402b9453f328e58003eb",
            "_dom_classes": [],
            "description": "cs",
            "_model_name": "DropdownModel",
            "index": 0,
            "_view_module": "@jupyter-widgets/controls",
            "_model_module_version": "1.5.0",
            "_view_count": null,
            "disabled": false,
            "_view_module_version": "1.5.0",
            "description_tooltip": null,
            "_model_module": "@jupyter-widgets/controls",
            "layout": "IPY_MODEL_fe089149c8f94d0ca60536c8142be7db"
          }
        },
        "fdfef9a1c50548b88a373e3929cc86e6": {
          "model_module": "@jupyter-widgets/output",
          "model_name": "OutputModel",
          "state": {
            "_view_name": "OutputView",
            "msg_id": "",
            "_dom_classes": [],
            "_model_name": "OutputModel",
            "outputs": [
              {
                "output_type": "display_data",
                "metadata": {
                  "tags": []
                },
                "text/plain": "<Figure size 432x288 with 0 Axes>"
              },
              {
                "output_type": "display_data",
                "metadata": {
                  "tags": [],
                  "needs_background": "light"
                },
                "image/png": "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\n",
                "text/plain": "<Figure size 1440x720 with 6 Axes>"
              }
            ],
            "_view_module": "@jupyter-widgets/output",
            "_model_module_version": "1.0.0",
            "_view_count": null,
            "_view_module_version": "1.0.0",
            "layout": "IPY_MODEL_5d1436cc09f54eec85191eba2a1877cf",
            "_model_module": "@jupyter-widgets/output"
          }
        },
        "13b67f49e8cc43d98476f981fa03ad87": {
          "model_module": "@jupyter-widgets/controls",
          "model_name": "DescriptionStyleModel",
          "state": {
            "_view_name": "StyleView",
            "_model_name": "DescriptionStyleModel",
            "description_width": "",
            "_view_module": "@jupyter-widgets/base",
            "_model_module_version": "1.5.0",
            "_view_count": null,
            "_view_module_version": "1.2.0",
            "_model_module": "@jupyter-widgets/controls"
          }
        },
        "4e113b5506a84ad9a623c388d0da886f": {
          "model_module": "@jupyter-widgets/base",
          "model_name": "LayoutModel",
          "state": {
            "_view_name": "LayoutView",
            "grid_template_rows": null,
            "right": null,
            "justify_content": null,
            "_view_module": "@jupyter-widgets/base",
            "overflow": null,
            "_model_module_version": "1.2.0",
            "_view_count": null,
            "flex_flow": null,
            "width": null,
            "min_width": null,
            "border": null,
            "align_items": null,
            "bottom": null,
            "_model_module": "@jupyter-widgets/base",
            "top": null,
            "grid_column": null,
            "overflow_y": null,
            "overflow_x": null,
            "grid_auto_flow": null,
            "grid_area": null,
            "grid_template_columns": null,
            "flex": null,
            "_model_name": "LayoutModel",
            "justify_items": null,
            "grid_row": null,
            "max_height": null,
            "align_content": null,
            "visibility": null,
            "align_self": null,
            "height": null,
            "min_height": null,
            "padding": null,
            "grid_auto_rows": null,
            "grid_gap": null,
            "max_width": null,
            "order": null,
            "_view_module_version": "1.2.0",
            "grid_template_areas": null,
            "object_position": null,
            "object_fit": null,
            "grid_auto_columns": null,
            "margin": null,
            "display": null,
            "left": null
          }
        },
        "d2b8b68a5838402b9453f328e58003eb": {
          "model_module": "@jupyter-widgets/controls",
          "model_name": "DescriptionStyleModel",
          "state": {
            "_view_name": "StyleView",
            "_model_name": "DescriptionStyleModel",
            "description_width": "",
            "_view_module": "@jupyter-widgets/base",
            "_model_module_version": "1.5.0",
            "_view_count": null,
            "_view_module_version": "1.2.0",
            "_model_module": "@jupyter-widgets/controls"
          }
        },
        "fe089149c8f94d0ca60536c8142be7db": {
          "model_module": "@jupyter-widgets/base",
          "model_name": "LayoutModel",
          "state": {
            "_view_name": "LayoutView",
            "grid_template_rows": null,
            "right": null,
            "justify_content": null,
            "_view_module": "@jupyter-widgets/base",
            "overflow": null,
            "_model_module_version": "1.2.0",
            "_view_count": null,
            "flex_flow": null,
            "width": null,
            "min_width": null,
            "border": null,
            "align_items": null,
            "bottom": null,
            "_model_module": "@jupyter-widgets/base",
            "top": null,
            "grid_column": null,
            "overflow_y": null,
            "overflow_x": null,
            "grid_auto_flow": null,
            "grid_area": null,
            "grid_template_columns": null,
            "flex": null,
            "_model_name": "LayoutModel",
            "justify_items": null,
            "grid_row": null,
            "max_height": null,
            "align_content": null,
            "visibility": null,
            "align_self": null,
            "height": null,
            "min_height": null,
            "padding": null,
            "grid_auto_rows": null,
            "grid_gap": null,
            "max_width": null,
            "order": null,
            "_view_module_version": "1.2.0",
            "grid_template_areas": null,
            "object_position": null,
            "object_fit": null,
            "grid_auto_columns": null,
            "margin": null,
            "display": null,
            "left": null
          }
        },
        "5d1436cc09f54eec85191eba2a1877cf": {
          "model_module": "@jupyter-widgets/base",
          "model_name": "LayoutModel",
          "state": {
            "_view_name": "LayoutView",
            "grid_template_rows": null,
            "right": null,
            "justify_content": null,
            "_view_module": "@jupyter-widgets/base",
            "overflow": null,
            "_model_module_version": "1.2.0",
            "_view_count": null,
            "flex_flow": null,
            "width": null,
            "min_width": null,
            "border": null,
            "align_items": null,
            "bottom": null,
            "_model_module": "@jupyter-widgets/base",
            "top": null,
            "grid_column": null,
            "overflow_y": null,
            "overflow_x": null,
            "grid_auto_flow": null,
            "grid_area": null,
            "grid_template_columns": null,
            "flex": null,
            "_model_name": "LayoutModel",
            "justify_items": null,
            "grid_row": null,
            "max_height": null,
            "align_content": null,
            "visibility": null,
            "align_self": null,
            "height": null,
            "min_height": null,
            "padding": null,
            "grid_auto_rows": null,
            "grid_gap": null,
            "max_width": null,
            "order": null,
            "_view_module_version": "1.2.0",
            "grid_template_areas": null,
            "object_position": null,
            "object_fit": null,
            "grid_auto_columns": null,
            "margin": null,
            "display": null,
            "left": null
          }
        },
        "6df81aced5964f8283114e8988656a3e": {
          "model_module": "@jupyter-widgets/controls",
          "model_name": "VBoxModel",
          "state": {
            "_view_name": "VBoxView",
            "_dom_classes": [
              "widget-interact"
            ],
            "_model_name": "VBoxModel",
            "_view_module": "@jupyter-widgets/controls",
            "_model_module_version": "1.5.0",
            "_view_count": null,
            "_view_module_version": "1.5.0",
            "box_style": "",
            "layout": "IPY_MODEL_147e51506770456db1623caf8449cbda",
            "_model_module": "@jupyter-widgets/controls",
            "children": [
              "IPY_MODEL_761139374e4549d58f9817704f73563f",
              "IPY_MODEL_df73dcb6c36244ab818f7fb80cbc156f"
            ]
          }
        },
        "147e51506770456db1623caf8449cbda": {
          "model_module": "@jupyter-widgets/base",
          "model_name": "LayoutModel",
          "state": {
            "_view_name": "LayoutView",
            "grid_template_rows": null,
            "right": null,
            "justify_content": null,
            "_view_module": "@jupyter-widgets/base",
            "overflow": null,
            "_model_module_version": "1.2.0",
            "_view_count": null,
            "flex_flow": null,
            "width": null,
            "min_width": null,
            "border": null,
            "align_items": null,
            "bottom": null,
            "_model_module": "@jupyter-widgets/base",
            "top": null,
            "grid_column": null,
            "overflow_y": null,
            "overflow_x": null,
            "grid_auto_flow": null,
            "grid_area": null,
            "grid_template_columns": null,
            "flex": null,
            "_model_name": "LayoutModel",
            "justify_items": null,
            "grid_row": null,
            "max_height": null,
            "align_content": null,
            "visibility": null,
            "align_self": null,
            "height": null,
            "min_height": null,
            "padding": null,
            "grid_auto_rows": null,
            "grid_gap": null,
            "max_width": null,
            "order": null,
            "_view_module_version": "1.2.0",
            "grid_template_areas": null,
            "object_position": null,
            "object_fit": null,
            "grid_auto_columns": null,
            "margin": null,
            "display": null,
            "left": null
          }
        },
        "761139374e4549d58f9817704f73563f": {
          "model_module": "@jupyter-widgets/controls",
          "model_name": "DropdownModel",
          "state": {
            "_options_labels": [
              "g7_1",
              "g7_4",
              "g7_6",
              "g7_2",
              "g7_3",
              "g7_5",
              "g1_1",
              "g1_6",
              "g1_5",
              "g1_3",
              "g1_4",
              "g8_3",
              "g8_4",
              "g8_2",
              "g8_6",
              "g8_5",
              "g6_4",
              "g6_5",
              "g6_2",
              "g6_1",
              "g6_3",
              "g1_2",
              "g5_3",
              "g5_4",
              "g5_5",
              "g5_6",
              "g5_2",
              "g5_1",
              "g8_1",
              "g6_6",
              "g2_3",
              "g2_1",
              "g2_2",
              "g2_6",
              "g2_5",
              "g2_4",
              "g3_3",
              "g3_5",
              "g3_1",
              "g3_6",
              "g3_2",
              "g9_6",
              "g9_3",
              "g9_2",
              "g9_5",
              "g9_4",
              "g9_1",
              "g3_4",
              "g4_2",
              "g4_1",
              "g4_4",
              "g4_5",
              "g4_6",
              "g4_3"
            ],
            "_view_name": "DropdownView",
            "style": "IPY_MODEL_c6dc137275e443d088c79c0f30831dd0",
            "_dom_classes": [],
            "description": "sbj",
            "_model_name": "DropdownModel",
            "index": 0,
            "_view_module": "@jupyter-widgets/controls",
            "_model_module_version": "1.5.0",
            "_view_count": null,
            "disabled": false,
            "_view_module_version": "1.5.0",
            "description_tooltip": null,
            "_model_module": "@jupyter-widgets/controls",
            "layout": "IPY_MODEL_8de266c6d1d74f269139013eec39ef2c"
          }
        },
        "df73dcb6c36244ab818f7fb80cbc156f": {
          "model_module": "@jupyter-widgets/output",
          "model_name": "OutputModel",
          "state": {
            "_view_name": "OutputView",
            "msg_id": "",
            "_dom_classes": [],
            "_model_name": "OutputModel",
            "outputs": [
              {
                "output_type": "pyerr",
                "metadata": {
                  "tags": []
                },
                "ename": "AttributeError",
                "evalue": "ignored",
                "traceback": [
                  "\u001b[0;31m---------------------------------------------------------------------------\u001b[0m",
                  "\u001b[0;31mAttributeError\u001b[0m                            Traceback (most recent call last)",
                  "\u001b[0;32m/usr/local/lib/python3.7/dist-packages/ipywidgets/widgets/interaction.py\u001b[0m in \u001b[0;36mupdate\u001b[0;34m(self, *args)\u001b[0m\n\u001b[1;32m    254\u001b[0m                     \u001b[0mvalue\u001b[0m \u001b[0;34m=\u001b[0m \u001b[0mwidget\u001b[0m\u001b[0;34m.\u001b[0m\u001b[0mget_interact_value\u001b[0m\u001b[0;34m(\u001b[0m\u001b[0;34m)\u001b[0m\u001b[0;34m\u001b[0m\u001b[0;34m\u001b[0m\u001b[0m\n\u001b[1;32m    255\u001b[0m                     \u001b[0mself\u001b[0m\u001b[0;34m.\u001b[0m\u001b[0mkwargs\u001b[0m\u001b[0;34m[\u001b[0m\u001b[0mwidget\u001b[0m\u001b[0;34m.\u001b[0m\u001b[0m_kwarg\u001b[0m\u001b[0;34m]\u001b[0m \u001b[0;34m=\u001b[0m \u001b[0mvalue\u001b[0m\u001b[0;34m\u001b[0m\u001b[0;34m\u001b[0m\u001b[0m\n\u001b[0;32m--> 256\u001b[0;31m                 \u001b[0mself\u001b[0m\u001b[0;34m.\u001b[0m\u001b[0mresult\u001b[0m \u001b[0;34m=\u001b[0m \u001b[0mself\u001b[0m\u001b[0;34m.\u001b[0m\u001b[0mf\u001b[0m\u001b[0;34m(\u001b[0m\u001b[0;34m**\u001b[0m\u001b[0mself\u001b[0m\u001b[0;34m.\u001b[0m\u001b[0mkwargs\u001b[0m\u001b[0;34m)\u001b[0m\u001b[0;34m\u001b[0m\u001b[0;34m\u001b[0m\u001b[0m\n\u001b[0m\u001b[1;32m    257\u001b[0m                 \u001b[0mshow_inline_matplotlib_plots\u001b[0m\u001b[0;34m(\u001b[0m\u001b[0;34m)\u001b[0m\u001b[0;34m\u001b[0m\u001b[0;34m\u001b[0m\u001b[0m\n\u001b[1;32m    258\u001b[0m                 \u001b[0;32mif\u001b[0m \u001b[0mself\u001b[0m\u001b[0;34m.\u001b[0m\u001b[0mauto_display\u001b[0m \u001b[0;32mand\u001b[0m \u001b[0mself\u001b[0m\u001b[0;34m.\u001b[0m\u001b[0mresult\u001b[0m \u001b[0;32mis\u001b[0m \u001b[0;32mnot\u001b[0m \u001b[0;32mNone\u001b[0m\u001b[0;34m:\u001b[0m\u001b[0;34m\u001b[0m\u001b[0;34m\u001b[0m\u001b[0m\n",
                  "\u001b[0;32m<ipython-input-31-4c6455141c0b>\u001b[0m in \u001b[0;36mplot_subject\u001b[0;34m(sbj)\u001b[0m\n\u001b[1;32m      9\u001b[0m   \u001b[0;31m#   width= 1200 , height= 600 )\u001b[0m\u001b[0;34m\u001b[0m\u001b[0;34m\u001b[0m\u001b[0;34m\u001b[0m\u001b[0m\n\u001b[1;32m     10\u001b[0m \u001b[0;34m\u001b[0m\u001b[0m\n\u001b[0;32m---> 11\u001b[0;31m   fig = go.Figure(data=go.Scatter( \n\u001b[0m\u001b[1;32m     12\u001b[0m       \u001b[0mx\u001b[0m\u001b[0;34m=\u001b[0m\u001b[0mdf_avt\u001b[0m\u001b[0;34m[\u001b[0m\u001b[0mdf_avt\u001b[0m\u001b[0;34m.\u001b[0m\u001b[0mCourse_code\u001b[0m\u001b[0;34m==\u001b[0m\u001b[0msbj\u001b[0m\u001b[0;34m]\u001b[0m\u001b[0;34m.\u001b[0m\u001b[0mloc\u001b[0m\u001b[0;34m[\u001b[0m\u001b[0;34m\"2020-09\"\u001b[0m\u001b[0;34m:\u001b[0m\u001b[0;34m\"2021-09\"\u001b[0m\u001b[0;34m,\u001b[0m \u001b[0;34m\"Act_submit_Time\"\u001b[0m\u001b[0;34m]\u001b[0m\u001b[0;34m.\u001b[0m\u001b[0msort_index\u001b[0m\u001b[0;34m(\u001b[0m\u001b[0;34m)\u001b[0m\u001b[0;34m,\u001b[0m\u001b[0;34m\u001b[0m\u001b[0;34m\u001b[0m\u001b[0m\n\u001b[1;32m     13\u001b[0m       \u001b[0my\u001b[0m\u001b[0;34m=\u001b[0m\u001b[0mdf_avt\u001b[0m\u001b[0;34m[\u001b[0m\u001b[0mdf_avt\u001b[0m\u001b[0;34m.\u001b[0m\u001b[0mCourse_code\u001b[0m\u001b[0;34m==\u001b[0m\u001b[0msbj\u001b[0m\u001b[0;34m]\u001b[0m\u001b[0;34m.\u001b[0m\u001b[0mloc\u001b[0m\u001b[0;34m[\u001b[0m\u001b[0;34m\"2020-09\"\u001b[0m\u001b[0;34m:\u001b[0m\u001b[0;34m\"2021-09\"\u001b[0m\u001b[0;34m,\u001b[0m \u001b[0;34m\"Act_mark\"\u001b[0m\u001b[0;34m]\u001b[0m\u001b[0;34m.\u001b[0m\u001b[0msort_index\u001b[0m\u001b[0;34m(\u001b[0m\u001b[0;34m)\u001b[0m\u001b[0;34m\u001b[0m\u001b[0;34m\u001b[0m\u001b[0m\n",
                  "\u001b[0;31mAttributeError\u001b[0m: module 'plotly_express' has no attribute 'Figure'"
                ]
              }
            ],
            "_view_module": "@jupyter-widgets/output",
            "_model_module_version": "1.0.0",
            "_view_count": null,
            "_view_module_version": "1.0.0",
            "layout": "IPY_MODEL_12488e614529456f82a732fab9624159",
            "_model_module": "@jupyter-widgets/output"
          }
        },
        "c6dc137275e443d088c79c0f30831dd0": {
          "model_module": "@jupyter-widgets/controls",
          "model_name": "DescriptionStyleModel",
          "state": {
            "_view_name": "StyleView",
            "_model_name": "DescriptionStyleModel",
            "description_width": "",
            "_view_module": "@jupyter-widgets/base",
            "_model_module_version": "1.5.0",
            "_view_count": null,
            "_view_module_version": "1.2.0",
            "_model_module": "@jupyter-widgets/controls"
          }
        },
        "8de266c6d1d74f269139013eec39ef2c": {
          "model_module": "@jupyter-widgets/base",
          "model_name": "LayoutModel",
          "state": {
            "_view_name": "LayoutView",
            "grid_template_rows": null,
            "right": null,
            "justify_content": null,
            "_view_module": "@jupyter-widgets/base",
            "overflow": null,
            "_model_module_version": "1.2.0",
            "_view_count": null,
            "flex_flow": null,
            "width": null,
            "min_width": null,
            "border": null,
            "align_items": null,
            "bottom": null,
            "_model_module": "@jupyter-widgets/base",
            "top": null,
            "grid_column": null,
            "overflow_y": null,
            "overflow_x": null,
            "grid_auto_flow": null,
            "grid_area": null,
            "grid_template_columns": null,
            "flex": null,
            "_model_name": "LayoutModel",
            "justify_items": null,
            "grid_row": null,
            "max_height": null,
            "align_content": null,
            "visibility": null,
            "align_self": null,
            "height": null,
            "min_height": null,
            "padding": null,
            "grid_auto_rows": null,
            "grid_gap": null,
            "max_width": null,
            "order": null,
            "_view_module_version": "1.2.0",
            "grid_template_areas": null,
            "object_position": null,
            "object_fit": null,
            "grid_auto_columns": null,
            "margin": null,
            "display": null,
            "left": null
          }
        },
        "12488e614529456f82a732fab9624159": {
          "model_module": "@jupyter-widgets/base",
          "model_name": "LayoutModel",
          "state": {
            "_view_name": "LayoutView",
            "grid_template_rows": null,
            "right": null,
            "justify_content": null,
            "_view_module": "@jupyter-widgets/base",
            "overflow": null,
            "_model_module_version": "1.2.0",
            "_view_count": null,
            "flex_flow": null,
            "width": null,
            "min_width": null,
            "border": null,
            "align_items": null,
            "bottom": null,
            "_model_module": "@jupyter-widgets/base",
            "top": null,
            "grid_column": null,
            "overflow_y": null,
            "overflow_x": null,
            "grid_auto_flow": null,
            "grid_area": null,
            "grid_template_columns": null,
            "flex": null,
            "_model_name": "LayoutModel",
            "justify_items": null,
            "grid_row": null,
            "max_height": null,
            "align_content": null,
            "visibility": null,
            "align_self": null,
            "height": null,
            "min_height": null,
            "padding": null,
            "grid_auto_rows": null,
            "grid_gap": null,
            "max_width": null,
            "order": null,
            "_view_module_version": "1.2.0",
            "grid_template_areas": null,
            "object_position": null,
            "object_fit": null,
            "grid_auto_columns": null,
            "margin": null,
            "display": null,
            "left": null
          }
        }
      }
    }
  },
  "cells": [
    {
      "cell_type": "markdown",
      "metadata": {
        "id": "view-in-github",
        "colab_type": "text"
      },
      "source": [
        "<a href=\"https://colab.research.google.com/github/sam1610/Projects/blob/master/23_06_2021_Nb.ipynb\" target=\"_parent\"><img src=\"https://colab.research.google.com/assets/colab-badge.svg\" alt=\"Open In Colab\"/></a>"
      ]
    },
    {
      "cell_type": "code",
      "metadata": {
        "colab": {
          "base_uri": "https://localhost:8080/"
        },
        "id": "lxn3DiFRw8c9",
        "outputId": "b0bd730b-72c0-408e-9273-b5850d8e8a54"
      },
      "source": [
        "! pip  install -U   scikit-learn  random_timestamp ipywidgets plotly_express"
      ],
      "execution_count": null,
      "outputs": [
        {
          "output_type": "stream",
          "text": [
            "Requirement already up-to-date: scikit-learn in /usr/local/lib/python3.7/dist-packages (0.24.2)\n",
            "Requirement already up-to-date: random_timestamp in /usr/local/lib/python3.7/dist-packages (1.1)\n",
            "Requirement already up-to-date: ipywidgets in /usr/local/lib/python3.7/dist-packages (7.6.3)\n",
            "Requirement already up-to-date: plotly_express in /usr/local/lib/python3.7/dist-packages (0.4.1)\n",
            "Requirement already satisfied, skipping upgrade: joblib>=0.11 in /usr/local/lib/python3.7/dist-packages (from scikit-learn) (1.0.1)\n",
            "Requirement already satisfied, skipping upgrade: scipy>=0.19.1 in /usr/local/lib/python3.7/dist-packages (from scikit-learn) (1.4.1)\n",
            "Requirement already satisfied, skipping upgrade: threadpoolctl>=2.0.0 in /usr/local/lib/python3.7/dist-packages (from scikit-learn) (2.1.0)\n",
            "Requirement already satisfied, skipping upgrade: numpy>=1.13.3 in /usr/local/lib/python3.7/dist-packages (from scikit-learn) (1.19.5)\n",
            "Requirement already satisfied, skipping upgrade: widgetsnbextension~=3.5.0 in /usr/local/lib/python3.7/dist-packages (from ipywidgets) (3.5.1)\n",
            "Requirement already satisfied, skipping upgrade: jupyterlab-widgets>=1.0.0; python_version >= \"3.6\" in /usr/local/lib/python3.7/dist-packages (from ipywidgets) (1.0.0)\n",
            "Requirement already satisfied, skipping upgrade: ipykernel>=4.5.1 in /usr/local/lib/python3.7/dist-packages (from ipywidgets) (4.10.1)\n",
            "Requirement already satisfied, skipping upgrade: traitlets>=4.3.1 in /usr/local/lib/python3.7/dist-packages (from ipywidgets) (5.0.5)\n",
            "Requirement already satisfied, skipping upgrade: ipython>=4.0.0; python_version >= \"3.3\" in /usr/local/lib/python3.7/dist-packages (from ipywidgets) (5.5.0)\n",
            "Requirement already satisfied, skipping upgrade: nbformat>=4.2.0 in /usr/local/lib/python3.7/dist-packages (from ipywidgets) (5.1.3)\n",
            "Requirement already satisfied, skipping upgrade: pandas>=0.20.0 in /usr/local/lib/python3.7/dist-packages (from plotly_express) (1.1.5)\n",
            "Requirement already satisfied, skipping upgrade: statsmodels>=0.9.0 in /usr/local/lib/python3.7/dist-packages (from plotly_express) (0.10.2)\n",
            "Requirement already satisfied, skipping upgrade: patsy>=0.5 in /usr/local/lib/python3.7/dist-packages (from plotly_express) (0.5.1)\n",
            "Requirement already satisfied, skipping upgrade: plotly>=4.1.0 in /usr/local/lib/python3.7/dist-packages (from plotly_express) (5.0.0)\n",
            "Requirement already satisfied, skipping upgrade: notebook>=4.4.1 in /usr/local/lib/python3.7/dist-packages (from widgetsnbextension~=3.5.0->ipywidgets) (5.3.1)\n",
            "Requirement already satisfied, skipping upgrade: jupyter-client in /usr/local/lib/python3.7/dist-packages (from ipykernel>=4.5.1->ipywidgets) (5.3.5)\n",
            "Requirement already satisfied, skipping upgrade: tornado>=4.0 in /usr/local/lib/python3.7/dist-packages (from ipykernel>=4.5.1->ipywidgets) (5.1.1)\n",
            "Requirement already satisfied, skipping upgrade: ipython-genutils in /usr/local/lib/python3.7/dist-packages (from traitlets>=4.3.1->ipywidgets) (0.2.0)\n",
            "Requirement already satisfied, skipping upgrade: setuptools>=18.5 in /usr/local/lib/python3.7/dist-packages (from ipython>=4.0.0; python_version >= \"3.3\"->ipywidgets) (57.0.0)\n",
            "Requirement already satisfied, skipping upgrade: simplegeneric>0.8 in /usr/local/lib/python3.7/dist-packages (from ipython>=4.0.0; python_version >= \"3.3\"->ipywidgets) (0.8.1)\n",
            "Requirement already satisfied, skipping upgrade: pexpect; sys_platform != \"win32\" in /usr/local/lib/python3.7/dist-packages (from ipython>=4.0.0; python_version >= \"3.3\"->ipywidgets) (4.8.0)\n",
            "Requirement already satisfied, skipping upgrade: prompt-toolkit<2.0.0,>=1.0.4 in /usr/local/lib/python3.7/dist-packages (from ipython>=4.0.0; python_version >= \"3.3\"->ipywidgets) (1.0.18)\n",
            "Requirement already satisfied, skipping upgrade: pickleshare in /usr/local/lib/python3.7/dist-packages (from ipython>=4.0.0; python_version >= \"3.3\"->ipywidgets) (0.7.5)\n",
            "Requirement already satisfied, skipping upgrade: pygments in /usr/local/lib/python3.7/dist-packages (from ipython>=4.0.0; python_version >= \"3.3\"->ipywidgets) (2.6.1)\n",
            "Requirement already satisfied, skipping upgrade: decorator in /usr/local/lib/python3.7/dist-packages (from ipython>=4.0.0; python_version >= \"3.3\"->ipywidgets) (4.4.2)\n",
            "Requirement already satisfied, skipping upgrade: jsonschema!=2.5.0,>=2.4 in /usr/local/lib/python3.7/dist-packages (from nbformat>=4.2.0->ipywidgets) (2.6.0)\n",
            "Requirement already satisfied, skipping upgrade: jupyter-core in /usr/local/lib/python3.7/dist-packages (from nbformat>=4.2.0->ipywidgets) (4.7.1)\n",
            "Requirement already satisfied, skipping upgrade: pytz>=2017.2 in /usr/local/lib/python3.7/dist-packages (from pandas>=0.20.0->plotly_express) (2018.9)\n",
            "Requirement already satisfied, skipping upgrade: python-dateutil>=2.7.3 in /usr/local/lib/python3.7/dist-packages (from pandas>=0.20.0->plotly_express) (2.8.1)\n",
            "Requirement already satisfied, skipping upgrade: six in /usr/local/lib/python3.7/dist-packages (from patsy>=0.5->plotly_express) (1.15.0)\n",
            "Requirement already satisfied, skipping upgrade: tenacity>=6.2.0 in /usr/local/lib/python3.7/dist-packages (from plotly>=4.1.0->plotly_express) (7.0.0)\n",
            "Requirement already satisfied, skipping upgrade: nbconvert in /usr/local/lib/python3.7/dist-packages (from notebook>=4.4.1->widgetsnbextension~=3.5.0->ipywidgets) (5.6.1)\n",
            "Requirement already satisfied, skipping upgrade: terminado>=0.8.1 in /usr/local/lib/python3.7/dist-packages (from notebook>=4.4.1->widgetsnbextension~=3.5.0->ipywidgets) (0.10.1)\n",
            "Requirement already satisfied, skipping upgrade: Send2Trash in /usr/local/lib/python3.7/dist-packages (from notebook>=4.4.1->widgetsnbextension~=3.5.0->ipywidgets) (1.5.0)\n",
            "Requirement already satisfied, skipping upgrade: jinja2 in /usr/local/lib/python3.7/dist-packages (from notebook>=4.4.1->widgetsnbextension~=3.5.0->ipywidgets) (2.11.3)\n",
            "Requirement already satisfied, skipping upgrade: pyzmq>=13 in /usr/local/lib/python3.7/dist-packages (from jupyter-client->ipykernel>=4.5.1->ipywidgets) (22.1.0)\n",
            "Requirement already satisfied, skipping upgrade: ptyprocess>=0.5 in /usr/local/lib/python3.7/dist-packages (from pexpect; sys_platform != \"win32\"->ipython>=4.0.0; python_version >= \"3.3\"->ipywidgets) (0.7.0)\n",
            "Requirement already satisfied, skipping upgrade: wcwidth in /usr/local/lib/python3.7/dist-packages (from prompt-toolkit<2.0.0,>=1.0.4->ipython>=4.0.0; python_version >= \"3.3\"->ipywidgets) (0.2.5)\n",
            "Requirement already satisfied, skipping upgrade: defusedxml in /usr/local/lib/python3.7/dist-packages (from nbconvert->notebook>=4.4.1->widgetsnbextension~=3.5.0->ipywidgets) (0.7.1)\n",
            "Requirement already satisfied, skipping upgrade: bleach in /usr/local/lib/python3.7/dist-packages (from nbconvert->notebook>=4.4.1->widgetsnbextension~=3.5.0->ipywidgets) (3.3.0)\n",
            "Requirement already satisfied, skipping upgrade: pandocfilters>=1.4.1 in /usr/local/lib/python3.7/dist-packages (from nbconvert->notebook>=4.4.1->widgetsnbextension~=3.5.0->ipywidgets) (1.4.3)\n",
            "Requirement already satisfied, skipping upgrade: entrypoints>=0.2.2 in /usr/local/lib/python3.7/dist-packages (from nbconvert->notebook>=4.4.1->widgetsnbextension~=3.5.0->ipywidgets) (0.3)\n",
            "Requirement already satisfied, skipping upgrade: testpath in /usr/local/lib/python3.7/dist-packages (from nbconvert->notebook>=4.4.1->widgetsnbextension~=3.5.0->ipywidgets) (0.5.0)\n",
            "Requirement already satisfied, skipping upgrade: mistune<2,>=0.8.1 in /usr/local/lib/python3.7/dist-packages (from nbconvert->notebook>=4.4.1->widgetsnbextension~=3.5.0->ipywidgets) (0.8.4)\n",
            "Requirement already satisfied, skipping upgrade: MarkupSafe>=0.23 in /usr/local/lib/python3.7/dist-packages (from jinja2->notebook>=4.4.1->widgetsnbextension~=3.5.0->ipywidgets) (2.0.1)\n",
            "Requirement already satisfied, skipping upgrade: packaging in /usr/local/lib/python3.7/dist-packages (from bleach->nbconvert->notebook>=4.4.1->widgetsnbextension~=3.5.0->ipywidgets) (20.9)\n",
            "Requirement already satisfied, skipping upgrade: webencodings in /usr/local/lib/python3.7/dist-packages (from bleach->nbconvert->notebook>=4.4.1->widgetsnbextension~=3.5.0->ipywidgets) (0.5.1)\n",
            "Requirement already satisfied, skipping upgrade: pyparsing>=2.0.2 in /usr/local/lib/python3.7/dist-packages (from packaging->bleach->nbconvert->notebook>=4.4.1->widgetsnbextension~=3.5.0->ipywidgets) (2.4.7)\n"
          ],
          "name": "stdout"
        }
      ]
    },
    {
      "cell_type": "code",
      "metadata": {
        "colab": {
          "base_uri": "https://localhost:8080/"
        },
        "id": "8AKUPnjLxFB-",
        "outputId": "d7cd8c9d-45e1-4d9b-b6ad-0a449f5d5207"
      },
      "source": [
        "\n",
        "from google.colab import drive\n",
        "drive.mount('/content/drive')"
      ],
      "execution_count": null,
      "outputs": [
        {
          "output_type": "stream",
          "text": [
            "Drive already mounted at /content/drive; to attempt to forcibly remount, call drive.mount(\"/content/drive\", force_remount=True).\n"
          ],
          "name": "stdout"
        }
      ]
    },
    {
      "cell_type": "code",
      "metadata": {
        "colab": {
          "base_uri": "https://localhost:8080/"
        },
        "id": "LCHi1exfxFFX",
        "outputId": "88b2c5b3-f768-4044-c715-61cf8aaa911f"
      },
      "source": [
        "!ls  /content/drive/MyDrive/portalAnalysis/"
      ],
      "execution_count": null,
      "outputs": [
        {
          "output_type": "stream",
          "text": [
            "Data  TimeSeriesAnalysisWithPython\n"
          ],
          "name": "stdout"
        }
      ]
    },
    {
      "cell_type": "code",
      "metadata": {
        "colab": {
          "base_uri": "https://localhost:8080/"
        },
        "id": "q6qMX4O9xFI1",
        "outputId": "02c14379-0222-4c95-aa55-4de8719d18f7"
      },
      "source": [
        "cd /content/drive/MyDrive/portalAnalysis/"
      ],
      "execution_count": null,
      "outputs": [
        {
          "output_type": "stream",
          "text": [
            "/content/drive/.shortcut-targets-by-id/1ZqnixmkqoSThWVJbij6rwHF3MnJGRihq/portalAnalysis\n"
          ],
          "name": "stdout"
        }
      ]
    },
    {
      "cell_type": "markdown",
      "metadata": {
        "id": "3Rmmb_lSRFqK"
      },
      "source": [
        "## Student's General Info. Dataset"
      ]
    },
    {
      "cell_type": "code",
      "metadata": {
        "id": "aScKKGTjjFYc"
      },
      "source": [
        "import pandas as pd\n",
        "import numpy as np\n",
        "import random\n",
        "import string\n",
        "from random import randint\n",
        "import matplotlib.pyplot as plt\n",
        " "
      ],
      "execution_count": null,
      "outputs": []
    },
    {
      "cell_type": "code",
      "metadata": {
        "id": "FC2cVVX7X6Nh"
      },
      "source": [
        "## الصفوف العينة هي : من الصف الأول الابتدائي و حتى الثالث الاعدادي\n",
        "\n",
        "grades={\n",
        "    \"06\":\"9\",\"07\":\"8\",\n",
        "    \"08\":\"7\", \"09\":\"6\", \"10\":\"5\", \"11\":\"4\",\n",
        "    \"12\":\"3\", \"13\":\"2\", \"14\":\"1\"\n",
        "}"
      ],
      "execution_count": null,
      "outputs": []
    },
    {
      "cell_type": "code",
      "metadata": {
        "id": "fQhITeCzpmln"
      },
      "source": [
        "###  الطلبة العينة من 10 مدارس عشوائيًا (500 طالب) ##\n",
        "\n",
        "list_std=[]\n",
        "for i in range(500):\n",
        "  birth_year=random.choice([\"06\", \"07\", \"08\", \"09\",\"10\",\"11\",\"12\",\"13\",\"14\"])\n",
        "  student= {\n",
        "  \"student_id\": ''.join(random.choice(string.digits) for _ in range(5)) ,\n",
        "  \"birth_year\": birth_year,\n",
        "  \"birth_month\": random.choice([\"01\", \"02\", \"03\", \"04\", \"05\", \n",
        "                                \"06\", \"07\", \"08\", \"09\",\"10\",\"11\",\"12\"]),\n",
        "  \"school\": random.choice([ \"Sc_\"+str(j) for j in range(10)]),\n",
        "  #\"Course_code\": random.choice([ \"Course_\"+str(i) for i in range(10)]),\n",
        "  \"grade\": grades[birth_year],  #int((9*np.random.rand(1)+1)),\n",
        "  \"gender\": random.choice([\"M\", \"F\"]),\n",
        "  \"governorate\": random.choice([\"North\", \"South\", \"Caiptal\", \"Muharraq\"])\n",
        "         } \n",
        "  list_std.append(student)\n",
        "  # for k in range(6):\n",
        "      \n",
        "df_st=pd.DataFrame(list_std)\n"
      ],
      "execution_count": null,
      "outputs": []
    },
    {
      "cell_type": "code",
      "metadata": {
        "colab": {
          "base_uri": "https://localhost:8080/"
        },
        "id": "y_ojtT3wxQwX",
        "outputId": "ed60e7cf-ea5b-479b-ddd2-eb76bc2b23a7"
      },
      "source": [
        "df_st.info()"
      ],
      "execution_count": null,
      "outputs": [
        {
          "output_type": "stream",
          "text": [
            "<class 'pandas.core.frame.DataFrame'>\n",
            "RangeIndex: 500 entries, 0 to 499\n",
            "Data columns (total 7 columns):\n",
            " #   Column       Non-Null Count  Dtype \n",
            "---  ------       --------------  ----- \n",
            " 0   student_id   500 non-null    object\n",
            " 1   birth_year   500 non-null    object\n",
            " 2   birth_month  500 non-null    object\n",
            " 3   school       500 non-null    object\n",
            " 4   grade        500 non-null    object\n",
            " 5   gender       500 non-null    object\n",
            " 6   governorate  500 non-null    object\n",
            "dtypes: object(7)\n",
            "memory usage: 27.5+ KB\n"
          ],
          "name": "stdout"
        }
      ]
    },
    {
      "cell_type": "code",
      "metadata": {
        "colab": {
          "base_uri": "https://localhost:8080/",
          "height": 204
        },
        "id": "jgZV1XCSWfmz",
        "outputId": "eb374293-bca3-402b-c44c-d14f7be4292f"
      },
      "source": [
        "\n",
        "df_st.head()"
      ],
      "execution_count": null,
      "outputs": [
        {
          "output_type": "execute_result",
          "data": {
            "text/html": [
              "<div>\n",
              "<style scoped>\n",
              "    .dataframe tbody tr th:only-of-type {\n",
              "        vertical-align: middle;\n",
              "    }\n",
              "\n",
              "    .dataframe tbody tr th {\n",
              "        vertical-align: top;\n",
              "    }\n",
              "\n",
              "    .dataframe thead th {\n",
              "        text-align: right;\n",
              "    }\n",
              "</style>\n",
              "<table border=\"1\" class=\"dataframe\">\n",
              "  <thead>\n",
              "    <tr style=\"text-align: right;\">\n",
              "      <th></th>\n",
              "      <th>student_id</th>\n",
              "      <th>birth_year</th>\n",
              "      <th>birth_month</th>\n",
              "      <th>school</th>\n",
              "      <th>grade</th>\n",
              "      <th>gender</th>\n",
              "      <th>governorate</th>\n",
              "    </tr>\n",
              "  </thead>\n",
              "  <tbody>\n",
              "    <tr>\n",
              "      <th>0</th>\n",
              "      <td>67607</td>\n",
              "      <td>08</td>\n",
              "      <td>10</td>\n",
              "      <td>Sc_6</td>\n",
              "      <td>7</td>\n",
              "      <td>F</td>\n",
              "      <td>South</td>\n",
              "    </tr>\n",
              "    <tr>\n",
              "      <th>1</th>\n",
              "      <td>38838</td>\n",
              "      <td>14</td>\n",
              "      <td>09</td>\n",
              "      <td>Sc_2</td>\n",
              "      <td>1</td>\n",
              "      <td>M</td>\n",
              "      <td>Muharraq</td>\n",
              "    </tr>\n",
              "    <tr>\n",
              "      <th>2</th>\n",
              "      <td>84462</td>\n",
              "      <td>07</td>\n",
              "      <td>10</td>\n",
              "      <td>Sc_0</td>\n",
              "      <td>8</td>\n",
              "      <td>F</td>\n",
              "      <td>North</td>\n",
              "    </tr>\n",
              "    <tr>\n",
              "      <th>3</th>\n",
              "      <td>26849</td>\n",
              "      <td>09</td>\n",
              "      <td>09</td>\n",
              "      <td>Sc_0</td>\n",
              "      <td>6</td>\n",
              "      <td>F</td>\n",
              "      <td>North</td>\n",
              "    </tr>\n",
              "    <tr>\n",
              "      <th>4</th>\n",
              "      <td>66150</td>\n",
              "      <td>14</td>\n",
              "      <td>12</td>\n",
              "      <td>Sc_4</td>\n",
              "      <td>1</td>\n",
              "      <td>M</td>\n",
              "      <td>North</td>\n",
              "    </tr>\n",
              "  </tbody>\n",
              "</table>\n",
              "</div>"
            ],
            "text/plain": [
              "  student_id birth_year birth_month school grade gender governorate\n",
              "0      67607         08          10   Sc_6     7      F       South\n",
              "1      38838         14          09   Sc_2     1      M    Muharraq\n",
              "2      84462         07          10   Sc_0     8      F       North\n",
              "3      26849         09          09   Sc_0     6      F       North\n",
              "4      66150         14          12   Sc_4     1      M       North"
            ]
          },
          "metadata": {
            "tags": []
          },
          "execution_count": 11
        }
      ]
    },
    {
      "cell_type": "code",
      "metadata": {
        "colab": {
          "base_uri": "https://localhost:8080/"
        },
        "id": "f6aLAHinW5-r",
        "outputId": "dc66fdc5-e10a-4fea-d77f-ae99c1de312b"
      },
      "source": [
        "df_st[:-1].values.T"
      ],
      "execution_count": null,
      "outputs": [
        {
          "output_type": "execute_result",
          "data": {
            "text/plain": [
              "array([['67607', '38838', '84462', ..., '63705', '08564', '69396'],\n",
              "       ['08', '14', '07', ..., '07', '12', '10'],\n",
              "       ['10', '09', '10', ..., '07', '02', '07'],\n",
              "       ...,\n",
              "       ['7', '1', '8', ..., '8', '3', '5'],\n",
              "       ['F', 'M', 'F', ..., 'F', 'F', 'M'],\n",
              "       ['South', 'Muharraq', 'North', ..., 'North', 'Muharraq',\n",
              "        'Caiptal']], dtype=object)"
            ]
          },
          "metadata": {
            "tags": []
          },
          "execution_count": 12
        }
      ]
    },
    {
      "cell_type": "code",
      "metadata": {
        "id": "nItBTwFfutF9"
      },
      "source": [
        "df_st.insert(0, 'student_ID', df_st['birth_year'].astype(str) + df_st['birth_month'].astype(str)+df_st.pop('student_id').astype(str))"
      ],
      "execution_count": null,
      "outputs": []
    },
    {
      "cell_type": "code",
      "metadata": {
        "colab": {
          "base_uri": "https://localhost:8080/",
          "height": 204
        },
        "id": "t1NUnn4H5cti",
        "outputId": "d24c8c0d-48e0-4f4f-e686-952fb7b91187"
      },
      "source": [
        "df_st.head()"
      ],
      "execution_count": null,
      "outputs": [
        {
          "output_type": "execute_result",
          "data": {
            "text/html": [
              "<div>\n",
              "<style scoped>\n",
              "    .dataframe tbody tr th:only-of-type {\n",
              "        vertical-align: middle;\n",
              "    }\n",
              "\n",
              "    .dataframe tbody tr th {\n",
              "        vertical-align: top;\n",
              "    }\n",
              "\n",
              "    .dataframe thead th {\n",
              "        text-align: right;\n",
              "    }\n",
              "</style>\n",
              "<table border=\"1\" class=\"dataframe\">\n",
              "  <thead>\n",
              "    <tr style=\"text-align: right;\">\n",
              "      <th></th>\n",
              "      <th>student_ID</th>\n",
              "      <th>birth_year</th>\n",
              "      <th>birth_month</th>\n",
              "      <th>school</th>\n",
              "      <th>grade</th>\n",
              "      <th>gender</th>\n",
              "      <th>governorate</th>\n",
              "    </tr>\n",
              "  </thead>\n",
              "  <tbody>\n",
              "    <tr>\n",
              "      <th>0</th>\n",
              "      <td>081067607</td>\n",
              "      <td>08</td>\n",
              "      <td>10</td>\n",
              "      <td>Sc_6</td>\n",
              "      <td>7</td>\n",
              "      <td>F</td>\n",
              "      <td>South</td>\n",
              "    </tr>\n",
              "    <tr>\n",
              "      <th>1</th>\n",
              "      <td>140938838</td>\n",
              "      <td>14</td>\n",
              "      <td>09</td>\n",
              "      <td>Sc_2</td>\n",
              "      <td>1</td>\n",
              "      <td>M</td>\n",
              "      <td>Muharraq</td>\n",
              "    </tr>\n",
              "    <tr>\n",
              "      <th>2</th>\n",
              "      <td>071084462</td>\n",
              "      <td>07</td>\n",
              "      <td>10</td>\n",
              "      <td>Sc_0</td>\n",
              "      <td>8</td>\n",
              "      <td>F</td>\n",
              "      <td>North</td>\n",
              "    </tr>\n",
              "    <tr>\n",
              "      <th>3</th>\n",
              "      <td>090926849</td>\n",
              "      <td>09</td>\n",
              "      <td>09</td>\n",
              "      <td>Sc_0</td>\n",
              "      <td>6</td>\n",
              "      <td>F</td>\n",
              "      <td>North</td>\n",
              "    </tr>\n",
              "    <tr>\n",
              "      <th>4</th>\n",
              "      <td>141266150</td>\n",
              "      <td>14</td>\n",
              "      <td>12</td>\n",
              "      <td>Sc_4</td>\n",
              "      <td>1</td>\n",
              "      <td>M</td>\n",
              "      <td>North</td>\n",
              "    </tr>\n",
              "  </tbody>\n",
              "</table>\n",
              "</div>"
            ],
            "text/plain": [
              "  student_ID birth_year birth_month school grade gender governorate\n",
              "0  081067607         08          10   Sc_6     7      F       South\n",
              "1  140938838         14          09   Sc_2     1      M    Muharraq\n",
              "2  071084462         07          10   Sc_0     8      F       North\n",
              "3  090926849         09          09   Sc_0     6      F       North\n",
              "4  141266150         14          12   Sc_4     1      M       North"
            ]
          },
          "metadata": {
            "tags": []
          },
          "execution_count": 14
        }
      ]
    },
    {
      "cell_type": "code",
      "metadata": {
        "id": "GL2aCjqCxWMN"
      },
      "source": [
        "df_st.to_csv(\"./Data/Edited-Students.csv\")"
      ],
      "execution_count": null,
      "outputs": []
    },
    {
      "cell_type": "markdown",
      "metadata": {
        "id": "A9G8SNC1O-fL"
      },
      "source": [
        "##Students' portal activity dataset"
      ]
    },
    {
      "cell_type": "code",
      "metadata": {
        "id": "N0fUDJIgVCoH"
      },
      "source": [
        "#df_st=pd.read_csv(\"./Data/Edited-Students.csv\", index_col=0)"
      ],
      "execution_count": null,
      "outputs": []
    },
    {
      "cell_type": "markdown",
      "metadata": {
        "id": "XYP1szpIn_Iq"
      },
      "source": [
        "\n",
        "\n",
        "\n",
        "##   Achivements Reports"
      ]
    },
    {
      "cell_type": "code",
      "metadata": {
        "id": "bqY7lMv2eDZJ"
      },
      "source": [
        "from random_timestamp import random_timestamp\n",
        "list=[]\n",
        "for i, k  in zip(df_st.student_ID, df_st.grade):\n",
        "  for j in range (1, int((20*np.random.rand()+8))):\n",
        "    course_id=random.choice([\"g\"+str(k)+\"_\"+str(l) for l in range(1,7)])\n",
        "    ActType=random.choice([\"1\", \"0\" ])\n",
        "    activities= {\n",
        "        \"student_ID\": i ,\n",
        "        \"Course_code\":course_id,  \n",
        "        \"Activity_id\": f\"{course_id}-Act_{int(20*np.random.rand()+1)}\",\n",
        "        \"Activity_type\":ActType,\n",
        "        # \"Act_count\": course_ref[course_id][ActType] , #np.random.randint(5,30),\n",
        "\n",
        "      \"Unit_id\":  random.choice([ \"Un_\"+str(k) for k in range(10)]),\n",
        "      \"Chapter_id\": random.choice([ \"Chp_\"+str(k) for k in range(10)]), \n",
        "      \"Lesson_id\": random.choice([ \"Ls_\"+str(k) for k in range(10)]),\n",
        "      # \"Competence-id\":  random.choice([ \"Cp_\"+str(k) for k in range(10)]), \n",
        "      \"Act_diff\":  int((4*np.random.rand(1)+1)),\n",
        "      \"Act_cp\": int((np.random.rand(1)*2+1)), \n",
        "\n",
        "      \"Act_time\": int((870*np.random.rand()+30)) , ####### from 30 SEC to 15 MIN\n",
        "      \"Act_submit_Time\": random_timestamp( year=2020),\n",
        "      #  add  afeature for  late submission\n",
        "      \"Act_mark\": int((1000*np.random.rand()))/100,\n",
        "    }\n",
        "    list.append(activities)\n",
        "df_avt=pd.DataFrame(list)"
      ],
      "execution_count": null,
      "outputs": []
    },
    {
      "cell_type": "code",
      "metadata": {
        "colab": {
          "base_uri": "https://localhost:8080/",
          "height": 204
        },
        "id": "2lbLejNN8VZr",
        "outputId": "8ea7b43f-2885-47ce-dec0-c794eb89f4d3"
      },
      "source": [
        "df_avt.head()"
      ],
      "execution_count": null,
      "outputs": [
        {
          "output_type": "execute_result",
          "data": {
            "text/html": [
              "<div>\n",
              "<style scoped>\n",
              "    .dataframe tbody tr th:only-of-type {\n",
              "        vertical-align: middle;\n",
              "    }\n",
              "\n",
              "    .dataframe tbody tr th {\n",
              "        vertical-align: top;\n",
              "    }\n",
              "\n",
              "    .dataframe thead th {\n",
              "        text-align: right;\n",
              "    }\n",
              "</style>\n",
              "<table border=\"1\" class=\"dataframe\">\n",
              "  <thead>\n",
              "    <tr style=\"text-align: right;\">\n",
              "      <th></th>\n",
              "      <th>student_ID</th>\n",
              "      <th>Course_code</th>\n",
              "      <th>Activity_id</th>\n",
              "      <th>Activity_type</th>\n",
              "      <th>Unit_id</th>\n",
              "      <th>Chapter_id</th>\n",
              "      <th>Lesson_id</th>\n",
              "      <th>Act_diff</th>\n",
              "      <th>Act_cp</th>\n",
              "      <th>Act_time</th>\n",
              "      <th>Act_submit_Time</th>\n",
              "      <th>Act_mark</th>\n",
              "    </tr>\n",
              "  </thead>\n",
              "  <tbody>\n",
              "    <tr>\n",
              "      <th>0</th>\n",
              "      <td>081067607</td>\n",
              "      <td>g7_1</td>\n",
              "      <td>g7_1-Act_12</td>\n",
              "      <td>0</td>\n",
              "      <td>Un_3</td>\n",
              "      <td>Chp_2</td>\n",
              "      <td>Ls_8</td>\n",
              "      <td>2</td>\n",
              "      <td>1</td>\n",
              "      <td>59</td>\n",
              "      <td>2020-12-27 18:41:56</td>\n",
              "      <td>1.13</td>\n",
              "    </tr>\n",
              "    <tr>\n",
              "      <th>1</th>\n",
              "      <td>081067607</td>\n",
              "      <td>g7_4</td>\n",
              "      <td>g7_4-Act_14</td>\n",
              "      <td>0</td>\n",
              "      <td>Un_2</td>\n",
              "      <td>Chp_2</td>\n",
              "      <td>Ls_3</td>\n",
              "      <td>4</td>\n",
              "      <td>1</td>\n",
              "      <td>212</td>\n",
              "      <td>2020-01-28 18:03:35</td>\n",
              "      <td>4.84</td>\n",
              "    </tr>\n",
              "    <tr>\n",
              "      <th>2</th>\n",
              "      <td>081067607</td>\n",
              "      <td>g7_6</td>\n",
              "      <td>g7_6-Act_19</td>\n",
              "      <td>1</td>\n",
              "      <td>Un_9</td>\n",
              "      <td>Chp_5</td>\n",
              "      <td>Ls_8</td>\n",
              "      <td>1</td>\n",
              "      <td>2</td>\n",
              "      <td>461</td>\n",
              "      <td>2020-04-07 09:38:50</td>\n",
              "      <td>3.67</td>\n",
              "    </tr>\n",
              "    <tr>\n",
              "      <th>3</th>\n",
              "      <td>081067607</td>\n",
              "      <td>g7_4</td>\n",
              "      <td>g7_4-Act_4</td>\n",
              "      <td>0</td>\n",
              "      <td>Un_5</td>\n",
              "      <td>Chp_8</td>\n",
              "      <td>Ls_2</td>\n",
              "      <td>2</td>\n",
              "      <td>1</td>\n",
              "      <td>234</td>\n",
              "      <td>2020-09-13 17:38:42</td>\n",
              "      <td>3.63</td>\n",
              "    </tr>\n",
              "    <tr>\n",
              "      <th>4</th>\n",
              "      <td>081067607</td>\n",
              "      <td>g7_2</td>\n",
              "      <td>g7_2-Act_8</td>\n",
              "      <td>1</td>\n",
              "      <td>Un_3</td>\n",
              "      <td>Chp_0</td>\n",
              "      <td>Ls_3</td>\n",
              "      <td>3</td>\n",
              "      <td>1</td>\n",
              "      <td>617</td>\n",
              "      <td>2020-11-09 00:48:50</td>\n",
              "      <td>4.00</td>\n",
              "    </tr>\n",
              "  </tbody>\n",
              "</table>\n",
              "</div>"
            ],
            "text/plain": [
              "  student_ID Course_code  Activity_id  ... Act_time     Act_submit_Time Act_mark\n",
              "0  081067607        g7_1  g7_1-Act_12  ...       59 2020-12-27 18:41:56     1.13\n",
              "1  081067607        g7_4  g7_4-Act_14  ...      212 2020-01-28 18:03:35     4.84\n",
              "2  081067607        g7_6  g7_6-Act_19  ...      461 2020-04-07 09:38:50     3.67\n",
              "3  081067607        g7_4   g7_4-Act_4  ...      234 2020-09-13 17:38:42     3.63\n",
              "4  081067607        g7_2   g7_2-Act_8  ...      617 2020-11-09 00:48:50     4.00\n",
              "\n",
              "[5 rows x 12 columns]"
            ]
          },
          "metadata": {
            "tags": []
          },
          "execution_count": 18
        }
      ]
    },
    {
      "cell_type": "code",
      "metadata": {
        "id": "_jyAyUArpvwM"
      },
      "source": [
        "df_avt.index=pd.to_datetime(df_avt.Act_submit_Time)"
      ],
      "execution_count": null,
      "outputs": []
    },
    {
      "cell_type": "code",
      "metadata": {
        "colab": {
          "base_uri": "https://localhost:8080/"
        },
        "id": "RZEFGkmI_BhX",
        "outputId": "c28e9f50-4fbc-4f1d-a533-d5faaed1b9ce"
      },
      "source": [
        "df_avt.shape"
      ],
      "execution_count": null,
      "outputs": [
        {
          "output_type": "execute_result",
          "data": {
            "text/plain": [
              "(8330, 12)"
            ]
          },
          "metadata": {
            "tags": []
          },
          "execution_count": 20
        }
      ]
    },
    {
      "cell_type": "code",
      "metadata": {
        "colab": {
          "base_uri": "https://localhost:8080/"
        },
        "id": "4eJ5eWIllYK1",
        "outputId": "2bd91c9f-b62c-43c2-bb40-f782f8c7c4de"
      },
      "source": [
        "df_avt.Course_code.unique()"
      ],
      "execution_count": null,
      "outputs": [
        {
          "output_type": "execute_result",
          "data": {
            "text/plain": [
              "array(['g7_1', 'g7_4', 'g7_6', 'g7_2', 'g7_3', 'g7_5', 'g1_1', 'g1_6',\n",
              "       'g1_5', 'g1_3', 'g1_4', 'g8_3', 'g8_4', 'g8_2', 'g8_6', 'g8_5',\n",
              "       'g6_4', 'g6_5', 'g6_2', 'g6_1', 'g6_3', 'g1_2', 'g5_3', 'g5_4',\n",
              "       'g5_5', 'g5_6', 'g5_2', 'g5_1', 'g8_1', 'g6_6', 'g2_3', 'g2_1',\n",
              "       'g2_2', 'g2_6', 'g2_5', 'g2_4', 'g3_3', 'g3_5', 'g3_1', 'g3_6',\n",
              "       'g3_2', 'g9_6', 'g9_3', 'g9_2', 'g9_5', 'g9_4', 'g9_1', 'g3_4',\n",
              "       'g4_2', 'g4_1', 'g4_4', 'g4_5', 'g4_6', 'g4_3'], dtype=object)"
            ]
          },
          "metadata": {
            "tags": []
          },
          "execution_count": 21
        }
      ]
    },
    {
      "cell_type": "code",
      "metadata": {
        "colab": {
          "base_uri": "https://localhost:8080/"
        },
        "id": "EoYiy_RL8KxM",
        "outputId": "9f1330f1-683e-480c-b355-92421896125b"
      },
      "source": [
        "df_avt.student_ID.unique()[:10]"
      ],
      "execution_count": null,
      "outputs": [
        {
          "output_type": "execute_result",
          "data": {
            "text/plain": [
              "array(['081067607', '140938838', '071084462', '090926849', '141266150',\n",
              "       '080634320', '100125474', '080969613', '070819342', '090563355'],\n",
              "      dtype=object)"
            ]
          },
          "metadata": {
            "tags": []
          },
          "execution_count": 22
        }
      ]
    },
    {
      "cell_type": "code",
      "metadata": {
        "colab": {
          "base_uri": "https://localhost:8080/"
        },
        "id": "kSkpBgLN6N1O",
        "outputId": "b79249fb-58ae-406e-e5b5-43f3b6bfbd67"
      },
      "source": [
        "df_avt[df_avt.student_ID=='080969613'][\"Course_code\"].unique()"
      ],
      "execution_count": null,
      "outputs": [
        {
          "output_type": "execute_result",
          "data": {
            "text/plain": [
              "array(['g7_2', 'g7_1', 'g7_5', 'g7_3', 'g7_6'], dtype=object)"
            ]
          },
          "metadata": {
            "tags": []
          },
          "execution_count": 23
        }
      ]
    },
    {
      "cell_type": "code",
      "metadata": {
        "id": "25_pz9QN_N4e"
      },
      "source": [
        "import ipywidgets as widgets \n",
        "from ipywidgets import interact\n",
        "from matplotlib.dates import DateFormatter"
      ],
      "execution_count": null,
      "outputs": []
    },
    {
      "cell_type": "code",
      "metadata": {
        "id": "10iyZOqTB3eQ"
      },
      "source": [
        "studentID = widgets.Dropdown(options=['081067607', '140938838', '071084462', '090926849', '141266150',\n",
        "       '080634320', '100125474', '080969613', '070819342', '090563355'])\n",
        "course = widgets.Dropdown(options=df_avt[df_avt.student_ID==studentID.value][\"Course_code\"].unique())\n",
        "\n",
        "\n",
        "\n",
        "\n",
        "# Updates the image options based on directory value\n",
        "def update_course(*args):\n",
        "    # course.options = studentID.value\n",
        "    course = widgets.Dropdown(options=df_avt[df_avt.student_ID==studentID.value][\"Course_code\"].unique())\n",
        "\n",
        "\n",
        "# Tie the image options to directory value\n",
        "studentID.observe(update_course, 'value')\n"
      ],
      "execution_count": null,
      "outputs": []
    },
    {
      "cell_type": "code",
      "metadata": {
        "colab": {
          "base_uri": "https://localhost:8080/",
          "height": 235
        },
        "id": "IcB0FLlp8lvO",
        "outputId": "9c7c4ded-f8ec-4b6f-8180-98b3c94adc59"
      },
      "source": [
        "df_avt.head()"
      ],
      "execution_count": null,
      "outputs": [
        {
          "output_type": "execute_result",
          "data": {
            "text/html": [
              "<div>\n",
              "<style scoped>\n",
              "    .dataframe tbody tr th:only-of-type {\n",
              "        vertical-align: middle;\n",
              "    }\n",
              "\n",
              "    .dataframe tbody tr th {\n",
              "        vertical-align: top;\n",
              "    }\n",
              "\n",
              "    .dataframe thead th {\n",
              "        text-align: right;\n",
              "    }\n",
              "</style>\n",
              "<table border=\"1\" class=\"dataframe\">\n",
              "  <thead>\n",
              "    <tr style=\"text-align: right;\">\n",
              "      <th></th>\n",
              "      <th>student_ID</th>\n",
              "      <th>Course_code</th>\n",
              "      <th>Activity_id</th>\n",
              "      <th>Activity_type</th>\n",
              "      <th>Unit_id</th>\n",
              "      <th>Chapter_id</th>\n",
              "      <th>Lesson_id</th>\n",
              "      <th>Act_diff</th>\n",
              "      <th>Act_cp</th>\n",
              "      <th>Act_time</th>\n",
              "      <th>Act_submit_Time</th>\n",
              "      <th>Act_mark</th>\n",
              "    </tr>\n",
              "    <tr>\n",
              "      <th>Act_submit_Time</th>\n",
              "      <th></th>\n",
              "      <th></th>\n",
              "      <th></th>\n",
              "      <th></th>\n",
              "      <th></th>\n",
              "      <th></th>\n",
              "      <th></th>\n",
              "      <th></th>\n",
              "      <th></th>\n",
              "      <th></th>\n",
              "      <th></th>\n",
              "      <th></th>\n",
              "    </tr>\n",
              "  </thead>\n",
              "  <tbody>\n",
              "    <tr>\n",
              "      <th>2020-12-27 18:41:56</th>\n",
              "      <td>081067607</td>\n",
              "      <td>g7_1</td>\n",
              "      <td>g7_1-Act_12</td>\n",
              "      <td>0</td>\n",
              "      <td>Un_3</td>\n",
              "      <td>Chp_2</td>\n",
              "      <td>Ls_8</td>\n",
              "      <td>2</td>\n",
              "      <td>1</td>\n",
              "      <td>59</td>\n",
              "      <td>2020-12-27 18:41:56</td>\n",
              "      <td>1.13</td>\n",
              "    </tr>\n",
              "    <tr>\n",
              "      <th>2020-01-28 18:03:35</th>\n",
              "      <td>081067607</td>\n",
              "      <td>g7_4</td>\n",
              "      <td>g7_4-Act_14</td>\n",
              "      <td>0</td>\n",
              "      <td>Un_2</td>\n",
              "      <td>Chp_2</td>\n",
              "      <td>Ls_3</td>\n",
              "      <td>4</td>\n",
              "      <td>1</td>\n",
              "      <td>212</td>\n",
              "      <td>2020-01-28 18:03:35</td>\n",
              "      <td>4.84</td>\n",
              "    </tr>\n",
              "    <tr>\n",
              "      <th>2020-04-07 09:38:50</th>\n",
              "      <td>081067607</td>\n",
              "      <td>g7_6</td>\n",
              "      <td>g7_6-Act_19</td>\n",
              "      <td>1</td>\n",
              "      <td>Un_9</td>\n",
              "      <td>Chp_5</td>\n",
              "      <td>Ls_8</td>\n",
              "      <td>1</td>\n",
              "      <td>2</td>\n",
              "      <td>461</td>\n",
              "      <td>2020-04-07 09:38:50</td>\n",
              "      <td>3.67</td>\n",
              "    </tr>\n",
              "    <tr>\n",
              "      <th>2020-09-13 17:38:42</th>\n",
              "      <td>081067607</td>\n",
              "      <td>g7_4</td>\n",
              "      <td>g7_4-Act_4</td>\n",
              "      <td>0</td>\n",
              "      <td>Un_5</td>\n",
              "      <td>Chp_8</td>\n",
              "      <td>Ls_2</td>\n",
              "      <td>2</td>\n",
              "      <td>1</td>\n",
              "      <td>234</td>\n",
              "      <td>2020-09-13 17:38:42</td>\n",
              "      <td>3.63</td>\n",
              "    </tr>\n",
              "    <tr>\n",
              "      <th>2020-11-09 00:48:50</th>\n",
              "      <td>081067607</td>\n",
              "      <td>g7_2</td>\n",
              "      <td>g7_2-Act_8</td>\n",
              "      <td>1</td>\n",
              "      <td>Un_3</td>\n",
              "      <td>Chp_0</td>\n",
              "      <td>Ls_3</td>\n",
              "      <td>3</td>\n",
              "      <td>1</td>\n",
              "      <td>617</td>\n",
              "      <td>2020-11-09 00:48:50</td>\n",
              "      <td>4.00</td>\n",
              "    </tr>\n",
              "  </tbody>\n",
              "</table>\n",
              "</div>"
            ],
            "text/plain": [
              "                    student_ID Course_code  ...     Act_submit_Time Act_mark\n",
              "Act_submit_Time                             ...                             \n",
              "2020-12-27 18:41:56  081067607        g7_1  ... 2020-12-27 18:41:56     1.13\n",
              "2020-01-28 18:03:35  081067607        g7_4  ... 2020-01-28 18:03:35     4.84\n",
              "2020-04-07 09:38:50  081067607        g7_6  ... 2020-04-07 09:38:50     3.67\n",
              "2020-09-13 17:38:42  081067607        g7_4  ... 2020-09-13 17:38:42     3.63\n",
              "2020-11-09 00:48:50  081067607        g7_2  ... 2020-11-09 00:48:50     4.00\n",
              "\n",
              "[5 rows x 12 columns]"
            ]
          },
          "metadata": {
            "tags": []
          },
          "execution_count": 26
        }
      ]
    },
    {
      "cell_type": "code",
      "metadata": {
        "colab": {
          "base_uri": "https://localhost:8080/",
          "height": 783,
          "referenced_widgets": [
            "7e04a0bee8d34e86bc738303143b0597",
            "c7cdf3daa6024097afe9b14c6dd5b79c",
            "c3174f7f835441a1a12f89a709f76e0e",
            "b260ace607a841748604a865271559c0",
            "fdfef9a1c50548b88a373e3929cc86e6",
            "13b67f49e8cc43d98476f981fa03ad87",
            "4e113b5506a84ad9a623c388d0da886f",
            "d2b8b68a5838402b9453f328e58003eb",
            "fe089149c8f94d0ca60536c8142be7db",
            "5d1436cc09f54eec85191eba2a1877cf"
          ]
        },
        "id": "MDQzgQu2HOC1",
        "outputId": "65dc2950-5b36-496a-82d3-f16a8a7bb992"
      },
      "source": [
        "# @interact(studentID=['121135311', '081240130', '101294284', '120675487', '120217686'], \n",
        "#               course_id=df_avt[df_avt.student_ID==studentID][\"Course_code\"].unique())\n",
        "\n",
        "  #  NUmber of Assignments is less then Quizzes\n",
        "@interact(std=studentID, cs=course)\n",
        "def plot_data( std, cs):\n",
        "  plt.rcParams.update({'font.size': 22})\n",
        "  plt.subplots_adjust(top = 0.99, bottom=0.01, wspace=0.4)\n",
        "  dtset=  df_avt[df_avt.Course_code==cs]\n",
        "\n",
        "\n",
        "  fig, ax=plt.subplots(2, 2, figsize=(20,10) )\n",
        "  plt.subplots_adjust(top = 0.99, bottom=0.01, wspace=0.4)\n",
        "\n",
        "  dtset[dtset.Activity_type==\"1\"].Act_mark.resample(\"M\").mean().plot( subplots=True,marker=\"o\",    ax=ax[0, 0] , color=\"brown\") #label=\"Assignement trend/Month\")\n",
        "  # df_avt[df_avt.Activity_type==\"0\"].Act_mark.resample(\"M\").mean().plot( subplots=True, marker=\"s\",   ax=ax[0,0] , color=\"green\", label=\"Average Quizz Marks\" )\n",
        "\n",
        "  dtset[dtset.Activity_type==\"0\"].Act_mark.resample(\"M\").mean().plot( subplots=True, marker=\"s\",   ax=ax[0,1] , color=\"brown\")# label=\"Quizz Marks trend/Month\" )\n",
        "  # df_plt[df_plt.Activity_type==0][\"Act_mark_avg\"].plot( subplots=True, marker=\"s\",   ax=ax[0,1] , color=\"green\", label=\"Average Quizz Marks\" )\n",
        "  # add time Avg per Activity\n",
        "\n",
        "  ax4=ax[1,1].twinx()\n",
        "  dtset[dtset.Activity_type==\"1\"].Act_time.resample(\"M\").mean().plot( subplots=True, marker=\"s\",   ax=ax4 , color=\"green\")# label=\"Quizz Avg Time\" )\n",
        "\n",
        "  # df_plt[df_plt.Activity_type==0][\"Act_time_avg\"].plot( subplots=True, marker=\"+\",   ax=ax[1,1] , color=\"brown\", label=\"Average time\" )\n",
        "\n",
        "\n",
        "  ax3=ax[1,0].twinx()\n",
        "  dtset[dtset.Activity_type==\"0\"].Act_time.resample(\"M\").mean().plot( subplots=True, marker=\"s\",   ax=ax3 , color=\"green\")# label=\"Assignment Avg Time\" )\n",
        "  # df_plt[df_plt.Activity_type==1][\"Act_time_avg\"].plot( subplots=True,marker=\"o\",    ax=ax[1, 0] , color=\"blue\", label=\"Assignement Submission Avg time\")\n",
        "\n",
        "  # plt.legend()\n",
        "  \n",
        "  \n",
        "  # ---------------------------------------------------------------------\n",
        "  # Set title and labels for axes\n",
        "  ax[0,0].set(xlabel=\"Dates\",\n",
        "        ylabel=\"Assignments Mark\",\n",
        "        title=\" Assignement Mark Trend / Month Timeline\")\n",
        "  fig.autofmt_xdate(rotation=45)\n",
        "\n",
        "  #plt.grid()\n",
        "  ax[0,0].xaxis.set_major_formatter(DateFormatter(\"%Y-%b\"))\n",
        "  \n",
        "# ----------------------------------------------------------------------\n",
        "  ax[0,1].set(xlabel=\"Dates\",\n",
        "        ylabel=\"Quizzes Marks\",\n",
        "        title=\" Quizzes Marks Trend / Month Timeline\")\n",
        "  ax4.set(\n",
        "        ylabel=\"Quizz Mark\"\n",
        "        )\n",
        "  ax4.grid()\n",
        "  ax4.legend()\n",
        "  \n",
        "  # ---------------------------------------------------------------------\n",
        "  ax[1,1].set(ylabel=\"Quizzes Submission time \",\n",
        "        title= \"Quizzes Time Submission Trend / Month\")\n",
        "  \n",
        "\n",
        "  # ----------------------------------------------------------------\n",
        "  ax[1,0].set(xlabel=\"Dates\",\n",
        "        ylabel=\"Assignments Subission Time\",\n",
        "        title=\"Assignments Time Submission Trend / Month\")\n",
        "\n",
        "  fig.autofmt_xdate(rotation=45)\n",
        "#-----------------------------------------------------------------------\n",
        "   #fig.update_layout(hovermode=\"x\" , \n",
        "  #        title={\n",
        "  #       'text': \"أداء جميع الطلبة في مادة معينة\",\n",
        "  #       'y':0.9,\n",
        "  #       'x':0.5,\n",
        "  #       'xanchor': 'center',\n",
        "  #       'yanchor': 'top'}) \n",
        "#----------------------------------------------------------------------\n",
        "  ax[0,0].grid()\n",
        "  ax[0,1].grid()\n",
        "  ax[1,0].grid()\n",
        "  ax[1,1].xaxis.set_major_formatter(DateFormatter(\"%Y-%b\"))\n",
        "  ax[1,0].xaxis.set_major_formatter(DateFormatter(\"%Y-%b\"))\n",
        "\n",
        "  #---------------------------------------\n",
        "  ax[0,0].legend()\n",
        "  ax3.legend()\n",
        "  ax[0,1].legend()\n",
        "      \n",
        "  plt.show()\n"
      ],
      "execution_count": null,
      "outputs": [
        {
          "output_type": "display_data",
          "data": {
            "application/vnd.jupyter.widget-view+json": {
              "model_id": "7e04a0bee8d34e86bc738303143b0597",
              "version_minor": 0,
              "version_major": 2
            },
            "text/plain": [
              "interactive(children=(Dropdown(description='std', options=('081067607', '140938838', '071084462', '090926849',…"
            ]
          },
          "metadata": {
            "tags": []
          }
        }
      ]
    },
    {
      "cell_type": "code",
      "metadata": {
        "id": "lqd2e23X3Loj"
      },
      "source": [
        "import plotly_express as go"
      ],
      "execution_count": null,
      "outputs": []
    },
    {
      "cell_type": "code",
      "metadata": {
        "colab": {
          "base_uri": "https://localhost:8080/",
          "height": 382,
          "referenced_widgets": [
            "6df81aced5964f8283114e8988656a3e",
            "147e51506770456db1623caf8449cbda",
            "761139374e4549d58f9817704f73563f",
            "df73dcb6c36244ab818f7fb80cbc156f",
            "c6dc137275e443d088c79c0f30831dd0",
            "8de266c6d1d74f269139013eec39ef2c",
            "12488e614529456f82a732fab9624159"
          ]
        },
        "id": "CvhqA2fj799L",
        "outputId": "02f02a26-d663-45f3-d787-ff5558cc6cc0"
      },
      "source": [
        "\n",
        "\n",
        "\n",
        "@interact(sbj=df_avt.Course_code.unique())\n",
        "def plot_subject(sbj):\n",
        "  x = np.arange(10)\n",
        "  # layout = go.Layout(\n",
        "  #   autosize=False,\n",
        "  #   width= 1200 , height= 600 )\n",
        "  \n",
        "  fig = go.Figure(data=go.Scatter( \n",
        "      x=df_avt[df_avt.Course_code==sbj].loc[\"2020-09\":\"2021-09\", \"Act_submit_Time\"].sort_index(), \n",
        "      y=df_avt[df_avt.Course_code==sbj].loc[\"2020-09\":\"2021-09\", \"Act_mark\"].sort_index()\n",
        "      , mode='lines+markers') , layout=layout )\n",
        "  \n",
        "  fig.update_layout(hovermode=\"x\" , \n",
        "      # title=\"أداء جميع الطلبة في مادة معينة\",\n",
        "    xaxis_title=\"Submit Time\",\n",
        "    yaxis_title=\"Mark\",\n",
        "    # font=dict(\n",
        "    #     family=\"Courier New, monospace\",\n",
        "    #     size=18,\n",
        "    #     color=\"#7f7f7f\")\n",
        "     title={\n",
        "        'text': \"أداء جميع الطلبة في مادة معينة\",\n",
        "        'y':0.9,\n",
        "        'x':0.5,\n",
        "        'xanchor': 'center',\n",
        "        'yanchor': 'top'}) \n",
        "  fig.show()\n"
      ],
      "execution_count": null,
      "outputs": [
        {
          "output_type": "display_data",
          "data": {
            "application/vnd.jupyter.widget-view+json": {
              "model_id": "6df81aced5964f8283114e8988656a3e",
              "version_minor": 0,
              "version_major": 2
            },
            "text/plain": [
              "interactive(children=(Dropdown(description='sbj', options=('g7_1', 'g7_4', 'g7_6', 'g7_2', 'g7_3', 'g7_5', 'g1…"
            ]
          },
          "metadata": {
            "tags": []
          }
        }
      ]
    },
    {
      "cell_type": "code",
      "metadata": {
        "id": "B3VNxGoJsyy-"
      },
      "source": [
        "#import plotly.express as px\n",
        "#fig=px.line(df_avt[df_avt.Course_code==\"g5_2\"].loc[\"2020-09\":\"2021-09\"].sort_index(), x=\"Act_submit_Time\", y=\"Act_mark\" )\n",
        "#fig.update_xaxes( rangeslider_visible=True )\n",
        "#fig.show()"
      ],
      "execution_count": null,
      "outputs": []
    },
    {
      "cell_type": "markdown",
      "metadata": {
        "id": "ST9xpUUMoDsv"
      },
      "source": [
        "##  Data Preparation"
      ]
    },
    {
      "cell_type": "code",
      "metadata": {
        "id": "90q7x0R0nQ_H"
      },
      "source": [
        "#df_avt[(df_avt.Course_code==\"g7_6\")][\"Activity_id\"].nunique()"
      ],
      "execution_count": null,
      "outputs": []
    },
    {
      "cell_type": "code",
      "metadata": {
        "id": "b8UIqgkMqJ3r"
      },
      "source": [
        "#df_avt[(df_avt.Course_code==\"g5_2\") & (df_avt.Activity_type==\"0\")][\"Activity_id\"].value_counts()"
      ],
      "execution_count": null,
      "outputs": []
    },
    {
      "cell_type": "code",
      "metadata": {
        "id": "YteI7NOtqtaY"
      },
      "source": [
        "#df_avt[(df_avt.Course_code==\"g5_2\") & (df_avt.Activity_type==\"0\")][\"Activity_id\"].nunique()"
      ],
      "execution_count": null,
      "outputs": []
    },
    {
      "cell_type": "code",
      "metadata": {
        "colab": {
          "base_uri": "https://localhost:8080/",
          "height": 450
        },
        "id": "iChGiCDEp3n5",
        "outputId": "f523822f-2469-4671-e020-2f9772566f11"
      },
      "source": [
        "pd.pivot_table(df_avt, index=[\"Course_code\", \"Activity_type\"],values=\"Activity_id\" , \n",
        "               aggfunc=\"count\")"
      ],
      "execution_count": null,
      "outputs": [
        {
          "output_type": "execute_result",
          "data": {
            "text/html": [
              "<div>\n",
              "<style scoped>\n",
              "    .dataframe tbody tr th:only-of-type {\n",
              "        vertical-align: middle;\n",
              "    }\n",
              "\n",
              "    .dataframe tbody tr th {\n",
              "        vertical-align: top;\n",
              "    }\n",
              "\n",
              "    .dataframe thead th {\n",
              "        text-align: right;\n",
              "    }\n",
              "</style>\n",
              "<table border=\"1\" class=\"dataframe\">\n",
              "  <thead>\n",
              "    <tr style=\"text-align: right;\">\n",
              "      <th></th>\n",
              "      <th></th>\n",
              "      <th>Activity_id</th>\n",
              "    </tr>\n",
              "    <tr>\n",
              "      <th>Course_code</th>\n",
              "      <th>Activity_type</th>\n",
              "      <th></th>\n",
              "    </tr>\n",
              "  </thead>\n",
              "  <tbody>\n",
              "    <tr>\n",
              "      <th rowspan=\"2\" valign=\"top\">g1_1</th>\n",
              "      <th>0</th>\n",
              "      <td>61</td>\n",
              "    </tr>\n",
              "    <tr>\n",
              "      <th>1</th>\n",
              "      <td>79</td>\n",
              "    </tr>\n",
              "    <tr>\n",
              "      <th rowspan=\"2\" valign=\"top\">g1_2</th>\n",
              "      <th>0</th>\n",
              "      <td>66</td>\n",
              "    </tr>\n",
              "    <tr>\n",
              "      <th>1</th>\n",
              "      <td>70</td>\n",
              "    </tr>\n",
              "    <tr>\n",
              "      <th>g1_3</th>\n",
              "      <th>0</th>\n",
              "      <td>63</td>\n",
              "    </tr>\n",
              "    <tr>\n",
              "      <th>...</th>\n",
              "      <th>...</th>\n",
              "      <td>...</td>\n",
              "    </tr>\n",
              "    <tr>\n",
              "      <th>g9_4</th>\n",
              "      <th>1</th>\n",
              "      <td>69</td>\n",
              "    </tr>\n",
              "    <tr>\n",
              "      <th rowspan=\"2\" valign=\"top\">g9_5</th>\n",
              "      <th>0</th>\n",
              "      <td>73</td>\n",
              "    </tr>\n",
              "    <tr>\n",
              "      <th>1</th>\n",
              "      <td>58</td>\n",
              "    </tr>\n",
              "    <tr>\n",
              "      <th rowspan=\"2\" valign=\"top\">g9_6</th>\n",
              "      <th>0</th>\n",
              "      <td>79</td>\n",
              "    </tr>\n",
              "    <tr>\n",
              "      <th>1</th>\n",
              "      <td>76</td>\n",
              "    </tr>\n",
              "  </tbody>\n",
              "</table>\n",
              "<p>108 rows × 1 columns</p>\n",
              "</div>"
            ],
            "text/plain": [
              "                           Activity_id\n",
              "Course_code Activity_type             \n",
              "g1_1        0                       61\n",
              "            1                       79\n",
              "g1_2        0                       66\n",
              "            1                       70\n",
              "g1_3        0                       63\n",
              "...                                ...\n",
              "g9_4        1                       69\n",
              "g9_5        0                       73\n",
              "            1                       58\n",
              "g9_6        0                       79\n",
              "            1                       76\n",
              "\n",
              "[108 rows x 1 columns]"
            ]
          },
          "metadata": {
            "tags": []
          },
          "execution_count": 32
        }
      ]
    },
    {
      "cell_type": "code",
      "metadata": {
        "id": "AJrp4OjP51ls"
      },
      "source": [
        "#df_avt.keys()"
      ],
      "execution_count": null,
      "outputs": []
    },
    {
      "cell_type": "code",
      "metadata": {
        "id": "b35Utg1IA38W"
      },
      "source": [
        "df_avt.drop([  \"Unit_id\", \"Chapter_id\", \"Lesson_id\"], inplace=True, axis=1)"
      ],
      "execution_count": null,
      "outputs": []
    },
    {
      "cell_type": "code",
      "metadata": {
        "id": "VL8FNwt-zSlQ"
      },
      "source": [
        "\n",
        "df_avt.set_index(\"Act_submit_Time\", inplace=True, drop=True)"
      ],
      "execution_count": null,
      "outputs": []
    },
    {
      "cell_type": "code",
      "metadata": {
        "id": "JKHLt0kh2W9o"
      },
      "source": [
        "df_avt.index=pd.to_datetime(df_avt.index)"
      ],
      "execution_count": null,
      "outputs": []
    },
    {
      "cell_type": "code",
      "metadata": {
        "colab": {
          "base_uri": "https://localhost:8080/",
          "height": 235
        },
        "id": "I8Pmaf806Use",
        "outputId": "025b6cf7-c4af-4c8a-8ce5-e5552849c437"
      },
      "source": [
        "df_avt.head()"
      ],
      "execution_count": null,
      "outputs": [
        {
          "output_type": "execute_result",
          "data": {
            "text/html": [
              "<div>\n",
              "<style scoped>\n",
              "    .dataframe tbody tr th:only-of-type {\n",
              "        vertical-align: middle;\n",
              "    }\n",
              "\n",
              "    .dataframe tbody tr th {\n",
              "        vertical-align: top;\n",
              "    }\n",
              "\n",
              "    .dataframe thead th {\n",
              "        text-align: right;\n",
              "    }\n",
              "</style>\n",
              "<table border=\"1\" class=\"dataframe\">\n",
              "  <thead>\n",
              "    <tr style=\"text-align: right;\">\n",
              "      <th></th>\n",
              "      <th>student_ID</th>\n",
              "      <th>Course_code</th>\n",
              "      <th>Activity_id</th>\n",
              "      <th>Activity_type</th>\n",
              "      <th>Act_diff</th>\n",
              "      <th>Act_cp</th>\n",
              "      <th>Act_time</th>\n",
              "      <th>Act_mark</th>\n",
              "    </tr>\n",
              "    <tr>\n",
              "      <th>Act_submit_Time</th>\n",
              "      <th></th>\n",
              "      <th></th>\n",
              "      <th></th>\n",
              "      <th></th>\n",
              "      <th></th>\n",
              "      <th></th>\n",
              "      <th></th>\n",
              "      <th></th>\n",
              "    </tr>\n",
              "  </thead>\n",
              "  <tbody>\n",
              "    <tr>\n",
              "      <th>2020-12-27 18:41:56</th>\n",
              "      <td>081067607</td>\n",
              "      <td>g7_1</td>\n",
              "      <td>g7_1-Act_12</td>\n",
              "      <td>0</td>\n",
              "      <td>2</td>\n",
              "      <td>1</td>\n",
              "      <td>59</td>\n",
              "      <td>1.13</td>\n",
              "    </tr>\n",
              "    <tr>\n",
              "      <th>2020-01-28 18:03:35</th>\n",
              "      <td>081067607</td>\n",
              "      <td>g7_4</td>\n",
              "      <td>g7_4-Act_14</td>\n",
              "      <td>0</td>\n",
              "      <td>4</td>\n",
              "      <td>1</td>\n",
              "      <td>212</td>\n",
              "      <td>4.84</td>\n",
              "    </tr>\n",
              "    <tr>\n",
              "      <th>2020-04-07 09:38:50</th>\n",
              "      <td>081067607</td>\n",
              "      <td>g7_6</td>\n",
              "      <td>g7_6-Act_19</td>\n",
              "      <td>1</td>\n",
              "      <td>1</td>\n",
              "      <td>2</td>\n",
              "      <td>461</td>\n",
              "      <td>3.67</td>\n",
              "    </tr>\n",
              "    <tr>\n",
              "      <th>2020-09-13 17:38:42</th>\n",
              "      <td>081067607</td>\n",
              "      <td>g7_4</td>\n",
              "      <td>g7_4-Act_4</td>\n",
              "      <td>0</td>\n",
              "      <td>2</td>\n",
              "      <td>1</td>\n",
              "      <td>234</td>\n",
              "      <td>3.63</td>\n",
              "    </tr>\n",
              "    <tr>\n",
              "      <th>2020-11-09 00:48:50</th>\n",
              "      <td>081067607</td>\n",
              "      <td>g7_2</td>\n",
              "      <td>g7_2-Act_8</td>\n",
              "      <td>1</td>\n",
              "      <td>3</td>\n",
              "      <td>1</td>\n",
              "      <td>617</td>\n",
              "      <td>4.00</td>\n",
              "    </tr>\n",
              "  </tbody>\n",
              "</table>\n",
              "</div>"
            ],
            "text/plain": [
              "                    student_ID Course_code  ... Act_time Act_mark\n",
              "Act_submit_Time                             ...                  \n",
              "2020-12-27 18:41:56  081067607        g7_1  ...       59     1.13\n",
              "2020-01-28 18:03:35  081067607        g7_4  ...      212     4.84\n",
              "2020-04-07 09:38:50  081067607        g7_6  ...      461     3.67\n",
              "2020-09-13 17:38:42  081067607        g7_4  ...      234     3.63\n",
              "2020-11-09 00:48:50  081067607        g7_2  ...      617     4.00\n",
              "\n",
              "[5 rows x 8 columns]"
            ]
          },
          "metadata": {
            "tags": []
          },
          "execution_count": 37
        }
      ]
    },
    {
      "cell_type": "code",
      "metadata": {
        "id": "bDvpowzWQOiZ"
      },
      "source": [
        "# df_avt.groupby([\"Course_code\", \"Activity_type\"]).rolling(\"7d\", yearfirst=True)[\"Act_mark\"].mean()"
      ],
      "execution_count": null,
      "outputs": []
    },
    {
      "cell_type": "code",
      "metadata": {
        "id": "koC1IzSDNOb_"
      },
      "source": [
        "#  4  dashboard\n",
        "#plt.rcParams.update({'font.size': 12})\n",
        "#df_avt[[\"Act_mark\"]].groupby(pd.Grouper(freq=\"W\")).agg(\"mean\").plot()"
      ],
      "execution_count": null,
      "outputs": []
    },
    {
      "cell_type": "code",
      "metadata": {
        "colab": {
          "base_uri": "https://localhost:8080/",
          "height": 235
        },
        "id": "n-Q9mnwaNNlI",
        "outputId": "7d9fda67-af5c-4980-e3a2-bfd15a073b92"
      },
      "source": [
        "df_avt.head()"
      ],
      "execution_count": null,
      "outputs": [
        {
          "output_type": "execute_result",
          "data": {
            "text/html": [
              "<div>\n",
              "<style scoped>\n",
              "    .dataframe tbody tr th:only-of-type {\n",
              "        vertical-align: middle;\n",
              "    }\n",
              "\n",
              "    .dataframe tbody tr th {\n",
              "        vertical-align: top;\n",
              "    }\n",
              "\n",
              "    .dataframe thead th {\n",
              "        text-align: right;\n",
              "    }\n",
              "</style>\n",
              "<table border=\"1\" class=\"dataframe\">\n",
              "  <thead>\n",
              "    <tr style=\"text-align: right;\">\n",
              "      <th></th>\n",
              "      <th>student_ID</th>\n",
              "      <th>Course_code</th>\n",
              "      <th>Activity_id</th>\n",
              "      <th>Activity_type</th>\n",
              "      <th>Act_diff</th>\n",
              "      <th>Act_cp</th>\n",
              "      <th>Act_time</th>\n",
              "      <th>Act_mark</th>\n",
              "    </tr>\n",
              "    <tr>\n",
              "      <th>Act_submit_Time</th>\n",
              "      <th></th>\n",
              "      <th></th>\n",
              "      <th></th>\n",
              "      <th></th>\n",
              "      <th></th>\n",
              "      <th></th>\n",
              "      <th></th>\n",
              "      <th></th>\n",
              "    </tr>\n",
              "  </thead>\n",
              "  <tbody>\n",
              "    <tr>\n",
              "      <th>2020-12-27 18:41:56</th>\n",
              "      <td>081067607</td>\n",
              "      <td>g7_1</td>\n",
              "      <td>g7_1-Act_12</td>\n",
              "      <td>0</td>\n",
              "      <td>2</td>\n",
              "      <td>1</td>\n",
              "      <td>59</td>\n",
              "      <td>1.13</td>\n",
              "    </tr>\n",
              "    <tr>\n",
              "      <th>2020-01-28 18:03:35</th>\n",
              "      <td>081067607</td>\n",
              "      <td>g7_4</td>\n",
              "      <td>g7_4-Act_14</td>\n",
              "      <td>0</td>\n",
              "      <td>4</td>\n",
              "      <td>1</td>\n",
              "      <td>212</td>\n",
              "      <td>4.84</td>\n",
              "    </tr>\n",
              "    <tr>\n",
              "      <th>2020-04-07 09:38:50</th>\n",
              "      <td>081067607</td>\n",
              "      <td>g7_6</td>\n",
              "      <td>g7_6-Act_19</td>\n",
              "      <td>1</td>\n",
              "      <td>1</td>\n",
              "      <td>2</td>\n",
              "      <td>461</td>\n",
              "      <td>3.67</td>\n",
              "    </tr>\n",
              "    <tr>\n",
              "      <th>2020-09-13 17:38:42</th>\n",
              "      <td>081067607</td>\n",
              "      <td>g7_4</td>\n",
              "      <td>g7_4-Act_4</td>\n",
              "      <td>0</td>\n",
              "      <td>2</td>\n",
              "      <td>1</td>\n",
              "      <td>234</td>\n",
              "      <td>3.63</td>\n",
              "    </tr>\n",
              "    <tr>\n",
              "      <th>2020-11-09 00:48:50</th>\n",
              "      <td>081067607</td>\n",
              "      <td>g7_2</td>\n",
              "      <td>g7_2-Act_8</td>\n",
              "      <td>1</td>\n",
              "      <td>3</td>\n",
              "      <td>1</td>\n",
              "      <td>617</td>\n",
              "      <td>4.00</td>\n",
              "    </tr>\n",
              "  </tbody>\n",
              "</table>\n",
              "</div>"
            ],
            "text/plain": [
              "                    student_ID Course_code  ... Act_time Act_mark\n",
              "Act_submit_Time                             ...                  \n",
              "2020-12-27 18:41:56  081067607        g7_1  ...       59     1.13\n",
              "2020-01-28 18:03:35  081067607        g7_4  ...      212     4.84\n",
              "2020-04-07 09:38:50  081067607        g7_6  ...      461     3.67\n",
              "2020-09-13 17:38:42  081067607        g7_4  ...      234     3.63\n",
              "2020-11-09 00:48:50  081067607        g7_2  ...      617     4.00\n",
              "\n",
              "[5 rows x 8 columns]"
            ]
          },
          "metadata": {
            "tags": []
          },
          "execution_count": 40
        }
      ]
    },
    {
      "cell_type": "code",
      "metadata": {
        "id": "uV-fWSvauQ5q"
      },
      "source": [
        "df_act_Stat=pd.pivot_table(df_avt, index=[\"Course_code\",\"Activity_type\" ], \n",
        "               values=[\"Act_mark\", \"Act_diff\", \"Act_cp\", \"Act_time\" , \"Activity_id\"]   , aggfunc={\n",
        "                   \"Act_mark\":(\"mean\",\"max\", \"count\", \"min\"), \n",
        "                   \"Act_diff\": \"mean\",\n",
        "                   \"Act_cp\": \"mean\",\n",
        "                   \"Act_time\": (\"mean\", \"max\", \"min\"),\n",
        "                   \"Activity_id\": lambda x: x.nunique()\n",
        "               }).rename(columns={\n",
        "                   \"Activity_id\" :  \"Activities_Count\"  #  number of activities\n",
        "#                 \"Act_mark\":\"Std_act_m\", \n",
        "#                    \"Act_diff\": \"Std_act_d\",\n",
        "#                    \"Act_cp\": \"Std_act_cp\",\n",
        "#                    \"Act_time\": \"Std_act_t\"  \n",
        "\n",
        "               })\n"
      ],
      "execution_count": null,
      "outputs": []
    },
    {
      "cell_type": "code",
      "metadata": {
        "colab": {
          "base_uri": "https://localhost:8080/",
          "height": 481
        },
        "id": "lJWjtGDt-dLF",
        "outputId": "34c348d3-7217-478b-e80d-b31e51bfd6e6"
      },
      "source": [
        "df_act_Stat.sample(100)"
      ],
      "execution_count": null,
      "outputs": [
        {
          "output_type": "execute_result",
          "data": {
            "text/html": [
              "<div>\n",
              "<style scoped>\n",
              "    .dataframe tbody tr th:only-of-type {\n",
              "        vertical-align: middle;\n",
              "    }\n",
              "\n",
              "    .dataframe tbody tr th {\n",
              "        vertical-align: top;\n",
              "    }\n",
              "\n",
              "    .dataframe thead tr th {\n",
              "        text-align: left;\n",
              "    }\n",
              "\n",
              "    .dataframe thead tr:last-of-type th {\n",
              "        text-align: right;\n",
              "    }\n",
              "</style>\n",
              "<table border=\"1\" class=\"dataframe\">\n",
              "  <thead>\n",
              "    <tr>\n",
              "      <th></th>\n",
              "      <th></th>\n",
              "      <th>Act_cp</th>\n",
              "      <th>Act_diff</th>\n",
              "      <th colspan=\"4\" halign=\"left\">Act_mark</th>\n",
              "      <th colspan=\"3\" halign=\"left\">Act_time</th>\n",
              "      <th>Activities_Count</th>\n",
              "    </tr>\n",
              "    <tr>\n",
              "      <th></th>\n",
              "      <th></th>\n",
              "      <th>mean</th>\n",
              "      <th>mean</th>\n",
              "      <th>count</th>\n",
              "      <th>max</th>\n",
              "      <th>mean</th>\n",
              "      <th>min</th>\n",
              "      <th>max</th>\n",
              "      <th>mean</th>\n",
              "      <th>min</th>\n",
              "      <th>&lt;lambda&gt;</th>\n",
              "    </tr>\n",
              "    <tr>\n",
              "      <th>Course_code</th>\n",
              "      <th>Activity_type</th>\n",
              "      <th></th>\n",
              "      <th></th>\n",
              "      <th></th>\n",
              "      <th></th>\n",
              "      <th></th>\n",
              "      <th></th>\n",
              "      <th></th>\n",
              "      <th></th>\n",
              "      <th></th>\n",
              "      <th></th>\n",
              "    </tr>\n",
              "  </thead>\n",
              "  <tbody>\n",
              "    <tr>\n",
              "      <th>g9_1</th>\n",
              "      <th>0</th>\n",
              "      <td>1.540984</td>\n",
              "      <td>2.540984</td>\n",
              "      <td>61</td>\n",
              "      <td>9.94</td>\n",
              "      <td>4.557705</td>\n",
              "      <td>0.02</td>\n",
              "      <td>894.0</td>\n",
              "      <td>441.491803</td>\n",
              "      <td>59.0</td>\n",
              "      <td>19</td>\n",
              "    </tr>\n",
              "    <tr>\n",
              "      <th>g2_1</th>\n",
              "      <th>1</th>\n",
              "      <td>1.565217</td>\n",
              "      <td>2.543478</td>\n",
              "      <td>46</td>\n",
              "      <td>9.84</td>\n",
              "      <td>5.524783</td>\n",
              "      <td>0.07</td>\n",
              "      <td>865.0</td>\n",
              "      <td>472.934783</td>\n",
              "      <td>69.0</td>\n",
              "      <td>17</td>\n",
              "    </tr>\n",
              "    <tr>\n",
              "      <th>g4_2</th>\n",
              "      <th>1</th>\n",
              "      <td>1.480000</td>\n",
              "      <td>2.800000</td>\n",
              "      <td>75</td>\n",
              "      <td>9.84</td>\n",
              "      <td>4.930933</td>\n",
              "      <td>0.04</td>\n",
              "      <td>898.0</td>\n",
              "      <td>456.786667</td>\n",
              "      <td>33.0</td>\n",
              "      <td>18</td>\n",
              "    </tr>\n",
              "    <tr>\n",
              "      <th>g7_3</th>\n",
              "      <th>1</th>\n",
              "      <td>1.494253</td>\n",
              "      <td>2.655172</td>\n",
              "      <td>87</td>\n",
              "      <td>9.99</td>\n",
              "      <td>5.414713</td>\n",
              "      <td>0.28</td>\n",
              "      <td>880.0</td>\n",
              "      <td>455.597701</td>\n",
              "      <td>36.0</td>\n",
              "      <td>19</td>\n",
              "    </tr>\n",
              "    <tr>\n",
              "      <th>g2_2</th>\n",
              "      <th>0</th>\n",
              "      <td>1.460000</td>\n",
              "      <td>2.440000</td>\n",
              "      <td>50</td>\n",
              "      <td>9.99</td>\n",
              "      <td>4.728800</td>\n",
              "      <td>0.04</td>\n",
              "      <td>887.0</td>\n",
              "      <td>513.040000</td>\n",
              "      <td>63.0</td>\n",
              "      <td>18</td>\n",
              "    </tr>\n",
              "    <tr>\n",
              "      <th>...</th>\n",
              "      <th>...</th>\n",
              "      <td>...</td>\n",
              "      <td>...</td>\n",
              "      <td>...</td>\n",
              "      <td>...</td>\n",
              "      <td>...</td>\n",
              "      <td>...</td>\n",
              "      <td>...</td>\n",
              "      <td>...</td>\n",
              "      <td>...</td>\n",
              "      <td>...</td>\n",
              "    </tr>\n",
              "    <tr>\n",
              "      <th>g1_6</th>\n",
              "      <th>1</th>\n",
              "      <td>1.558442</td>\n",
              "      <td>2.558442</td>\n",
              "      <td>77</td>\n",
              "      <td>9.92</td>\n",
              "      <td>5.155195</td>\n",
              "      <td>0.13</td>\n",
              "      <td>898.0</td>\n",
              "      <td>459.311688</td>\n",
              "      <td>34.0</td>\n",
              "      <td>20</td>\n",
              "    </tr>\n",
              "    <tr>\n",
              "      <th>g3_3</th>\n",
              "      <th>0</th>\n",
              "      <td>1.520833</td>\n",
              "      <td>2.656250</td>\n",
              "      <td>96</td>\n",
              "      <td>9.93</td>\n",
              "      <td>5.236458</td>\n",
              "      <td>0.38</td>\n",
              "      <td>870.0</td>\n",
              "      <td>465.239583</td>\n",
              "      <td>44.0</td>\n",
              "      <td>20</td>\n",
              "    </tr>\n",
              "    <tr>\n",
              "      <th>g7_4</th>\n",
              "      <th>1</th>\n",
              "      <td>1.590361</td>\n",
              "      <td>2.421687</td>\n",
              "      <td>83</td>\n",
              "      <td>9.97</td>\n",
              "      <td>4.771325</td>\n",
              "      <td>0.05</td>\n",
              "      <td>872.0</td>\n",
              "      <td>412.180723</td>\n",
              "      <td>38.0</td>\n",
              "      <td>20</td>\n",
              "    </tr>\n",
              "    <tr>\n",
              "      <th>g8_4</th>\n",
              "      <th>1</th>\n",
              "      <td>1.526882</td>\n",
              "      <td>2.182796</td>\n",
              "      <td>93</td>\n",
              "      <td>9.85</td>\n",
              "      <td>4.906667</td>\n",
              "      <td>0.01</td>\n",
              "      <td>887.0</td>\n",
              "      <td>461.182796</td>\n",
              "      <td>37.0</td>\n",
              "      <td>19</td>\n",
              "    </tr>\n",
              "    <tr>\n",
              "      <th>g9_5</th>\n",
              "      <th>1</th>\n",
              "      <td>1.551724</td>\n",
              "      <td>2.465517</td>\n",
              "      <td>58</td>\n",
              "      <td>9.95</td>\n",
              "      <td>4.723793</td>\n",
              "      <td>0.04</td>\n",
              "      <td>887.0</td>\n",
              "      <td>543.086207</td>\n",
              "      <td>64.0</td>\n",
              "      <td>20</td>\n",
              "    </tr>\n",
              "  </tbody>\n",
              "</table>\n",
              "<p>100 rows × 10 columns</p>\n",
              "</div>"
            ],
            "text/plain": [
              "                             Act_cp  Act_diff  ... Act_time Activities_Count\n",
              "                               mean      mean  ...      min         <lambda>\n",
              "Course_code Activity_type                      ...                          \n",
              "g9_1        0              1.540984  2.540984  ...     59.0               19\n",
              "g2_1        1              1.565217  2.543478  ...     69.0               17\n",
              "g4_2        1              1.480000  2.800000  ...     33.0               18\n",
              "g7_3        1              1.494253  2.655172  ...     36.0               19\n",
              "g2_2        0              1.460000  2.440000  ...     63.0               18\n",
              "...                             ...       ...  ...      ...              ...\n",
              "g1_6        1              1.558442  2.558442  ...     34.0               20\n",
              "g3_3        0              1.520833  2.656250  ...     44.0               20\n",
              "g7_4        1              1.590361  2.421687  ...     38.0               20\n",
              "g8_4        1              1.526882  2.182796  ...     37.0               19\n",
              "g9_5        1              1.551724  2.465517  ...     64.0               20\n",
              "\n",
              "[100 rows x 10 columns]"
            ]
          },
          "metadata": {
            "tags": []
          },
          "execution_count": 42
        }
      ]
    },
    {
      "cell_type": "code",
      "metadata": {
        "id": "jDfjh-7BW5f7"
      },
      "source": [
        "df_act_Stat.columns=[f\"{i}_{j}\" for  i , j in df_act_Stat.columns]"
      ],
      "execution_count": null,
      "outputs": []
    },
    {
      "cell_type": "code",
      "metadata": {
        "colab": {
          "base_uri": "https://localhost:8080/",
          "height": 297
        },
        "id": "kTDEPIsiutvW",
        "outputId": "aa09394f-14dd-4d46-da5b-40cf88a312a3"
      },
      "source": [
        "df_avt[(df_avt.Course_code==\"g5_6\")&(df_avt.Activity_type==\"0\")].describe()"
      ],
      "execution_count": null,
      "outputs": [
        {
          "output_type": "execute_result",
          "data": {
            "text/html": [
              "<div>\n",
              "<style scoped>\n",
              "    .dataframe tbody tr th:only-of-type {\n",
              "        vertical-align: middle;\n",
              "    }\n",
              "\n",
              "    .dataframe tbody tr th {\n",
              "        vertical-align: top;\n",
              "    }\n",
              "\n",
              "    .dataframe thead th {\n",
              "        text-align: right;\n",
              "    }\n",
              "</style>\n",
              "<table border=\"1\" class=\"dataframe\">\n",
              "  <thead>\n",
              "    <tr style=\"text-align: right;\">\n",
              "      <th></th>\n",
              "      <th>Act_diff</th>\n",
              "      <th>Act_cp</th>\n",
              "      <th>Act_time</th>\n",
              "      <th>Act_mark</th>\n",
              "    </tr>\n",
              "  </thead>\n",
              "  <tbody>\n",
              "    <tr>\n",
              "      <th>count</th>\n",
              "      <td>67.000000</td>\n",
              "      <td>67.000000</td>\n",
              "      <td>67.000000</td>\n",
              "      <td>67.000000</td>\n",
              "    </tr>\n",
              "    <tr>\n",
              "      <th>mean</th>\n",
              "      <td>2.328358</td>\n",
              "      <td>1.432836</td>\n",
              "      <td>446.716418</td>\n",
              "      <td>4.917015</td>\n",
              "    </tr>\n",
              "    <tr>\n",
              "      <th>std</th>\n",
              "      <td>1.092510</td>\n",
              "      <td>0.499208</td>\n",
              "      <td>233.833974</td>\n",
              "      <td>2.610889</td>\n",
              "    </tr>\n",
              "    <tr>\n",
              "      <th>min</th>\n",
              "      <td>1.000000</td>\n",
              "      <td>1.000000</td>\n",
              "      <td>38.000000</td>\n",
              "      <td>0.080000</td>\n",
              "    </tr>\n",
              "    <tr>\n",
              "      <th>25%</th>\n",
              "      <td>1.000000</td>\n",
              "      <td>1.000000</td>\n",
              "      <td>309.500000</td>\n",
              "      <td>2.995000</td>\n",
              "    </tr>\n",
              "    <tr>\n",
              "      <th>50%</th>\n",
              "      <td>2.000000</td>\n",
              "      <td>1.000000</td>\n",
              "      <td>432.000000</td>\n",
              "      <td>5.040000</td>\n",
              "    </tr>\n",
              "    <tr>\n",
              "      <th>75%</th>\n",
              "      <td>3.000000</td>\n",
              "      <td>2.000000</td>\n",
              "      <td>617.000000</td>\n",
              "      <td>6.990000</td>\n",
              "    </tr>\n",
              "    <tr>\n",
              "      <th>max</th>\n",
              "      <td>4.000000</td>\n",
              "      <td>2.000000</td>\n",
              "      <td>858.000000</td>\n",
              "      <td>9.540000</td>\n",
              "    </tr>\n",
              "  </tbody>\n",
              "</table>\n",
              "</div>"
            ],
            "text/plain": [
              "        Act_diff     Act_cp    Act_time   Act_mark\n",
              "count  67.000000  67.000000   67.000000  67.000000\n",
              "mean    2.328358   1.432836  446.716418   4.917015\n",
              "std     1.092510   0.499208  233.833974   2.610889\n",
              "min     1.000000   1.000000   38.000000   0.080000\n",
              "25%     1.000000   1.000000  309.500000   2.995000\n",
              "50%     2.000000   1.000000  432.000000   5.040000\n",
              "75%     3.000000   2.000000  617.000000   6.990000\n",
              "max     4.000000   2.000000  858.000000   9.540000"
            ]
          },
          "metadata": {
            "tags": []
          },
          "execution_count": 44
        }
      ]
    },
    {
      "cell_type": "markdown",
      "metadata": {
        "id": "lT8hkF0GZmi0"
      },
      "source": [
        "## Students' Achievement Statistics  **"
      ]
    },
    {
      "cell_type": "code",
      "metadata": {
        "colab": {
          "base_uri": "https://localhost:8080/",
          "height": 266
        },
        "id": "NqbdT3ZicJ6B",
        "outputId": "96553088-c5f7-41ac-fb15-17f923c73d28"
      },
      "source": [
        "df_std_Stat=pd.pivot_table(df_avt, index=[\"student_ID\",\"Course_code\",\"Activity_type\" ], \n",
        "               values=[\"Act_mark\", \"Act_diff\", \"Act_cp\", \"Act_time\" ]   , aggfunc={\n",
        "                   \"Act_mark\":(\"mean\",\"max\", \"count\", np.std, \"last\"), \n",
        "                   \"Act_diff\": \"mean\",\n",
        "                   \"Act_cp\": \"mean\",\n",
        "                   \"Act_time\": (\"mean\", \"max\", np.std)\n",
        "               },  fill_value=0 ).rename(columns={\n",
        "                \"Act_mark\":\"Std_act_m\", \n",
        "                   \"Act_diff\": \"Std_act_d\",\n",
        "                   \"Act_cp\": \"Std_act_cp\",\n",
        "                   \"Act_time\": \"Std_act_t\"   \n",
        "\n",
        "               })\n",
        "df_std_Stat.head()"
      ],
      "execution_count": null,
      "outputs": [
        {
          "output_type": "execute_result",
          "data": {
            "text/html": [
              "<div>\n",
              "<style scoped>\n",
              "    .dataframe tbody tr th:only-of-type {\n",
              "        vertical-align: middle;\n",
              "    }\n",
              "\n",
              "    .dataframe tbody tr th {\n",
              "        vertical-align: top;\n",
              "    }\n",
              "\n",
              "    .dataframe thead tr th {\n",
              "        text-align: left;\n",
              "    }\n",
              "\n",
              "    .dataframe thead tr:last-of-type th {\n",
              "        text-align: right;\n",
              "    }\n",
              "</style>\n",
              "<table border=\"1\" class=\"dataframe\">\n",
              "  <thead>\n",
              "    <tr>\n",
              "      <th></th>\n",
              "      <th></th>\n",
              "      <th></th>\n",
              "      <th>Std_act_cp</th>\n",
              "      <th>Std_act_d</th>\n",
              "      <th colspan=\"5\" halign=\"left\">Std_act_m</th>\n",
              "      <th colspan=\"3\" halign=\"left\">Std_act_t</th>\n",
              "    </tr>\n",
              "    <tr>\n",
              "      <th></th>\n",
              "      <th></th>\n",
              "      <th></th>\n",
              "      <th>mean</th>\n",
              "      <th>mean</th>\n",
              "      <th>count</th>\n",
              "      <th>last</th>\n",
              "      <th>max</th>\n",
              "      <th>mean</th>\n",
              "      <th>std</th>\n",
              "      <th>max</th>\n",
              "      <th>mean</th>\n",
              "      <th>std</th>\n",
              "    </tr>\n",
              "    <tr>\n",
              "      <th>student_ID</th>\n",
              "      <th>Course_code</th>\n",
              "      <th>Activity_type</th>\n",
              "      <th></th>\n",
              "      <th></th>\n",
              "      <th></th>\n",
              "      <th></th>\n",
              "      <th></th>\n",
              "      <th></th>\n",
              "      <th></th>\n",
              "      <th></th>\n",
              "      <th></th>\n",
              "      <th></th>\n",
              "    </tr>\n",
              "  </thead>\n",
              "  <tbody>\n",
              "    <tr>\n",
              "      <th rowspan=\"5\" valign=\"top\">060102878</th>\n",
              "      <th>g9_1</th>\n",
              "      <th>1</th>\n",
              "      <td>1.6</td>\n",
              "      <td>2.6</td>\n",
              "      <td>5</td>\n",
              "      <td>6.36</td>\n",
              "      <td>6.67</td>\n",
              "      <td>4.842000</td>\n",
              "      <td>2.077997</td>\n",
              "      <td>821</td>\n",
              "      <td>596.8</td>\n",
              "      <td>285.493783</td>\n",
              "    </tr>\n",
              "    <tr>\n",
              "      <th>g9_2</th>\n",
              "      <th>1</th>\n",
              "      <td>1.0</td>\n",
              "      <td>3.5</td>\n",
              "      <td>2</td>\n",
              "      <td>3.28</td>\n",
              "      <td>3.28</td>\n",
              "      <td>3.175000</td>\n",
              "      <td>0.148492</td>\n",
              "      <td>438</td>\n",
              "      <td>236.0</td>\n",
              "      <td>285.671140</td>\n",
              "    </tr>\n",
              "    <tr>\n",
              "      <th rowspan=\"2\" valign=\"top\">g9_3</th>\n",
              "      <th>0</th>\n",
              "      <td>1.5</td>\n",
              "      <td>3.0</td>\n",
              "      <td>2</td>\n",
              "      <td>1.18</td>\n",
              "      <td>3.97</td>\n",
              "      <td>2.575000</td>\n",
              "      <td>1.972828</td>\n",
              "      <td>886</td>\n",
              "      <td>771.5</td>\n",
              "      <td>161.927453</td>\n",
              "    </tr>\n",
              "    <tr>\n",
              "      <th>1</th>\n",
              "      <td>1.0</td>\n",
              "      <td>4.0</td>\n",
              "      <td>1</td>\n",
              "      <td>3.14</td>\n",
              "      <td>3.14</td>\n",
              "      <td>3.140000</td>\n",
              "      <td>0.000000</td>\n",
              "      <td>314</td>\n",
              "      <td>314.0</td>\n",
              "      <td>0.000000</td>\n",
              "    </tr>\n",
              "    <tr>\n",
              "      <th>g9_4</th>\n",
              "      <th>0</th>\n",
              "      <td>2.0</td>\n",
              "      <td>2.0</td>\n",
              "      <td>3</td>\n",
              "      <td>8.06</td>\n",
              "      <td>8.06</td>\n",
              "      <td>5.456667</td>\n",
              "      <td>3.669337</td>\n",
              "      <td>788</td>\n",
              "      <td>665.0</td>\n",
              "      <td>145.763507</td>\n",
              "    </tr>\n",
              "  </tbody>\n",
              "</table>\n",
              "</div>"
            ],
            "text/plain": [
              "                                     Std_act_cp Std_act_d  ... Std_act_t            \n",
              "                                           mean      mean  ...      mean         std\n",
              "student_ID Course_code Activity_type                       ...                      \n",
              "060102878  g9_1        1                    1.6       2.6  ...     596.8  285.493783\n",
              "           g9_2        1                    1.0       3.5  ...     236.0  285.671140\n",
              "           g9_3        0                    1.5       3.0  ...     771.5  161.927453\n",
              "                       1                    1.0       4.0  ...     314.0    0.000000\n",
              "           g9_4        0                    2.0       2.0  ...     665.0  145.763507\n",
              "\n",
              "[5 rows x 10 columns]"
            ]
          },
          "metadata": {
            "tags": []
          },
          "execution_count": 45
        }
      ]
    },
    {
      "cell_type": "code",
      "metadata": {
        "colab": {
          "base_uri": "https://localhost:8080/",
          "height": 111
        },
        "id": "whp94LKSWfoY",
        "outputId": "a930398d-7111-4965-d967-f5237b6f861d"
      },
      "source": [
        "df_avt.sample()"
      ],
      "execution_count": null,
      "outputs": [
        {
          "output_type": "execute_result",
          "data": {
            "text/html": [
              "<div>\n",
              "<style scoped>\n",
              "    .dataframe tbody tr th:only-of-type {\n",
              "        vertical-align: middle;\n",
              "    }\n",
              "\n",
              "    .dataframe tbody tr th {\n",
              "        vertical-align: top;\n",
              "    }\n",
              "\n",
              "    .dataframe thead th {\n",
              "        text-align: right;\n",
              "    }\n",
              "</style>\n",
              "<table border=\"1\" class=\"dataframe\">\n",
              "  <thead>\n",
              "    <tr style=\"text-align: right;\">\n",
              "      <th></th>\n",
              "      <th>student_ID</th>\n",
              "      <th>Course_code</th>\n",
              "      <th>Activity_id</th>\n",
              "      <th>Activity_type</th>\n",
              "      <th>Act_diff</th>\n",
              "      <th>Act_cp</th>\n",
              "      <th>Act_time</th>\n",
              "      <th>Act_mark</th>\n",
              "    </tr>\n",
              "    <tr>\n",
              "      <th>Act_submit_Time</th>\n",
              "      <th></th>\n",
              "      <th></th>\n",
              "      <th></th>\n",
              "      <th></th>\n",
              "      <th></th>\n",
              "      <th></th>\n",
              "      <th></th>\n",
              "      <th></th>\n",
              "    </tr>\n",
              "  </thead>\n",
              "  <tbody>\n",
              "    <tr>\n",
              "      <th>2020-04-10 17:34:30</th>\n",
              "      <td>111048854</td>\n",
              "      <td>g4_1</td>\n",
              "      <td>g4_1-Act_17</td>\n",
              "      <td>0</td>\n",
              "      <td>2</td>\n",
              "      <td>2</td>\n",
              "      <td>180</td>\n",
              "      <td>4.02</td>\n",
              "    </tr>\n",
              "  </tbody>\n",
              "</table>\n",
              "</div>"
            ],
            "text/plain": [
              "                    student_ID Course_code  ... Act_time Act_mark\n",
              "Act_submit_Time                             ...                  \n",
              "2020-04-10 17:34:30  111048854        g4_1  ...      180     4.02\n",
              "\n",
              "[1 rows x 8 columns]"
            ]
          },
          "metadata": {
            "tags": []
          },
          "execution_count": 46
        }
      ]
    },
    {
      "cell_type": "code",
      "metadata": {
        "colab": {
          "base_uri": "https://localhost:8080/",
          "height": 142
        },
        "id": "0E65b4Z5zJUw",
        "outputId": "ca1638e1-0e62-47d6-d154-b482909e9d35"
      },
      "source": [
        "df_avt[(df_avt.student_ID==\"111048854\")& (df_avt.Course_code==\"g4_1\")]"
      ],
      "execution_count": null,
      "outputs": [
        {
          "output_type": "execute_result",
          "data": {
            "text/html": [
              "<div>\n",
              "<style scoped>\n",
              "    .dataframe tbody tr th:only-of-type {\n",
              "        vertical-align: middle;\n",
              "    }\n",
              "\n",
              "    .dataframe tbody tr th {\n",
              "        vertical-align: top;\n",
              "    }\n",
              "\n",
              "    .dataframe thead th {\n",
              "        text-align: right;\n",
              "    }\n",
              "</style>\n",
              "<table border=\"1\" class=\"dataframe\">\n",
              "  <thead>\n",
              "    <tr style=\"text-align: right;\">\n",
              "      <th></th>\n",
              "      <th>student_ID</th>\n",
              "      <th>Course_code</th>\n",
              "      <th>Activity_id</th>\n",
              "      <th>Activity_type</th>\n",
              "      <th>Act_diff</th>\n",
              "      <th>Act_cp</th>\n",
              "      <th>Act_time</th>\n",
              "      <th>Act_mark</th>\n",
              "    </tr>\n",
              "    <tr>\n",
              "      <th>Act_submit_Time</th>\n",
              "      <th></th>\n",
              "      <th></th>\n",
              "      <th></th>\n",
              "      <th></th>\n",
              "      <th></th>\n",
              "      <th></th>\n",
              "      <th></th>\n",
              "      <th></th>\n",
              "    </tr>\n",
              "  </thead>\n",
              "  <tbody>\n",
              "    <tr>\n",
              "      <th>2020-04-10 17:34:30</th>\n",
              "      <td>111048854</td>\n",
              "      <td>g4_1</td>\n",
              "      <td>g4_1-Act_17</td>\n",
              "      <td>0</td>\n",
              "      <td>2</td>\n",
              "      <td>2</td>\n",
              "      <td>180</td>\n",
              "      <td>4.02</td>\n",
              "    </tr>\n",
              "    <tr>\n",
              "      <th>2020-01-11 08:26:37</th>\n",
              "      <td>111048854</td>\n",
              "      <td>g4_1</td>\n",
              "      <td>g4_1-Act_13</td>\n",
              "      <td>1</td>\n",
              "      <td>1</td>\n",
              "      <td>2</td>\n",
              "      <td>154</td>\n",
              "      <td>0.66</td>\n",
              "    </tr>\n",
              "  </tbody>\n",
              "</table>\n",
              "</div>"
            ],
            "text/plain": [
              "                    student_ID Course_code  ... Act_time Act_mark\n",
              "Act_submit_Time                             ...                  \n",
              "2020-04-10 17:34:30  111048854        g4_1  ...      180     4.02\n",
              "2020-01-11 08:26:37  111048854        g4_1  ...      154     0.66\n",
              "\n",
              "[2 rows x 8 columns]"
            ]
          },
          "metadata": {
            "tags": []
          },
          "execution_count": 47
        }
      ]
    },
    {
      "cell_type": "code",
      "metadata": {
        "id": "wsIADVEGjvd0"
      },
      "source": [
        "df_std_Stat.columns=[f\"{i}_{j}\" for  i , j in df_std_Stat.columns]"
      ],
      "execution_count": null,
      "outputs": []
    },
    {
      "cell_type": "code",
      "metadata": {
        "colab": {
          "base_uri": "https://localhost:8080/",
          "height": 255
        },
        "id": "Aex8ie9Kf8ID",
        "outputId": "721e7636-c123-4b7b-9b0e-6b0c3ce8c9f0"
      },
      "source": [
        "df_std_Stat.sample(5)"
      ],
      "execution_count": null,
      "outputs": [
        {
          "output_type": "execute_result",
          "data": {
            "text/html": [
              "<div>\n",
              "<style scoped>\n",
              "    .dataframe tbody tr th:only-of-type {\n",
              "        vertical-align: middle;\n",
              "    }\n",
              "\n",
              "    .dataframe tbody tr th {\n",
              "        vertical-align: top;\n",
              "    }\n",
              "\n",
              "    .dataframe thead th {\n",
              "        text-align: right;\n",
              "    }\n",
              "</style>\n",
              "<table border=\"1\" class=\"dataframe\">\n",
              "  <thead>\n",
              "    <tr style=\"text-align: right;\">\n",
              "      <th></th>\n",
              "      <th></th>\n",
              "      <th></th>\n",
              "      <th>Std_act_cp_mean</th>\n",
              "      <th>Std_act_d_mean</th>\n",
              "      <th>Std_act_m_count</th>\n",
              "      <th>Std_act_m_last</th>\n",
              "      <th>Std_act_m_max</th>\n",
              "      <th>Std_act_m_mean</th>\n",
              "      <th>Std_act_m_std</th>\n",
              "      <th>Std_act_t_max</th>\n",
              "      <th>Std_act_t_mean</th>\n",
              "      <th>Std_act_t_std</th>\n",
              "    </tr>\n",
              "    <tr>\n",
              "      <th>student_ID</th>\n",
              "      <th>Course_code</th>\n",
              "      <th>Activity_type</th>\n",
              "      <th></th>\n",
              "      <th></th>\n",
              "      <th></th>\n",
              "      <th></th>\n",
              "      <th></th>\n",
              "      <th></th>\n",
              "      <th></th>\n",
              "      <th></th>\n",
              "      <th></th>\n",
              "      <th></th>\n",
              "    </tr>\n",
              "  </thead>\n",
              "  <tbody>\n",
              "    <tr>\n",
              "      <th>120709678</th>\n",
              "      <th>g3_1</th>\n",
              "      <th>1</th>\n",
              "      <td>1.666667</td>\n",
              "      <td>3.0</td>\n",
              "      <td>3</td>\n",
              "      <td>4.50</td>\n",
              "      <td>5.70</td>\n",
              "      <td>4.616667</td>\n",
              "      <td>1.029968</td>\n",
              "      <td>857</td>\n",
              "      <td>418.333333</td>\n",
              "      <td>393.351412</td>\n",
              "    </tr>\n",
              "    <tr>\n",
              "      <th>070977570</th>\n",
              "      <th>g8_5</th>\n",
              "      <th>0</th>\n",
              "      <td>2.000000</td>\n",
              "      <td>2.0</td>\n",
              "      <td>1</td>\n",
              "      <td>9.78</td>\n",
              "      <td>9.78</td>\n",
              "      <td>9.780000</td>\n",
              "      <td>0.000000</td>\n",
              "      <td>531</td>\n",
              "      <td>531.000000</td>\n",
              "      <td>0.000000</td>\n",
              "    </tr>\n",
              "    <tr>\n",
              "      <th>080403576</th>\n",
              "      <th>g7_4</th>\n",
              "      <th>0</th>\n",
              "      <td>1.000000</td>\n",
              "      <td>2.0</td>\n",
              "      <td>2</td>\n",
              "      <td>1.67</td>\n",
              "      <td>7.84</td>\n",
              "      <td>4.755000</td>\n",
              "      <td>4.362849</td>\n",
              "      <td>747</td>\n",
              "      <td>543.000000</td>\n",
              "      <td>288.499567</td>\n",
              "    </tr>\n",
              "    <tr>\n",
              "      <th>140513223</th>\n",
              "      <th>g1_2</th>\n",
              "      <th>1</th>\n",
              "      <td>2.000000</td>\n",
              "      <td>2.5</td>\n",
              "      <td>2</td>\n",
              "      <td>1.96</td>\n",
              "      <td>8.45</td>\n",
              "      <td>5.205000</td>\n",
              "      <td>4.589123</td>\n",
              "      <td>300</td>\n",
              "      <td>260.000000</td>\n",
              "      <td>56.568542</td>\n",
              "    </tr>\n",
              "    <tr>\n",
              "      <th>130699200</th>\n",
              "      <th>g2_4</th>\n",
              "      <th>0</th>\n",
              "      <td>1.500000</td>\n",
              "      <td>2.5</td>\n",
              "      <td>2</td>\n",
              "      <td>0.82</td>\n",
              "      <td>8.41</td>\n",
              "      <td>4.615000</td>\n",
              "      <td>5.366940</td>\n",
              "      <td>432</td>\n",
              "      <td>337.500000</td>\n",
              "      <td>133.643182</td>\n",
              "    </tr>\n",
              "  </tbody>\n",
              "</table>\n",
              "</div>"
            ],
            "text/plain": [
              "                                      Std_act_cp_mean  ...  Std_act_t_std\n",
              "student_ID Course_code Activity_type                   ...               \n",
              "120709678  g3_1        1                     1.666667  ...     393.351412\n",
              "070977570  g8_5        0                     2.000000  ...       0.000000\n",
              "080403576  g7_4        0                     1.000000  ...     288.499567\n",
              "140513223  g1_2        1                     2.000000  ...      56.568542\n",
              "130699200  g2_4        0                     1.500000  ...     133.643182\n",
              "\n",
              "[5 rows x 10 columns]"
            ]
          },
          "metadata": {
            "tags": []
          },
          "execution_count": 49
        }
      ]
    },
    {
      "cell_type": "markdown",
      "metadata": {
        "id": "8HZkUeNRaSam"
      },
      "source": [
        "- Ranking\n",
        "\n",
        "$$\\Large score=\\log(\\frac{\\text{Qz_Max_time}}{\\text{Qz_Avg_tim}}+\\text{Qz_avg_diff*Qz_Avg_cp})*\\frac{\\text{Qz_Avg_mark}^2}{\\text{Qz_Max_mark}}$$"
      ]
    },
    {
      "cell_type": "code",
      "metadata": {
        "id": "gjiNBNDYdoDX"
      },
      "source": [
        "df_std_Stat[\"Act_score\"]=np.log1p( \n",
        "    df_std_Stat.Std_act_t_max/df_std_Stat.Std_act_t_mean +df_std_Stat.Std_act_d_mean* df_std_Stat.Std_act_cp_mean\n",
        ")*df_std_Stat[\"Std_act_m_max\"]**2/df_std_Stat.Std_act_m_mean"
      ],
      "execution_count": null,
      "outputs": []
    },
    {
      "cell_type": "code",
      "metadata": {
        "colab": {
          "base_uri": "https://localhost:8080/",
          "height": 255
        },
        "id": "ICHz5QGbfdVn",
        "outputId": "9ad47aef-c497-4953-9c1a-e5fcb5d589c5"
      },
      "source": [
        "df_std_Stat.head()"
      ],
      "execution_count": null,
      "outputs": [
        {
          "output_type": "execute_result",
          "data": {
            "text/html": [
              "<div>\n",
              "<style scoped>\n",
              "    .dataframe tbody tr th:only-of-type {\n",
              "        vertical-align: middle;\n",
              "    }\n",
              "\n",
              "    .dataframe tbody tr th {\n",
              "        vertical-align: top;\n",
              "    }\n",
              "\n",
              "    .dataframe thead th {\n",
              "        text-align: right;\n",
              "    }\n",
              "</style>\n",
              "<table border=\"1\" class=\"dataframe\">\n",
              "  <thead>\n",
              "    <tr style=\"text-align: right;\">\n",
              "      <th></th>\n",
              "      <th></th>\n",
              "      <th></th>\n",
              "      <th>Std_act_cp_mean</th>\n",
              "      <th>Std_act_d_mean</th>\n",
              "      <th>Std_act_m_count</th>\n",
              "      <th>Std_act_m_last</th>\n",
              "      <th>Std_act_m_max</th>\n",
              "      <th>Std_act_m_mean</th>\n",
              "      <th>Std_act_m_std</th>\n",
              "      <th>Std_act_t_max</th>\n",
              "      <th>Std_act_t_mean</th>\n",
              "      <th>Std_act_t_std</th>\n",
              "      <th>Act_score</th>\n",
              "    </tr>\n",
              "    <tr>\n",
              "      <th>student_ID</th>\n",
              "      <th>Course_code</th>\n",
              "      <th>Activity_type</th>\n",
              "      <th></th>\n",
              "      <th></th>\n",
              "      <th></th>\n",
              "      <th></th>\n",
              "      <th></th>\n",
              "      <th></th>\n",
              "      <th></th>\n",
              "      <th></th>\n",
              "      <th></th>\n",
              "      <th></th>\n",
              "      <th></th>\n",
              "    </tr>\n",
              "  </thead>\n",
              "  <tbody>\n",
              "    <tr>\n",
              "      <th rowspan=\"5\" valign=\"top\">060102878</th>\n",
              "      <th>g9_1</th>\n",
              "      <th>1</th>\n",
              "      <td>1.6</td>\n",
              "      <td>2.6</td>\n",
              "      <td>5</td>\n",
              "      <td>6.36</td>\n",
              "      <td>6.67</td>\n",
              "      <td>4.842000</td>\n",
              "      <td>2.077997</td>\n",
              "      <td>821</td>\n",
              "      <td>596.8</td>\n",
              "      <td>285.493783</td>\n",
              "      <td>17.248636</td>\n",
              "    </tr>\n",
              "    <tr>\n",
              "      <th>g9_2</th>\n",
              "      <th>1</th>\n",
              "      <td>1.0</td>\n",
              "      <td>3.5</td>\n",
              "      <td>2</td>\n",
              "      <td>3.28</td>\n",
              "      <td>3.28</td>\n",
              "      <td>3.175000</td>\n",
              "      <td>0.148492</td>\n",
              "      <td>438</td>\n",
              "      <td>236.0</td>\n",
              "      <td>285.671140</td>\n",
              "      <td>6.266602</td>\n",
              "    </tr>\n",
              "    <tr>\n",
              "      <th rowspan=\"2\" valign=\"top\">g9_3</th>\n",
              "      <th>0</th>\n",
              "      <td>1.5</td>\n",
              "      <td>3.0</td>\n",
              "      <td>2</td>\n",
              "      <td>1.18</td>\n",
              "      <td>3.97</td>\n",
              "      <td>2.575000</td>\n",
              "      <td>1.972828</td>\n",
              "      <td>886</td>\n",
              "      <td>771.5</td>\n",
              "      <td>161.927453</td>\n",
              "      <td>11.594992</td>\n",
              "    </tr>\n",
              "    <tr>\n",
              "      <th>1</th>\n",
              "      <td>1.0</td>\n",
              "      <td>4.0</td>\n",
              "      <td>1</td>\n",
              "      <td>3.14</td>\n",
              "      <td>3.14</td>\n",
              "      <td>3.140000</td>\n",
              "      <td>0.000000</td>\n",
              "      <td>314</td>\n",
              "      <td>314.0</td>\n",
              "      <td>0.000000</td>\n",
              "      <td>5.626125</td>\n",
              "    </tr>\n",
              "    <tr>\n",
              "      <th>g9_4</th>\n",
              "      <th>0</th>\n",
              "      <td>2.0</td>\n",
              "      <td>2.0</td>\n",
              "      <td>3</td>\n",
              "      <td>8.06</td>\n",
              "      <td>8.06</td>\n",
              "      <td>5.456667</td>\n",
              "      <td>3.669337</td>\n",
              "      <td>788</td>\n",
              "      <td>665.0</td>\n",
              "      <td>145.763507</td>\n",
              "      <td>21.693012</td>\n",
              "    </tr>\n",
              "  </tbody>\n",
              "</table>\n",
              "</div>"
            ],
            "text/plain": [
              "                                      Std_act_cp_mean  ...  Act_score\n",
              "student_ID Course_code Activity_type                   ...           \n",
              "060102878  g9_1        1                          1.6  ...  17.248636\n",
              "           g9_2        1                          1.0  ...   6.266602\n",
              "           g9_3        0                          1.5  ...  11.594992\n",
              "                       1                          1.0  ...   5.626125\n",
              "           g9_4        0                          2.0  ...  21.693012\n",
              "\n",
              "[5 rows x 11 columns]"
            ]
          },
          "metadata": {
            "tags": []
          },
          "execution_count": 51
        }
      ]
    },
    {
      "cell_type": "code",
      "metadata": {
        "id": "mesFnowLjNjx"
      },
      "source": [
        "df_std_Stat.reset_index(inplace=True)"
      ],
      "execution_count": null,
      "outputs": []
    },
    {
      "cell_type": "code",
      "metadata": {
        "colab": {
          "base_uri": "https://localhost:8080/",
          "height": 224
        },
        "id": "KerGo9KdjNsT",
        "outputId": "6aa43941-e846-41e7-a3d1-45909ab693fc"
      },
      "source": [
        "df_std_Stat.head()"
      ],
      "execution_count": null,
      "outputs": [
        {
          "output_type": "execute_result",
          "data": {
            "text/html": [
              "<div>\n",
              "<style scoped>\n",
              "    .dataframe tbody tr th:only-of-type {\n",
              "        vertical-align: middle;\n",
              "    }\n",
              "\n",
              "    .dataframe tbody tr th {\n",
              "        vertical-align: top;\n",
              "    }\n",
              "\n",
              "    .dataframe thead th {\n",
              "        text-align: right;\n",
              "    }\n",
              "</style>\n",
              "<table border=\"1\" class=\"dataframe\">\n",
              "  <thead>\n",
              "    <tr style=\"text-align: right;\">\n",
              "      <th></th>\n",
              "      <th>student_ID</th>\n",
              "      <th>Course_code</th>\n",
              "      <th>Activity_type</th>\n",
              "      <th>Std_act_cp_mean</th>\n",
              "      <th>Std_act_d_mean</th>\n",
              "      <th>Std_act_m_count</th>\n",
              "      <th>Std_act_m_last</th>\n",
              "      <th>Std_act_m_max</th>\n",
              "      <th>Std_act_m_mean</th>\n",
              "      <th>Std_act_m_std</th>\n",
              "      <th>Std_act_t_max</th>\n",
              "      <th>Std_act_t_mean</th>\n",
              "      <th>Std_act_t_std</th>\n",
              "      <th>Act_score</th>\n",
              "    </tr>\n",
              "  </thead>\n",
              "  <tbody>\n",
              "    <tr>\n",
              "      <th>0</th>\n",
              "      <td>060102878</td>\n",
              "      <td>g9_1</td>\n",
              "      <td>1</td>\n",
              "      <td>1.6</td>\n",
              "      <td>2.6</td>\n",
              "      <td>5</td>\n",
              "      <td>6.36</td>\n",
              "      <td>6.67</td>\n",
              "      <td>4.842000</td>\n",
              "      <td>2.077997</td>\n",
              "      <td>821</td>\n",
              "      <td>596.8</td>\n",
              "      <td>285.493783</td>\n",
              "      <td>17.248636</td>\n",
              "    </tr>\n",
              "    <tr>\n",
              "      <th>1</th>\n",
              "      <td>060102878</td>\n",
              "      <td>g9_2</td>\n",
              "      <td>1</td>\n",
              "      <td>1.0</td>\n",
              "      <td>3.5</td>\n",
              "      <td>2</td>\n",
              "      <td>3.28</td>\n",
              "      <td>3.28</td>\n",
              "      <td>3.175000</td>\n",
              "      <td>0.148492</td>\n",
              "      <td>438</td>\n",
              "      <td>236.0</td>\n",
              "      <td>285.671140</td>\n",
              "      <td>6.266602</td>\n",
              "    </tr>\n",
              "    <tr>\n",
              "      <th>2</th>\n",
              "      <td>060102878</td>\n",
              "      <td>g9_3</td>\n",
              "      <td>0</td>\n",
              "      <td>1.5</td>\n",
              "      <td>3.0</td>\n",
              "      <td>2</td>\n",
              "      <td>1.18</td>\n",
              "      <td>3.97</td>\n",
              "      <td>2.575000</td>\n",
              "      <td>1.972828</td>\n",
              "      <td>886</td>\n",
              "      <td>771.5</td>\n",
              "      <td>161.927453</td>\n",
              "      <td>11.594992</td>\n",
              "    </tr>\n",
              "    <tr>\n",
              "      <th>3</th>\n",
              "      <td>060102878</td>\n",
              "      <td>g9_3</td>\n",
              "      <td>1</td>\n",
              "      <td>1.0</td>\n",
              "      <td>4.0</td>\n",
              "      <td>1</td>\n",
              "      <td>3.14</td>\n",
              "      <td>3.14</td>\n",
              "      <td>3.140000</td>\n",
              "      <td>0.000000</td>\n",
              "      <td>314</td>\n",
              "      <td>314.0</td>\n",
              "      <td>0.000000</td>\n",
              "      <td>5.626125</td>\n",
              "    </tr>\n",
              "    <tr>\n",
              "      <th>4</th>\n",
              "      <td>060102878</td>\n",
              "      <td>g9_4</td>\n",
              "      <td>0</td>\n",
              "      <td>2.0</td>\n",
              "      <td>2.0</td>\n",
              "      <td>3</td>\n",
              "      <td>8.06</td>\n",
              "      <td>8.06</td>\n",
              "      <td>5.456667</td>\n",
              "      <td>3.669337</td>\n",
              "      <td>788</td>\n",
              "      <td>665.0</td>\n",
              "      <td>145.763507</td>\n",
              "      <td>21.693012</td>\n",
              "    </tr>\n",
              "  </tbody>\n",
              "</table>\n",
              "</div>"
            ],
            "text/plain": [
              "  student_ID Course_code  ... Std_act_t_std  Act_score\n",
              "0  060102878        g9_1  ...    285.493783  17.248636\n",
              "1  060102878        g9_2  ...    285.671140   6.266602\n",
              "2  060102878        g9_3  ...    161.927453  11.594992\n",
              "3  060102878        g9_3  ...      0.000000   5.626125\n",
              "4  060102878        g9_4  ...    145.763507  21.693012\n",
              "\n",
              "[5 rows x 14 columns]"
            ]
          },
          "metadata": {
            "tags": []
          },
          "execution_count": 53
        }
      ]
    },
    {
      "cell_type": "code",
      "metadata": {
        "colab": {
          "base_uri": "https://localhost:8080/",
          "height": 131
        },
        "id": "JSnkVnM2XJbJ",
        "outputId": "612422e0-ada0-4e4f-d0e9-65d2df552912"
      },
      "source": [
        "df_act_Stat.sample()"
      ],
      "execution_count": null,
      "outputs": [
        {
          "output_type": "execute_result",
          "data": {
            "text/html": [
              "<div>\n",
              "<style scoped>\n",
              "    .dataframe tbody tr th:only-of-type {\n",
              "        vertical-align: middle;\n",
              "    }\n",
              "\n",
              "    .dataframe tbody tr th {\n",
              "        vertical-align: top;\n",
              "    }\n",
              "\n",
              "    .dataframe thead th {\n",
              "        text-align: right;\n",
              "    }\n",
              "</style>\n",
              "<table border=\"1\" class=\"dataframe\">\n",
              "  <thead>\n",
              "    <tr style=\"text-align: right;\">\n",
              "      <th></th>\n",
              "      <th></th>\n",
              "      <th>Act_cp_mean</th>\n",
              "      <th>Act_diff_mean</th>\n",
              "      <th>Act_mark_count</th>\n",
              "      <th>Act_mark_max</th>\n",
              "      <th>Act_mark_mean</th>\n",
              "      <th>Act_mark_min</th>\n",
              "      <th>Act_time_max</th>\n",
              "      <th>Act_time_mean</th>\n",
              "      <th>Act_time_min</th>\n",
              "      <th>Activities_Count_&lt;lambda&gt;</th>\n",
              "    </tr>\n",
              "    <tr>\n",
              "      <th>Course_code</th>\n",
              "      <th>Activity_type</th>\n",
              "      <th></th>\n",
              "      <th></th>\n",
              "      <th></th>\n",
              "      <th></th>\n",
              "      <th></th>\n",
              "      <th></th>\n",
              "      <th></th>\n",
              "      <th></th>\n",
              "      <th></th>\n",
              "      <th></th>\n",
              "    </tr>\n",
              "  </thead>\n",
              "  <tbody>\n",
              "    <tr>\n",
              "      <th>g8_5</th>\n",
              "      <th>0</th>\n",
              "      <td>1.512195</td>\n",
              "      <td>2.430894</td>\n",
              "      <td>123</td>\n",
              "      <td>9.95</td>\n",
              "      <td>4.976748</td>\n",
              "      <td>0.14</td>\n",
              "      <td>882.0</td>\n",
              "      <td>438.284553</td>\n",
              "      <td>34.0</td>\n",
              "      <td>20</td>\n",
              "    </tr>\n",
              "  </tbody>\n",
              "</table>\n",
              "</div>"
            ],
            "text/plain": [
              "                           Act_cp_mean  ...  Activities_Count_<lambda>\n",
              "Course_code Activity_type               ...                           \n",
              "g8_5        0                 1.512195  ...                         20\n",
              "\n",
              "[1 rows x 10 columns]"
            ]
          },
          "metadata": {
            "tags": []
          },
          "execution_count": 54
        }
      ]
    },
    {
      "cell_type": "code",
      "metadata": {
        "id": "ZXmHAXDccQ-g"
      },
      "source": [
        "df_act_Stat.reset_index(inplace=True)"
      ],
      "execution_count": null,
      "outputs": []
    },
    {
      "cell_type": "code",
      "metadata": {
        "id": "KyatOXQyV93D"
      },
      "source": [
        "df_mg=df_std_Stat.merge(df_act_Stat,  on=[\"Course_code\", \"Activity_type\"])"
      ],
      "execution_count": null,
      "outputs": []
    },
    {
      "cell_type": "code",
      "metadata": {
        "colab": {
          "base_uri": "https://localhost:8080/",
          "height": 224
        },
        "id": "yAxo1JCUV965",
        "outputId": "b776cb6a-7bb0-4e06-cacf-46cda1660365"
      },
      "source": [
        "df_mg.head()"
      ],
      "execution_count": null,
      "outputs": [
        {
          "output_type": "execute_result",
          "data": {
            "text/html": [
              "<div>\n",
              "<style scoped>\n",
              "    .dataframe tbody tr th:only-of-type {\n",
              "        vertical-align: middle;\n",
              "    }\n",
              "\n",
              "    .dataframe tbody tr th {\n",
              "        vertical-align: top;\n",
              "    }\n",
              "\n",
              "    .dataframe thead th {\n",
              "        text-align: right;\n",
              "    }\n",
              "</style>\n",
              "<table border=\"1\" class=\"dataframe\">\n",
              "  <thead>\n",
              "    <tr style=\"text-align: right;\">\n",
              "      <th></th>\n",
              "      <th>student_ID</th>\n",
              "      <th>Course_code</th>\n",
              "      <th>Activity_type</th>\n",
              "      <th>Std_act_cp_mean</th>\n",
              "      <th>Std_act_d_mean</th>\n",
              "      <th>Std_act_m_count</th>\n",
              "      <th>Std_act_m_last</th>\n",
              "      <th>Std_act_m_max</th>\n",
              "      <th>Std_act_m_mean</th>\n",
              "      <th>Std_act_m_std</th>\n",
              "      <th>Std_act_t_max</th>\n",
              "      <th>Std_act_t_mean</th>\n",
              "      <th>Std_act_t_std</th>\n",
              "      <th>Act_score</th>\n",
              "      <th>Act_cp_mean</th>\n",
              "      <th>Act_diff_mean</th>\n",
              "      <th>Act_mark_count</th>\n",
              "      <th>Act_mark_max</th>\n",
              "      <th>Act_mark_mean</th>\n",
              "      <th>Act_mark_min</th>\n",
              "      <th>Act_time_max</th>\n",
              "      <th>Act_time_mean</th>\n",
              "      <th>Act_time_min</th>\n",
              "      <th>Activities_Count_&lt;lambda&gt;</th>\n",
              "    </tr>\n",
              "  </thead>\n",
              "  <tbody>\n",
              "    <tr>\n",
              "      <th>0</th>\n",
              "      <td>060102878</td>\n",
              "      <td>g9_1</td>\n",
              "      <td>1</td>\n",
              "      <td>1.6</td>\n",
              "      <td>2.6</td>\n",
              "      <td>5</td>\n",
              "      <td>6.36</td>\n",
              "      <td>6.67</td>\n",
              "      <td>4.842</td>\n",
              "      <td>2.077997</td>\n",
              "      <td>821</td>\n",
              "      <td>596.8</td>\n",
              "      <td>285.493783</td>\n",
              "      <td>17.248636</td>\n",
              "      <td>1.608108</td>\n",
              "      <td>2.608108</td>\n",
              "      <td>74</td>\n",
              "      <td>9.84</td>\n",
              "      <td>5.133243</td>\n",
              "      <td>0.12</td>\n",
              "      <td>899.0</td>\n",
              "      <td>486.662162</td>\n",
              "      <td>36.0</td>\n",
              "      <td>20</td>\n",
              "    </tr>\n",
              "    <tr>\n",
              "      <th>1</th>\n",
              "      <td>060247620</td>\n",
              "      <td>g9_1</td>\n",
              "      <td>1</td>\n",
              "      <td>2.0</td>\n",
              "      <td>2.0</td>\n",
              "      <td>2</td>\n",
              "      <td>7.73</td>\n",
              "      <td>7.73</td>\n",
              "      <td>4.690</td>\n",
              "      <td>4.299209</td>\n",
              "      <td>509</td>\n",
              "      <td>350.5</td>\n",
              "      <td>224.152850</td>\n",
              "      <td>23.753662</td>\n",
              "      <td>1.608108</td>\n",
              "      <td>2.608108</td>\n",
              "      <td>74</td>\n",
              "      <td>9.84</td>\n",
              "      <td>5.133243</td>\n",
              "      <td>0.12</td>\n",
              "      <td>899.0</td>\n",
              "      <td>486.662162</td>\n",
              "      <td>36.0</td>\n",
              "      <td>20</td>\n",
              "    </tr>\n",
              "    <tr>\n",
              "      <th>2</th>\n",
              "      <td>060265233</td>\n",
              "      <td>g9_1</td>\n",
              "      <td>1</td>\n",
              "      <td>1.0</td>\n",
              "      <td>2.0</td>\n",
              "      <td>1</td>\n",
              "      <td>0.12</td>\n",
              "      <td>0.12</td>\n",
              "      <td>0.120</td>\n",
              "      <td>0.000000</td>\n",
              "      <td>807</td>\n",
              "      <td>807.0</td>\n",
              "      <td>0.000000</td>\n",
              "      <td>0.166355</td>\n",
              "      <td>1.608108</td>\n",
              "      <td>2.608108</td>\n",
              "      <td>74</td>\n",
              "      <td>9.84</td>\n",
              "      <td>5.133243</td>\n",
              "      <td>0.12</td>\n",
              "      <td>899.0</td>\n",
              "      <td>486.662162</td>\n",
              "      <td>36.0</td>\n",
              "      <td>20</td>\n",
              "    </tr>\n",
              "    <tr>\n",
              "      <th>3</th>\n",
              "      <td>060271117</td>\n",
              "      <td>g9_1</td>\n",
              "      <td>1</td>\n",
              "      <td>2.0</td>\n",
              "      <td>1.5</td>\n",
              "      <td>2</td>\n",
              "      <td>9.80</td>\n",
              "      <td>9.80</td>\n",
              "      <td>6.175</td>\n",
              "      <td>5.126524</td>\n",
              "      <td>443</td>\n",
              "      <td>258.0</td>\n",
              "      <td>261.629509</td>\n",
              "      <td>27.115999</td>\n",
              "      <td>1.608108</td>\n",
              "      <td>2.608108</td>\n",
              "      <td>74</td>\n",
              "      <td>9.84</td>\n",
              "      <td>5.133243</td>\n",
              "      <td>0.12</td>\n",
              "      <td>899.0</td>\n",
              "      <td>486.662162</td>\n",
              "      <td>36.0</td>\n",
              "      <td>20</td>\n",
              "    </tr>\n",
              "    <tr>\n",
              "      <th>4</th>\n",
              "      <td>060312788</td>\n",
              "      <td>g9_1</td>\n",
              "      <td>1</td>\n",
              "      <td>1.0</td>\n",
              "      <td>3.0</td>\n",
              "      <td>1</td>\n",
              "      <td>6.90</td>\n",
              "      <td>6.90</td>\n",
              "      <td>6.900</td>\n",
              "      <td>0.000000</td>\n",
              "      <td>630</td>\n",
              "      <td>630.0</td>\n",
              "      <td>0.000000</td>\n",
              "      <td>11.105122</td>\n",
              "      <td>1.608108</td>\n",
              "      <td>2.608108</td>\n",
              "      <td>74</td>\n",
              "      <td>9.84</td>\n",
              "      <td>5.133243</td>\n",
              "      <td>0.12</td>\n",
              "      <td>899.0</td>\n",
              "      <td>486.662162</td>\n",
              "      <td>36.0</td>\n",
              "      <td>20</td>\n",
              "    </tr>\n",
              "  </tbody>\n",
              "</table>\n",
              "</div>"
            ],
            "text/plain": [
              "  student_ID Course_code  ... Act_time_min  Activities_Count_<lambda>\n",
              "0  060102878        g9_1  ...         36.0                         20\n",
              "1  060247620        g9_1  ...         36.0                         20\n",
              "2  060265233        g9_1  ...         36.0                         20\n",
              "3  060271117        g9_1  ...         36.0                         20\n",
              "4  060312788        g9_1  ...         36.0                         20\n",
              "\n",
              "[5 rows x 24 columns]"
            ]
          },
          "metadata": {
            "tags": []
          },
          "execution_count": 57
        }
      ]
    },
    {
      "cell_type": "code",
      "metadata": {
        "id": "xLd9Tqr4z2Nd"
      },
      "source": [
        "# Looking for the student  080969613\n",
        "\n",
        "st_pred_graph= df_mg[df_mg.student_ID== \"080969613\"]"
      ],
      "execution_count": null,
      "outputs": []
    },
    {
      "cell_type": "code",
      "metadata": {
        "id": "8jDD_bSkV9-I"
      },
      "source": [
        "df_mg[\"last_mark\"]=df_mg.Std_act_m_last  # put the target at the end of table\n",
        "df_mg.drop(\"Std_act_m_last\", axis=1, inplace=True)  #  drop the last mark feature."
      ],
      "execution_count": null,
      "outputs": []
    },
    {
      "cell_type": "code",
      "metadata": {
        "colab": {
          "base_uri": "https://localhost:8080/",
          "height": 162
        },
        "id": "rCupuFGEV-CF",
        "outputId": "32c8d844-3ade-4583-bb3a-5b45e0e11fe7"
      },
      "source": [
        "df_mg.sample(3)"
      ],
      "execution_count": null,
      "outputs": [
        {
          "output_type": "execute_result",
          "data": {
            "text/html": [
              "<div>\n",
              "<style scoped>\n",
              "    .dataframe tbody tr th:only-of-type {\n",
              "        vertical-align: middle;\n",
              "    }\n",
              "\n",
              "    .dataframe tbody tr th {\n",
              "        vertical-align: top;\n",
              "    }\n",
              "\n",
              "    .dataframe thead th {\n",
              "        text-align: right;\n",
              "    }\n",
              "</style>\n",
              "<table border=\"1\" class=\"dataframe\">\n",
              "  <thead>\n",
              "    <tr style=\"text-align: right;\">\n",
              "      <th></th>\n",
              "      <th>student_ID</th>\n",
              "      <th>Course_code</th>\n",
              "      <th>Activity_type</th>\n",
              "      <th>Std_act_cp_mean</th>\n",
              "      <th>Std_act_d_mean</th>\n",
              "      <th>Std_act_m_count</th>\n",
              "      <th>Std_act_m_max</th>\n",
              "      <th>Std_act_m_mean</th>\n",
              "      <th>Std_act_m_std</th>\n",
              "      <th>Std_act_t_max</th>\n",
              "      <th>Std_act_t_mean</th>\n",
              "      <th>Std_act_t_std</th>\n",
              "      <th>Act_score</th>\n",
              "      <th>Act_cp_mean</th>\n",
              "      <th>Act_diff_mean</th>\n",
              "      <th>Act_mark_count</th>\n",
              "      <th>Act_mark_max</th>\n",
              "      <th>Act_mark_mean</th>\n",
              "      <th>Act_mark_min</th>\n",
              "      <th>Act_time_max</th>\n",
              "      <th>Act_time_mean</th>\n",
              "      <th>Act_time_min</th>\n",
              "      <th>Activities_Count_&lt;lambda&gt;</th>\n",
              "      <th>last_mark</th>\n",
              "    </tr>\n",
              "  </thead>\n",
              "  <tbody>\n",
              "    <tr>\n",
              "      <th>408</th>\n",
              "      <td>060312788</td>\n",
              "      <td>g9_6</td>\n",
              "      <td>0</td>\n",
              "      <td>1.333333</td>\n",
              "      <td>2.666667</td>\n",
              "      <td>3</td>\n",
              "      <td>8.32</td>\n",
              "      <td>6.906667</td>\n",
              "      <td>1.253409</td>\n",
              "      <td>855</td>\n",
              "      <td>594.0</td>\n",
              "      <td>230.371439</td>\n",
              "      <td>17.949556</td>\n",
              "      <td>1.544304</td>\n",
              "      <td>2.430380</td>\n",
              "      <td>79</td>\n",
              "      <td>9.89</td>\n",
              "      <td>5.017089</td>\n",
              "      <td>0.31</td>\n",
              "      <td>878.0</td>\n",
              "      <td>445.822785</td>\n",
              "      <td>30.0</td>\n",
              "      <td>19</td>\n",
              "      <td>6.47</td>\n",
              "    </tr>\n",
              "    <tr>\n",
              "      <th>4256</th>\n",
              "      <td>140744798</td>\n",
              "      <td>g1_5</td>\n",
              "      <td>1</td>\n",
              "      <td>2.000000</td>\n",
              "      <td>3.000000</td>\n",
              "      <td>1</td>\n",
              "      <td>8.96</td>\n",
              "      <td>8.960000</td>\n",
              "      <td>0.000000</td>\n",
              "      <td>727</td>\n",
              "      <td>727.0</td>\n",
              "      <td>0.000000</td>\n",
              "      <td>18.631796</td>\n",
              "      <td>1.573529</td>\n",
              "      <td>2.367647</td>\n",
              "      <td>68</td>\n",
              "      <td>9.96</td>\n",
              "      <td>4.694412</td>\n",
              "      <td>0.05</td>\n",
              "      <td>899.0</td>\n",
              "      <td>494.573529</td>\n",
              "      <td>50.0</td>\n",
              "      <td>19</td>\n",
              "      <td>8.96</td>\n",
              "    </tr>\n",
              "    <tr>\n",
              "      <th>734</th>\n",
              "      <td>070379162</td>\n",
              "      <td>g8_2</td>\n",
              "      <td>0</td>\n",
              "      <td>1.000000</td>\n",
              "      <td>4.000000</td>\n",
              "      <td>1</td>\n",
              "      <td>3.70</td>\n",
              "      <td>3.700000</td>\n",
              "      <td>0.000000</td>\n",
              "      <td>501</td>\n",
              "      <td>501.0</td>\n",
              "      <td>0.000000</td>\n",
              "      <td>6.629510</td>\n",
              "      <td>1.482759</td>\n",
              "      <td>2.413793</td>\n",
              "      <td>87</td>\n",
              "      <td>9.92</td>\n",
              "      <td>4.414253</td>\n",
              "      <td>0.04</td>\n",
              "      <td>889.0</td>\n",
              "      <td>475.344828</td>\n",
              "      <td>33.0</td>\n",
              "      <td>20</td>\n",
              "      <td>3.70</td>\n",
              "    </tr>\n",
              "  </tbody>\n",
              "</table>\n",
              "</div>"
            ],
            "text/plain": [
              "     student_ID Course_code  ... Activities_Count_<lambda>  last_mark\n",
              "408   060312788        g9_6  ...                        19       6.47\n",
              "4256  140744798        g1_5  ...                        19       8.96\n",
              "734   070379162        g8_2  ...                        20       3.70\n",
              "\n",
              "[3 rows x 24 columns]"
            ]
          },
          "metadata": {
            "tags": []
          },
          "execution_count": 62
        }
      ]
    },
    {
      "cell_type": "code",
      "metadata": {
        "colab": {
          "base_uri": "https://localhost:8080/"
        },
        "id": "nf9rbrTlkdiz",
        "outputId": "63e931ac-c2c9-4242-de4e-edad03574ab9"
      },
      "source": [
        "df_mg.info()"
      ],
      "execution_count": null,
      "outputs": [
        {
          "output_type": "stream",
          "text": [
            "<class 'pandas.core.frame.DataFrame'>\n",
            "Int64Index: 4410 entries, 0 to 4409\n",
            "Data columns (total 24 columns):\n",
            " #   Column                     Non-Null Count  Dtype  \n",
            "---  ------                     --------------  -----  \n",
            " 0   student_ID                 4410 non-null   object \n",
            " 1   Course_code                4410 non-null   object \n",
            " 2   Activity_type              4410 non-null   object \n",
            " 3   Std_act_cp_mean            4410 non-null   float64\n",
            " 4   Std_act_d_mean             4410 non-null   float64\n",
            " 5   Std_act_m_count            4410 non-null   int64  \n",
            " 6   Std_act_m_max              4410 non-null   float64\n",
            " 7   Std_act_m_mean             4410 non-null   float64\n",
            " 8   Std_act_m_std              4410 non-null   float64\n",
            " 9   Std_act_t_max              4410 non-null   int64  \n",
            " 10  Std_act_t_mean             4410 non-null   float64\n",
            " 11  Std_act_t_std              4410 non-null   float64\n",
            " 12  Act_score                  4409 non-null   float64\n",
            " 13  Act_cp_mean                4410 non-null   float64\n",
            " 14  Act_diff_mean              4410 non-null   float64\n",
            " 15  Act_mark_count             4410 non-null   int64  \n",
            " 16  Act_mark_max               4410 non-null   float64\n",
            " 17  Act_mark_mean              4410 non-null   float64\n",
            " 18  Act_mark_min               4410 non-null   float64\n",
            " 19  Act_time_max               4410 non-null   float64\n",
            " 20  Act_time_mean              4410 non-null   float64\n",
            " 21  Act_time_min               4410 non-null   float64\n",
            " 22  Activities_Count_<lambda>  4410 non-null   int64  \n",
            " 23  last_mark                  4410 non-null   float64\n",
            "dtypes: float64(17), int64(4), object(3)\n",
            "memory usage: 861.3+ KB\n"
          ],
          "name": "stdout"
        }
      ]
    },
    {
      "cell_type": "code",
      "metadata": {
        "id": "gVBQnTyDkdxA"
      },
      "source": [
        "df_mg.to_csv(\"./Data/MarkPrediction.csv\")"
      ],
      "execution_count": null,
      "outputs": []
    },
    {
      "cell_type": "markdown",
      "metadata": {
        "id": "38vV0zLxkgSz"
      },
      "source": [
        "## Student Achievement Graph"
      ]
    },
    {
      "cell_type": "code",
      "metadata": {
        "colab": {
          "base_uri": "https://localhost:8080/",
          "height": 100
        },
        "id": "aTTAWFg6NsWs",
        "outputId": "217adc8e-3bdd-44f0-c0ed-b5c74b20f7d9"
      },
      "source": [
        "df_mg.sample()"
      ],
      "execution_count": null,
      "outputs": [
        {
          "output_type": "execute_result",
          "data": {
            "text/html": [
              "<div>\n",
              "<style scoped>\n",
              "    .dataframe tbody tr th:only-of-type {\n",
              "        vertical-align: middle;\n",
              "    }\n",
              "\n",
              "    .dataframe tbody tr th {\n",
              "        vertical-align: top;\n",
              "    }\n",
              "\n",
              "    .dataframe thead th {\n",
              "        text-align: right;\n",
              "    }\n",
              "</style>\n",
              "<table border=\"1\" class=\"dataframe\">\n",
              "  <thead>\n",
              "    <tr style=\"text-align: right;\">\n",
              "      <th></th>\n",
              "      <th>student_ID</th>\n",
              "      <th>Course_code</th>\n",
              "      <th>Activity_type</th>\n",
              "      <th>Std_act_cp_mean</th>\n",
              "      <th>Std_act_d_mean</th>\n",
              "      <th>Std_act_m_count</th>\n",
              "      <th>Std_act_m_max</th>\n",
              "      <th>Std_act_m_mean</th>\n",
              "      <th>Std_act_m_std</th>\n",
              "      <th>Std_act_t_max</th>\n",
              "      <th>Std_act_t_mean</th>\n",
              "      <th>Std_act_t_std</th>\n",
              "      <th>Act_score</th>\n",
              "      <th>Act_cp_mean</th>\n",
              "      <th>Act_diff_mean</th>\n",
              "      <th>Act_mark_count</th>\n",
              "      <th>Act_mark_max</th>\n",
              "      <th>Act_mark_mean</th>\n",
              "      <th>Act_mark_min</th>\n",
              "      <th>Act_time_max</th>\n",
              "      <th>Act_time_mean</th>\n",
              "      <th>Act_time_min</th>\n",
              "      <th>Activities_Count_&lt;lambda&gt;</th>\n",
              "      <th>last_mark</th>\n",
              "    </tr>\n",
              "  </thead>\n",
              "  <tbody>\n",
              "    <tr>\n",
              "      <th>2758</th>\n",
              "      <td>110841470</td>\n",
              "      <td>g4_2</td>\n",
              "      <td>1</td>\n",
              "      <td>2.0</td>\n",
              "      <td>2.0</td>\n",
              "      <td>1</td>\n",
              "      <td>0.74</td>\n",
              "      <td>0.74</td>\n",
              "      <td>0.0</td>\n",
              "      <td>579</td>\n",
              "      <td>579.0</td>\n",
              "      <td>0.0</td>\n",
              "      <td>1.325902</td>\n",
              "      <td>1.48</td>\n",
              "      <td>2.8</td>\n",
              "      <td>75</td>\n",
              "      <td>9.84</td>\n",
              "      <td>4.930933</td>\n",
              "      <td>0.04</td>\n",
              "      <td>898.0</td>\n",
              "      <td>456.786667</td>\n",
              "      <td>33.0</td>\n",
              "      <td>18</td>\n",
              "      <td>0.74</td>\n",
              "    </tr>\n",
              "  </tbody>\n",
              "</table>\n",
              "</div>"
            ],
            "text/plain": [
              "     student_ID Course_code  ... Activities_Count_<lambda>  last_mark\n",
              "2758  110841470        g4_2  ...                        18       0.74\n",
              "\n",
              "[1 rows x 24 columns]"
            ]
          },
          "metadata": {
            "tags": []
          },
          "execution_count": 65
        }
      ]
    },
    {
      "cell_type": "code",
      "metadata": {
        "colab": {
          "base_uri": "https://localhost:8080/",
          "height": 286
        },
        "id": "uI3Pkmtc5J7o",
        "outputId": "dda23e79-8e4a-4fb6-9ae5-3f96f8060da5"
      },
      "source": [
        "df_mg[df_mg.student_ID==\"080969613\"]"
      ],
      "execution_count": null,
      "outputs": [
        {
          "output_type": "execute_result",
          "data": {
            "text/html": [
              "<div>\n",
              "<style scoped>\n",
              "    .dataframe tbody tr th:only-of-type {\n",
              "        vertical-align: middle;\n",
              "    }\n",
              "\n",
              "    .dataframe tbody tr th {\n",
              "        vertical-align: top;\n",
              "    }\n",
              "\n",
              "    .dataframe thead th {\n",
              "        text-align: right;\n",
              "    }\n",
              "</style>\n",
              "<table border=\"1\" class=\"dataframe\">\n",
              "  <thead>\n",
              "    <tr style=\"text-align: right;\">\n",
              "      <th></th>\n",
              "      <th>student_ID</th>\n",
              "      <th>Course_code</th>\n",
              "      <th>Activity_type</th>\n",
              "      <th>Std_act_cp_mean</th>\n",
              "      <th>Std_act_d_mean</th>\n",
              "      <th>Std_act_m_count</th>\n",
              "      <th>Std_act_m_max</th>\n",
              "      <th>Std_act_m_mean</th>\n",
              "      <th>Std_act_m_std</th>\n",
              "      <th>Std_act_t_max</th>\n",
              "      <th>Std_act_t_mean</th>\n",
              "      <th>Std_act_t_std</th>\n",
              "      <th>Act_score</th>\n",
              "      <th>Act_cp_mean</th>\n",
              "      <th>Act_diff_mean</th>\n",
              "      <th>Act_mark_count</th>\n",
              "      <th>Act_mark_max</th>\n",
              "      <th>Act_mark_mean</th>\n",
              "      <th>Act_mark_min</th>\n",
              "      <th>Act_time_max</th>\n",
              "      <th>Act_time_mean</th>\n",
              "      <th>Act_time_min</th>\n",
              "      <th>Activities_Count_&lt;lambda&gt;</th>\n",
              "      <th>last_mark</th>\n",
              "    </tr>\n",
              "  </thead>\n",
              "  <tbody>\n",
              "    <tr>\n",
              "      <th>1055</th>\n",
              "      <td>080969613</td>\n",
              "      <td>g7_1</td>\n",
              "      <td>0</td>\n",
              "      <td>1.0</td>\n",
              "      <td>2.0</td>\n",
              "      <td>1</td>\n",
              "      <td>1.98</td>\n",
              "      <td>1.980</td>\n",
              "      <td>0.000000</td>\n",
              "      <td>45</td>\n",
              "      <td>45.0</td>\n",
              "      <td>0.000000</td>\n",
              "      <td>2.744863</td>\n",
              "      <td>1.603774</td>\n",
              "      <td>2.547170</td>\n",
              "      <td>106</td>\n",
              "      <td>9.85</td>\n",
              "      <td>5.196887</td>\n",
              "      <td>0.20</td>\n",
              "      <td>896.0</td>\n",
              "      <td>456.311321</td>\n",
              "      <td>33.0</td>\n",
              "      <td>20</td>\n",
              "      <td>1.98</td>\n",
              "    </tr>\n",
              "    <tr>\n",
              "      <th>1101</th>\n",
              "      <td>080969613</td>\n",
              "      <td>g7_2</td>\n",
              "      <td>0</td>\n",
              "      <td>2.0</td>\n",
              "      <td>2.0</td>\n",
              "      <td>1</td>\n",
              "      <td>3.33</td>\n",
              "      <td>3.330</td>\n",
              "      <td>0.000000</td>\n",
              "      <td>857</td>\n",
              "      <td>857.0</td>\n",
              "      <td>0.000000</td>\n",
              "      <td>5.966559</td>\n",
              "      <td>1.541176</td>\n",
              "      <td>2.423529</td>\n",
              "      <td>85</td>\n",
              "      <td>9.98</td>\n",
              "      <td>4.154706</td>\n",
              "      <td>0.01</td>\n",
              "      <td>888.0</td>\n",
              "      <td>473.058824</td>\n",
              "      <td>30.0</td>\n",
              "      <td>20</td>\n",
              "      <td>3.33</td>\n",
              "    </tr>\n",
              "    <tr>\n",
              "      <th>1146</th>\n",
              "      <td>080969613</td>\n",
              "      <td>g7_2</td>\n",
              "      <td>1</td>\n",
              "      <td>2.0</td>\n",
              "      <td>4.0</td>\n",
              "      <td>2</td>\n",
              "      <td>8.05</td>\n",
              "      <td>4.705</td>\n",
              "      <td>4.730544</td>\n",
              "      <td>41</td>\n",
              "      <td>35.5</td>\n",
              "      <td>7.778175</td>\n",
              "      <td>31.925516</td>\n",
              "      <td>1.609756</td>\n",
              "      <td>2.524390</td>\n",
              "      <td>82</td>\n",
              "      <td>9.92</td>\n",
              "      <td>4.933902</td>\n",
              "      <td>0.08</td>\n",
              "      <td>894.0</td>\n",
              "      <td>483.756098</td>\n",
              "      <td>30.0</td>\n",
              "      <td>20</td>\n",
              "      <td>8.05</td>\n",
              "    </tr>\n",
              "    <tr>\n",
              "      <th>1190</th>\n",
              "      <td>080969613</td>\n",
              "      <td>g7_3</td>\n",
              "      <td>0</td>\n",
              "      <td>2.0</td>\n",
              "      <td>1.0</td>\n",
              "      <td>1</td>\n",
              "      <td>3.01</td>\n",
              "      <td>3.010</td>\n",
              "      <td>0.000000</td>\n",
              "      <td>101</td>\n",
              "      <td>101.0</td>\n",
              "      <td>0.000000</td>\n",
              "      <td>4.172746</td>\n",
              "      <td>1.462500</td>\n",
              "      <td>2.525000</td>\n",
              "      <td>80</td>\n",
              "      <td>9.98</td>\n",
              "      <td>5.003375</td>\n",
              "      <td>0.04</td>\n",
              "      <td>896.0</td>\n",
              "      <td>456.562500</td>\n",
              "      <td>44.0</td>\n",
              "      <td>20</td>\n",
              "      <td>3.01</td>\n",
              "    </tr>\n",
              "    <tr>\n",
              "      <th>1368</th>\n",
              "      <td>080969613</td>\n",
              "      <td>g7_5</td>\n",
              "      <td>0</td>\n",
              "      <td>1.0</td>\n",
              "      <td>2.0</td>\n",
              "      <td>1</td>\n",
              "      <td>8.22</td>\n",
              "      <td>8.220</td>\n",
              "      <td>0.000000</td>\n",
              "      <td>603</td>\n",
              "      <td>603.0</td>\n",
              "      <td>0.000000</td>\n",
              "      <td>11.395340</td>\n",
              "      <td>1.524390</td>\n",
              "      <td>2.609756</td>\n",
              "      <td>82</td>\n",
              "      <td>9.81</td>\n",
              "      <td>5.517927</td>\n",
              "      <td>0.10</td>\n",
              "      <td>897.0</td>\n",
              "      <td>489.317073</td>\n",
              "      <td>31.0</td>\n",
              "      <td>20</td>\n",
              "      <td>8.22</td>\n",
              "    </tr>\n",
              "    <tr>\n",
              "      <th>1458</th>\n",
              "      <td>080969613</td>\n",
              "      <td>g7_6</td>\n",
              "      <td>0</td>\n",
              "      <td>2.0</td>\n",
              "      <td>1.0</td>\n",
              "      <td>1</td>\n",
              "      <td>6.75</td>\n",
              "      <td>6.750</td>\n",
              "      <td>0.000000</td>\n",
              "      <td>233</td>\n",
              "      <td>233.0</td>\n",
              "      <td>0.000000</td>\n",
              "      <td>9.357487</td>\n",
              "      <td>1.534091</td>\n",
              "      <td>2.454545</td>\n",
              "      <td>88</td>\n",
              "      <td>9.86</td>\n",
              "      <td>5.406932</td>\n",
              "      <td>0.02</td>\n",
              "      <td>899.0</td>\n",
              "      <td>444.090909</td>\n",
              "      <td>36.0</td>\n",
              "      <td>20</td>\n",
              "      <td>6.75</td>\n",
              "    </tr>\n",
              "    <tr>\n",
              "      <th>1507</th>\n",
              "      <td>080969613</td>\n",
              "      <td>g7_6</td>\n",
              "      <td>1</td>\n",
              "      <td>2.0</td>\n",
              "      <td>2.0</td>\n",
              "      <td>1</td>\n",
              "      <td>8.46</td>\n",
              "      <td>8.460</td>\n",
              "      <td>0.000000</td>\n",
              "      <td>82</td>\n",
              "      <td>82.0</td>\n",
              "      <td>0.000000</td>\n",
              "      <td>15.158285</td>\n",
              "      <td>1.534091</td>\n",
              "      <td>2.511364</td>\n",
              "      <td>88</td>\n",
              "      <td>9.94</td>\n",
              "      <td>5.148068</td>\n",
              "      <td>0.02</td>\n",
              "      <td>893.0</td>\n",
              "      <td>436.295455</td>\n",
              "      <td>31.0</td>\n",
              "      <td>20</td>\n",
              "      <td>8.46</td>\n",
              "    </tr>\n",
              "  </tbody>\n",
              "</table>\n",
              "</div>"
            ],
            "text/plain": [
              "     student_ID Course_code  ... Activities_Count_<lambda>  last_mark\n",
              "1055  080969613        g7_1  ...                        20       1.98\n",
              "1101  080969613        g7_2  ...                        20       3.33\n",
              "1146  080969613        g7_2  ...                        20       8.05\n",
              "1190  080969613        g7_3  ...                        20       3.01\n",
              "1368  080969613        g7_5  ...                        20       8.22\n",
              "1458  080969613        g7_6  ...                        20       6.75\n",
              "1507  080969613        g7_6  ...                        20       8.46\n",
              "\n",
              "[7 rows x 24 columns]"
            ]
          },
          "metadata": {
            "tags": []
          },
          "execution_count": 66
        }
      ]
    },
    {
      "cell_type": "code",
      "metadata": {
        "colab": {
          "base_uri": "https://localhost:8080/",
          "height": 142
        },
        "id": "xPNzy9LSTYpG",
        "outputId": "b44f03e5-d024-4e55-b475-2de11a819b0c"
      },
      "source": [
        "pd.pivot_table(df_avt, index=[\"student_ID\"], values=[\"Activity_id\"], aggfunc=[\"count\"]).sample()"
      ],
      "execution_count": null,
      "outputs": [
        {
          "output_type": "execute_result",
          "data": {
            "text/html": [
              "<div>\n",
              "<style scoped>\n",
              "    .dataframe tbody tr th:only-of-type {\n",
              "        vertical-align: middle;\n",
              "    }\n",
              "\n",
              "    .dataframe tbody tr th {\n",
              "        vertical-align: top;\n",
              "    }\n",
              "\n",
              "    .dataframe thead tr th {\n",
              "        text-align: left;\n",
              "    }\n",
              "\n",
              "    .dataframe thead tr:last-of-type th {\n",
              "        text-align: right;\n",
              "    }\n",
              "</style>\n",
              "<table border=\"1\" class=\"dataframe\">\n",
              "  <thead>\n",
              "    <tr>\n",
              "      <th></th>\n",
              "      <th>count</th>\n",
              "    </tr>\n",
              "    <tr>\n",
              "      <th></th>\n",
              "      <th>Activity_id</th>\n",
              "    </tr>\n",
              "    <tr>\n",
              "      <th>student_ID</th>\n",
              "      <th></th>\n",
              "    </tr>\n",
              "  </thead>\n",
              "  <tbody>\n",
              "    <tr>\n",
              "      <th>071031193</th>\n",
              "      <td>21</td>\n",
              "    </tr>\n",
              "  </tbody>\n",
              "</table>\n",
              "</div>"
            ],
            "text/plain": [
              "                 count\n",
              "           Activity_id\n",
              "student_ID            \n",
              "071031193           21"
            ]
          },
          "metadata": {
            "tags": []
          },
          "execution_count": 67
        }
      ]
    },
    {
      "cell_type": "code",
      "metadata": {
        "id": "HVU60nESl4cH"
      },
      "source": [
        "df_ActAv=pd.pivot_table(df_avt, index=[\"Course_code\", \"Activity_type\", \"Activity_id\"], \n",
        "               values=[\"Act_diff\", \t\"Act_cp\", \t\"Act_time\" , \t\"Act_mark\"] , aggfunc=(\"mean\")).rename(\n",
        "   columns={\n",
        "    \"Act_diff\": \"Act_diff_avg\", \t\n",
        "    \"Act_cp\": \"Act_cp_avg\", \t\n",
        "    \"Act_time\" : \"Act_time_avg\" , \t\n",
        "    \"Act_mark\" : \"Act_mark_avg\" \n",
        "   } \n",
        ")"
      ],
      "execution_count": null,
      "outputs": []
    },
    {
      "cell_type": "code",
      "metadata": {
        "colab": {
          "base_uri": "https://localhost:8080/",
          "height": 235
        },
        "id": "bPqBYMoZFIHY",
        "outputId": "ad8f7ba8-51ea-4517-a8d5-bcf5b1c5d664"
      },
      "source": [
        "df_ActAv.head()"
      ],
      "execution_count": null,
      "outputs": [
        {
          "output_type": "execute_result",
          "data": {
            "text/html": [
              "<div>\n",
              "<style scoped>\n",
              "    .dataframe tbody tr th:only-of-type {\n",
              "        vertical-align: middle;\n",
              "    }\n",
              "\n",
              "    .dataframe tbody tr th {\n",
              "        vertical-align: top;\n",
              "    }\n",
              "\n",
              "    .dataframe thead th {\n",
              "        text-align: right;\n",
              "    }\n",
              "</style>\n",
              "<table border=\"1\" class=\"dataframe\">\n",
              "  <thead>\n",
              "    <tr style=\"text-align: right;\">\n",
              "      <th></th>\n",
              "      <th></th>\n",
              "      <th></th>\n",
              "      <th>Act_cp_avg</th>\n",
              "      <th>Act_diff_avg</th>\n",
              "      <th>Act_mark_avg</th>\n",
              "      <th>Act_time_avg</th>\n",
              "    </tr>\n",
              "    <tr>\n",
              "      <th>Course_code</th>\n",
              "      <th>Activity_type</th>\n",
              "      <th>Activity_id</th>\n",
              "      <th></th>\n",
              "      <th></th>\n",
              "      <th></th>\n",
              "      <th></th>\n",
              "    </tr>\n",
              "  </thead>\n",
              "  <tbody>\n",
              "    <tr>\n",
              "      <th rowspan=\"5\" valign=\"top\">g1_1</th>\n",
              "      <th rowspan=\"5\" valign=\"top\">0</th>\n",
              "      <th>g1_1-Act_1</th>\n",
              "      <td>1.333333</td>\n",
              "      <td>2.333333</td>\n",
              "      <td>4.463333</td>\n",
              "      <td>564.333333</td>\n",
              "    </tr>\n",
              "    <tr>\n",
              "      <th>g1_1-Act_10</th>\n",
              "      <td>1.000000</td>\n",
              "      <td>2.666667</td>\n",
              "      <td>5.083333</td>\n",
              "      <td>550.000000</td>\n",
              "    </tr>\n",
              "    <tr>\n",
              "      <th>g1_1-Act_11</th>\n",
              "      <td>1.666667</td>\n",
              "      <td>2.333333</td>\n",
              "      <td>7.073333</td>\n",
              "      <td>450.666667</td>\n",
              "    </tr>\n",
              "    <tr>\n",
              "      <th>g1_1-Act_12</th>\n",
              "      <td>1.666667</td>\n",
              "      <td>2.666667</td>\n",
              "      <td>6.460000</td>\n",
              "      <td>276.000000</td>\n",
              "    </tr>\n",
              "    <tr>\n",
              "      <th>g1_1-Act_13</th>\n",
              "      <td>1.500000</td>\n",
              "      <td>2.000000</td>\n",
              "      <td>3.825000</td>\n",
              "      <td>579.500000</td>\n",
              "    </tr>\n",
              "  </tbody>\n",
              "</table>\n",
              "</div>"
            ],
            "text/plain": [
              "                                       Act_cp_avg  ...  Act_time_avg\n",
              "Course_code Activity_type Activity_id              ...              \n",
              "g1_1        0             g1_1-Act_1     1.333333  ...    564.333333\n",
              "                          g1_1-Act_10    1.000000  ...    550.000000\n",
              "                          g1_1-Act_11    1.666667  ...    450.666667\n",
              "                          g1_1-Act_12    1.666667  ...    276.000000\n",
              "                          g1_1-Act_13    1.500000  ...    579.500000\n",
              "\n",
              "[5 rows x 4 columns]"
            ]
          },
          "metadata": {
            "tags": []
          },
          "execution_count": 69
        }
      ]
    },
    {
      "cell_type": "code",
      "metadata": {
        "colab": {
          "base_uri": "https://localhost:8080/"
        },
        "id": "JaQConHkrLZ2",
        "outputId": "a0461457-5449-4b56-d030-b845d9617b6c"
      },
      "source": [
        "df_ActAv.shape"
      ],
      "execution_count": null,
      "outputs": [
        {
          "output_type": "execute_result",
          "data": {
            "text/plain": [
              "(2104, 4)"
            ]
          },
          "metadata": {
            "tags": []
          },
          "execution_count": 70
        }
      ]
    },
    {
      "cell_type": "code",
      "metadata": {
        "colab": {
          "base_uri": "https://localhost:8080/",
          "height": 235
        },
        "id": "rgyE9emkgyDY",
        "outputId": "987f22b3-2a34-46e4-b2fa-c766c62ecca4"
      },
      "source": [
        "df_avt.loc[\"2020-09\"].head()"
      ],
      "execution_count": null,
      "outputs": [
        {
          "output_type": "execute_result",
          "data": {
            "text/html": [
              "<div>\n",
              "<style scoped>\n",
              "    .dataframe tbody tr th:only-of-type {\n",
              "        vertical-align: middle;\n",
              "    }\n",
              "\n",
              "    .dataframe tbody tr th {\n",
              "        vertical-align: top;\n",
              "    }\n",
              "\n",
              "    .dataframe thead th {\n",
              "        text-align: right;\n",
              "    }\n",
              "</style>\n",
              "<table border=\"1\" class=\"dataframe\">\n",
              "  <thead>\n",
              "    <tr style=\"text-align: right;\">\n",
              "      <th></th>\n",
              "      <th>student_ID</th>\n",
              "      <th>Course_code</th>\n",
              "      <th>Activity_id</th>\n",
              "      <th>Activity_type</th>\n",
              "      <th>Act_diff</th>\n",
              "      <th>Act_cp</th>\n",
              "      <th>Act_time</th>\n",
              "      <th>Act_mark</th>\n",
              "    </tr>\n",
              "    <tr>\n",
              "      <th>Act_submit_Time</th>\n",
              "      <th></th>\n",
              "      <th></th>\n",
              "      <th></th>\n",
              "      <th></th>\n",
              "      <th></th>\n",
              "      <th></th>\n",
              "      <th></th>\n",
              "      <th></th>\n",
              "    </tr>\n",
              "  </thead>\n",
              "  <tbody>\n",
              "    <tr>\n",
              "      <th>2020-09-13 17:38:42</th>\n",
              "      <td>081067607</td>\n",
              "      <td>g7_4</td>\n",
              "      <td>g7_4-Act_4</td>\n",
              "      <td>0</td>\n",
              "      <td>2</td>\n",
              "      <td>1</td>\n",
              "      <td>234</td>\n",
              "      <td>3.63</td>\n",
              "    </tr>\n",
              "    <tr>\n",
              "      <th>2020-09-02 05:20:01</th>\n",
              "      <td>081067607</td>\n",
              "      <td>g7_6</td>\n",
              "      <td>g7_6-Act_11</td>\n",
              "      <td>1</td>\n",
              "      <td>3</td>\n",
              "      <td>1</td>\n",
              "      <td>261</td>\n",
              "      <td>3.80</td>\n",
              "    </tr>\n",
              "    <tr>\n",
              "      <th>2020-09-15 08:37:23</th>\n",
              "      <td>140938838</td>\n",
              "      <td>g1_6</td>\n",
              "      <td>g1_6-Act_15</td>\n",
              "      <td>1</td>\n",
              "      <td>4</td>\n",
              "      <td>1</td>\n",
              "      <td>801</td>\n",
              "      <td>2.81</td>\n",
              "    </tr>\n",
              "    <tr>\n",
              "      <th>2020-09-21 04:27:16</th>\n",
              "      <td>140938838</td>\n",
              "      <td>g1_5</td>\n",
              "      <td>g1_5-Act_9</td>\n",
              "      <td>0</td>\n",
              "      <td>2</td>\n",
              "      <td>2</td>\n",
              "      <td>699</td>\n",
              "      <td>3.99</td>\n",
              "    </tr>\n",
              "    <tr>\n",
              "      <th>2020-09-24 21:15:49</th>\n",
              "      <td>071084462</td>\n",
              "      <td>g8_6</td>\n",
              "      <td>g8_6-Act_13</td>\n",
              "      <td>0</td>\n",
              "      <td>1</td>\n",
              "      <td>1</td>\n",
              "      <td>475</td>\n",
              "      <td>2.55</td>\n",
              "    </tr>\n",
              "  </tbody>\n",
              "</table>\n",
              "</div>"
            ],
            "text/plain": [
              "                    student_ID Course_code  ... Act_time Act_mark\n",
              "Act_submit_Time                             ...                  \n",
              "2020-09-13 17:38:42  081067607        g7_4  ...      234     3.63\n",
              "2020-09-02 05:20:01  081067607        g7_6  ...      261     3.80\n",
              "2020-09-15 08:37:23  140938838        g1_6  ...      801     2.81\n",
              "2020-09-21 04:27:16  140938838        g1_5  ...      699     3.99\n",
              "2020-09-24 21:15:49  071084462        g8_6  ...      475     2.55\n",
              "\n",
              "[5 rows x 8 columns]"
            ]
          },
          "metadata": {
            "tags": []
          },
          "execution_count": 71
        }
      ]
    },
    {
      "cell_type": "code",
      "metadata": {
        "id": "1ttA46uHigbZ"
      },
      "source": [
        "df_plt=  df_avt[df_avt.student_ID==\"080969613\"].loc[\"2020-4\":\"2021-2\" ,[\"Course_code\", \"Activity_type\" , \"Activity_id\", \"Act_diff\", \t\"Act_cp\", \t\"Act_time\"\t,\"Act_mark\"]]"
      ],
      "execution_count": null,
      "outputs": []
    },
    {
      "cell_type": "code",
      "metadata": {
        "colab": {
          "base_uri": "https://localhost:8080/"
        },
        "id": "nw57VIPVYcWg",
        "outputId": "1c53c527-2a95-4ecb-b968-b138eda2627d"
      },
      "source": [
        "df_plt.groupby(\"Course_code\").Activity_id.agg(\"count\")"
      ],
      "execution_count": null,
      "outputs": [
        {
          "output_type": "execute_result",
          "data": {
            "text/plain": [
              "Course_code\n",
              "g7_1    1\n",
              "g7_2    2\n",
              "g7_3    1\n",
              "g7_5    1\n",
              "g7_6    1\n",
              "Name: Activity_id, dtype: int64"
            ]
          },
          "metadata": {
            "tags": []
          },
          "execution_count": 73
        }
      ]
    },
    {
      "cell_type": "code",
      "metadata": {
        "colab": {
          "base_uri": "https://localhost:8080/",
          "height": 235
        },
        "id": "PG1Rnd-Up5ac",
        "outputId": "1e44b6b9-af6a-4504-9218-c4322e31e44a"
      },
      "source": [
        "df_plt.head()"
      ],
      "execution_count": null,
      "outputs": [
        {
          "output_type": "execute_result",
          "data": {
            "text/html": [
              "<div>\n",
              "<style scoped>\n",
              "    .dataframe tbody tr th:only-of-type {\n",
              "        vertical-align: middle;\n",
              "    }\n",
              "\n",
              "    .dataframe tbody tr th {\n",
              "        vertical-align: top;\n",
              "    }\n",
              "\n",
              "    .dataframe thead th {\n",
              "        text-align: right;\n",
              "    }\n",
              "</style>\n",
              "<table border=\"1\" class=\"dataframe\">\n",
              "  <thead>\n",
              "    <tr style=\"text-align: right;\">\n",
              "      <th></th>\n",
              "      <th>Course_code</th>\n",
              "      <th>Activity_type</th>\n",
              "      <th>Activity_id</th>\n",
              "      <th>Act_diff</th>\n",
              "      <th>Act_cp</th>\n",
              "      <th>Act_time</th>\n",
              "      <th>Act_mark</th>\n",
              "    </tr>\n",
              "    <tr>\n",
              "      <th>Act_submit_Time</th>\n",
              "      <th></th>\n",
              "      <th></th>\n",
              "      <th></th>\n",
              "      <th></th>\n",
              "      <th></th>\n",
              "      <th></th>\n",
              "      <th></th>\n",
              "    </tr>\n",
              "  </thead>\n",
              "  <tbody>\n",
              "    <tr>\n",
              "      <th>2020-10-26 06:20:39</th>\n",
              "      <td>g7_2</td>\n",
              "      <td>0</td>\n",
              "      <td>g7_2-Act_13</td>\n",
              "      <td>2</td>\n",
              "      <td>2</td>\n",
              "      <td>857</td>\n",
              "      <td>3.33</td>\n",
              "    </tr>\n",
              "    <tr>\n",
              "      <th>2020-04-17 17:16:33</th>\n",
              "      <td>g7_2</td>\n",
              "      <td>1</td>\n",
              "      <td>g7_2-Act_5</td>\n",
              "      <td>4</td>\n",
              "      <td>2</td>\n",
              "      <td>30</td>\n",
              "      <td>1.36</td>\n",
              "    </tr>\n",
              "    <tr>\n",
              "      <th>2020-11-13 02:04:14</th>\n",
              "      <td>g7_1</td>\n",
              "      <td>0</td>\n",
              "      <td>g7_1-Act_5</td>\n",
              "      <td>2</td>\n",
              "      <td>1</td>\n",
              "      <td>45</td>\n",
              "      <td>1.98</td>\n",
              "    </tr>\n",
              "    <tr>\n",
              "      <th>2020-05-17 06:04:31</th>\n",
              "      <td>g7_5</td>\n",
              "      <td>0</td>\n",
              "      <td>g7_5-Act_20</td>\n",
              "      <td>2</td>\n",
              "      <td>1</td>\n",
              "      <td>603</td>\n",
              "      <td>8.22</td>\n",
              "    </tr>\n",
              "    <tr>\n",
              "      <th>2020-08-25 11:09:01</th>\n",
              "      <td>g7_3</td>\n",
              "      <td>0</td>\n",
              "      <td>g7_3-Act_3</td>\n",
              "      <td>1</td>\n",
              "      <td>2</td>\n",
              "      <td>101</td>\n",
              "      <td>3.01</td>\n",
              "    </tr>\n",
              "  </tbody>\n",
              "</table>\n",
              "</div>"
            ],
            "text/plain": [
              "                    Course_code Activity_type  ... Act_time  Act_mark\n",
              "Act_submit_Time                                ...                   \n",
              "2020-10-26 06:20:39        g7_2             0  ...      857      3.33\n",
              "2020-04-17 17:16:33        g7_2             1  ...       30      1.36\n",
              "2020-11-13 02:04:14        g7_1             0  ...       45      1.98\n",
              "2020-05-17 06:04:31        g7_5             0  ...      603      8.22\n",
              "2020-08-25 11:09:01        g7_3             0  ...      101      3.01\n",
              "\n",
              "[5 rows x 7 columns]"
            ]
          },
          "metadata": {
            "tags": []
          },
          "execution_count": 74
        }
      ]
    },
    {
      "cell_type": "code",
      "metadata": {
        "id": "jWCFQ0JQsVaA"
      },
      "source": [
        "df_plt.reset_index(inplace=True)"
      ],
      "execution_count": null,
      "outputs": []
    },
    {
      "cell_type": "code",
      "metadata": {
        "id": "9N6UkyhfiSdJ"
      },
      "source": [
        "df_plt=df_plt.merge( df_ActAv, on=[\"Activity_type\", \"Activity_id\" ])"
      ],
      "execution_count": null,
      "outputs": []
    },
    {
      "cell_type": "code",
      "metadata": {
        "colab": {
          "base_uri": "https://localhost:8080/"
        },
        "id": "w8_8WpampUuy",
        "outputId": "d4b7dc6e-58b8-4494-cb64-ccea205b0d7d"
      },
      "source": [
        "df_plt.keys()"
      ],
      "execution_count": null,
      "outputs": [
        {
          "output_type": "execute_result",
          "data": {
            "text/plain": [
              "Index(['Act_submit_Time', 'Course_code', 'Activity_type', 'Activity_id',\n",
              "       'Act_diff', 'Act_cp', 'Act_time', 'Act_mark', 'Act_cp_avg',\n",
              "       'Act_diff_avg', 'Act_mark_avg', 'Act_time_avg'],\n",
              "      dtype='object')"
            ]
          },
          "metadata": {
            "tags": []
          },
          "execution_count": 77
        }
      ]
    },
    {
      "cell_type": "code",
      "metadata": {
        "id": "Vpe522sppPKs"
      },
      "source": [
        "df_plt.set_index(\"Act_submit_Time\", inplace=True)"
      ],
      "execution_count": null,
      "outputs": []
    },
    {
      "cell_type": "code",
      "metadata": {
        "colab": {
          "base_uri": "https://localhost:8080/",
          "height": 235
        },
        "id": "nRUOMSNAr6E0",
        "outputId": "e72a1352-c1ec-4e70-e17b-429ba51546d7"
      },
      "source": [
        "# this is dataset for a particular Student.\n",
        "df_plt.head()"
      ],
      "execution_count": null,
      "outputs": [
        {
          "output_type": "execute_result",
          "data": {
            "text/html": [
              "<div>\n",
              "<style scoped>\n",
              "    .dataframe tbody tr th:only-of-type {\n",
              "        vertical-align: middle;\n",
              "    }\n",
              "\n",
              "    .dataframe tbody tr th {\n",
              "        vertical-align: top;\n",
              "    }\n",
              "\n",
              "    .dataframe thead th {\n",
              "        text-align: right;\n",
              "    }\n",
              "</style>\n",
              "<table border=\"1\" class=\"dataframe\">\n",
              "  <thead>\n",
              "    <tr style=\"text-align: right;\">\n",
              "      <th></th>\n",
              "      <th>Course_code</th>\n",
              "      <th>Activity_type</th>\n",
              "      <th>Activity_id</th>\n",
              "      <th>Act_diff</th>\n",
              "      <th>Act_cp</th>\n",
              "      <th>Act_time</th>\n",
              "      <th>Act_mark</th>\n",
              "      <th>Act_cp_avg</th>\n",
              "      <th>Act_diff_avg</th>\n",
              "      <th>Act_mark_avg</th>\n",
              "      <th>Act_time_avg</th>\n",
              "    </tr>\n",
              "    <tr>\n",
              "      <th>Act_submit_Time</th>\n",
              "      <th></th>\n",
              "      <th></th>\n",
              "      <th></th>\n",
              "      <th></th>\n",
              "      <th></th>\n",
              "      <th></th>\n",
              "      <th></th>\n",
              "      <th></th>\n",
              "      <th></th>\n",
              "      <th></th>\n",
              "      <th></th>\n",
              "    </tr>\n",
              "  </thead>\n",
              "  <tbody>\n",
              "    <tr>\n",
              "      <th>2020-10-26 06:20:39</th>\n",
              "      <td>g7_2</td>\n",
              "      <td>0</td>\n",
              "      <td>g7_2-Act_13</td>\n",
              "      <td>2</td>\n",
              "      <td>2</td>\n",
              "      <td>857</td>\n",
              "      <td>3.33</td>\n",
              "      <td>1.500000</td>\n",
              "      <td>2.250000</td>\n",
              "      <td>3.790000</td>\n",
              "      <td>599.500000</td>\n",
              "    </tr>\n",
              "    <tr>\n",
              "      <th>2020-04-17 17:16:33</th>\n",
              "      <td>g7_2</td>\n",
              "      <td>1</td>\n",
              "      <td>g7_2-Act_5</td>\n",
              "      <td>4</td>\n",
              "      <td>2</td>\n",
              "      <td>30</td>\n",
              "      <td>1.36</td>\n",
              "      <td>2.000000</td>\n",
              "      <td>3.500000</td>\n",
              "      <td>2.375000</td>\n",
              "      <td>206.000000</td>\n",
              "    </tr>\n",
              "    <tr>\n",
              "      <th>2020-11-13 02:04:14</th>\n",
              "      <td>g7_1</td>\n",
              "      <td>0</td>\n",
              "      <td>g7_1-Act_5</td>\n",
              "      <td>2</td>\n",
              "      <td>1</td>\n",
              "      <td>45</td>\n",
              "      <td>1.98</td>\n",
              "      <td>1.666667</td>\n",
              "      <td>2.555556</td>\n",
              "      <td>5.865556</td>\n",
              "      <td>382.444444</td>\n",
              "    </tr>\n",
              "    <tr>\n",
              "      <th>2020-05-17 06:04:31</th>\n",
              "      <td>g7_5</td>\n",
              "      <td>0</td>\n",
              "      <td>g7_5-Act_20</td>\n",
              "      <td>2</td>\n",
              "      <td>1</td>\n",
              "      <td>603</td>\n",
              "      <td>8.22</td>\n",
              "      <td>1.500000</td>\n",
              "      <td>2.333333</td>\n",
              "      <td>6.623333</td>\n",
              "      <td>623.833333</td>\n",
              "    </tr>\n",
              "    <tr>\n",
              "      <th>2020-08-25 11:09:01</th>\n",
              "      <td>g7_3</td>\n",
              "      <td>0</td>\n",
              "      <td>g7_3-Act_3</td>\n",
              "      <td>1</td>\n",
              "      <td>2</td>\n",
              "      <td>101</td>\n",
              "      <td>3.01</td>\n",
              "      <td>1.571429</td>\n",
              "      <td>2.571429</td>\n",
              "      <td>6.478571</td>\n",
              "      <td>381.142857</td>\n",
              "    </tr>\n",
              "  </tbody>\n",
              "</table>\n",
              "</div>"
            ],
            "text/plain": [
              "                    Course_code Activity_type  ... Act_mark_avg  Act_time_avg\n",
              "Act_submit_Time                                ...                           \n",
              "2020-10-26 06:20:39        g7_2             0  ...     3.790000    599.500000\n",
              "2020-04-17 17:16:33        g7_2             1  ...     2.375000    206.000000\n",
              "2020-11-13 02:04:14        g7_1             0  ...     5.865556    382.444444\n",
              "2020-05-17 06:04:31        g7_5             0  ...     6.623333    623.833333\n",
              "2020-08-25 11:09:01        g7_3             0  ...     6.478571    381.142857\n",
              "\n",
              "[5 rows x 11 columns]"
            ]
          },
          "metadata": {
            "tags": []
          },
          "execution_count": 79
        }
      ]
    },
    {
      "cell_type": "code",
      "metadata": {
        "id": "MIY4x-CcyJHn"
      },
      "source": [
        "df_plt[\"Activity_type\"]=df_plt.Activity_type.astype(int)  "
      ],
      "execution_count": null,
      "outputs": []
    },
    {
      "cell_type": "code",
      "metadata": {
        "colab": {
          "base_uri": "https://localhost:8080/"
        },
        "id": "uvwt7ut-Husi",
        "outputId": "9ba204ea-c9aa-4bdf-ef3a-e754ec21d04d"
      },
      "source": [
        "df_plt[df_plt.Activity_type==1][\"Act_mark\"]"
      ],
      "execution_count": null,
      "outputs": [
        {
          "output_type": "execute_result",
          "data": {
            "text/plain": [
              "Act_submit_Time\n",
              "2020-04-17 17:16:33    1.36\n",
              "Name: Act_mark, dtype: float64"
            ]
          },
          "metadata": {
            "tags": []
          },
          "execution_count": 81
        }
      ]
    },
    {
      "cell_type": "code",
      "metadata": {
        "colab": {
          "base_uri": "https://localhost:8080/"
        },
        "id": "urTWLsB5ySr9",
        "outputId": "604bb93c-5fbc-4549-d484-6df37e2766b9"
      },
      "source": [
        "df_plt.info()"
      ],
      "execution_count": null,
      "outputs": [
        {
          "output_type": "stream",
          "text": [
            "<class 'pandas.core.frame.DataFrame'>\n",
            "DatetimeIndex: 6 entries, 2020-10-26 06:20:39 to 2020-11-26 20:02:51\n",
            "Data columns (total 11 columns):\n",
            " #   Column         Non-Null Count  Dtype  \n",
            "---  ------         --------------  -----  \n",
            " 0   Course_code    6 non-null      object \n",
            " 1   Activity_type  6 non-null      int64  \n",
            " 2   Activity_id    6 non-null      object \n",
            " 3   Act_diff       6 non-null      int64  \n",
            " 4   Act_cp         6 non-null      int64  \n",
            " 5   Act_time       6 non-null      int64  \n",
            " 6   Act_mark       6 non-null      float64\n",
            " 7   Act_cp_avg     6 non-null      float64\n",
            " 8   Act_diff_avg   6 non-null      float64\n",
            " 9   Act_mark_avg   6 non-null      float64\n",
            " 10  Act_time_avg   6 non-null      float64\n",
            "dtypes: float64(5), int64(4), object(2)\n",
            "memory usage: 576.0+ bytes\n"
          ],
          "name": "stdout"
        }
      ]
    },
    {
      "cell_type": "code",
      "metadata": {
        "colab": {
          "base_uri": "https://localhost:8080/"
        },
        "id": "t4WMII75PQu5",
        "outputId": "01bcda64-e038-471c-94f6-e6db64a61a6a"
      },
      "source": [
        "df_plt[df_plt.Activity_type==0][\"Act_mark\"]"
      ],
      "execution_count": null,
      "outputs": [
        {
          "output_type": "execute_result",
          "data": {
            "text/plain": [
              "Act_submit_Time\n",
              "2020-10-26 06:20:39    3.33\n",
              "2020-11-13 02:04:14    1.98\n",
              "2020-05-17 06:04:31    8.22\n",
              "2020-08-25 11:09:01    3.01\n",
              "2020-11-26 20:02:51    6.75\n",
              "Name: Act_mark, dtype: float64"
            ]
          },
          "metadata": {
            "tags": []
          },
          "execution_count": 83
        }
      ]
    },
    {
      "cell_type": "code",
      "metadata": {
        "id": "yKylbH4JgWHn"
      },
      "source": [
        "import matplotlib.pyplot as plt\n",
        "from matplotlib.dates import DateFormatter\n",
        "import seaborn as sns"
      ],
      "execution_count": null,
      "outputs": []
    },
    {
      "cell_type": "code",
      "metadata": {
        "colab": {
          "base_uri": "https://localhost:8080/",
          "height": 935
        },
        "id": "cWAsXYgrkDr_",
        "outputId": "9d03617a-4a0b-4e25-ed77-6f5f29597781"
      },
      "source": [
        "#  NUmber of Assignments is less then Quizzes\n",
        "plt.rcParams.update({'font.size': 22})\n",
        "#plt.subplots_adjust(top = 0.99, bottom=0.01, wspace=0.4)\n",
        "\n",
        "# plt.setp(axes, xticks=[0.1, 0.5, 0.9], xticklabels=['a', 'b', 'c'],\n",
        "#         yticks=[1, 2, 3])\n",
        "# plt.sca(axes[1, 1])\n",
        "# plt.xticks(range(3), ['A', 'Big', 'Cat'], color='red')\n",
        "\n",
        "\n",
        "fig, ax=plt.subplots(2, 2, figsize=(30,20), sharex=False )\n",
        "plt.subplots_adjust(top = 0.99, bottom=0.01, wspace=0.4)\n",
        "\n",
        "\n",
        "df_plt[df_plt.Activity_type==1][\"Act_mark\"].plot( subplots=True,marker=\"o\",    ax=ax[0, 0] , color=\"blue\", label=\"Assignements Mark\")\n",
        "df_plt[df_plt.Activity_type==1][\"Act_mark_avg\"].plot( subplots=True, marker=\"s\",   ax=ax[0,0] , color=\"green\", label=\"Average Assignement Marks\" )\n",
        "\n",
        "df_plt[df_plt.Activity_type==0][\"Act_mark\"].plot( subplots=True, marker=\"o\",   ax=ax[0,1] , color=\"red\", label=\"Quizzs Marks\" )\n",
        "df_plt[df_plt.Activity_type==0][\"Act_mark_avg\"].plot( subplots=True, marker=\"s\",   ax=ax[0,1] , color=\"green\", label=\"Average Quizzes Marks\" )\n",
        "# add time Avg per Activity\n",
        "\n",
        "ax4=ax[1,1].twinx()\n",
        "df_plt[df_plt.Activity_type==0][\"Act_mark\"].plot( subplots=True, marker=\"o\",   ax=ax[1,1] , color=\"red\", label=\"Quizzes Marks\" )\n",
        "\n",
        "df_plt[df_plt.Activity_type==0][\"Act_time_avg\"].plot( subplots=True, marker=\"+\",   ax=ax[1,1] , color=\"brown\", label=\"Quizzes Average time\" )\n",
        "\n",
        "\n",
        "ax3=ax[1,0].twinx()\n",
        "df_plt[df_plt.Activity_type==1][\"Act_mark\"].plot( subplots=True, marker=\"o\",   ax=ax[1,0] , color=\"red\", label=\"Assignment Marks\" )\n",
        "df_plt[df_plt.Activity_type==1][\"Act_time_avg\"].plot( subplots=True,marker=\"+\",    ax=ax[1, 0] , color=\"blue\", label=\"Assignement Submission Avg time\")\n",
        "\n",
        "\n",
        "\n",
        "plt.legend()\n",
        "# Set title and labels for axes\n",
        "ax[0,0].set(xlabel=\"Dates\",\n",
        "       ylabel=\"Assignments Marks\",\n",
        "       title=\" Assignement Marks  Timeline\")\n",
        "fig.autofmt_xdate(rotation=45)\n",
        "ax[0,0].xaxis.set_major_formatter(DateFormatter(\"%Y-%b\"))\n",
        "# ---------------------------------------------\n",
        "\n",
        "ax[0,1].set(xlabel=\"Dates\",\n",
        "       ylabel=\" Quizzes Marks\",\n",
        "       title=\" Quizzes Marks  Timeline\")\n",
        "ax4.set(xlabel=\"Dates\",\n",
        "       ylabel=\"   Quizzes Marks\",\n",
        "       )\n",
        "ax[1,1].set(xlabel=\"Dates\",\n",
        "       ylabel=\"   Average Time per Quizz\"\n",
        "       )\n",
        "\n",
        "ax[1,0].set(xlabel=\"Dates\",\n",
        "       ylabel=\" Assignment Marks\",\n",
        "       title=\" Assignments \")\n",
        "\n",
        "fig.autofmt_xdate(rotation=45)\n",
        "\n",
        "ax[0,0].grid()\n",
        "ax[0,1].grid()\n",
        "ax[1,0].grid()\n",
        "ax[1,1].grid()\n",
        "ax[1,1].xaxis.set_major_formatter(DateFormatter(\"%Y-%b\"))\n",
        "ax[1,0].xaxis.set_major_formatter(DateFormatter(\"%Y-%b\"))\n",
        "\n",
        "  #---------------------------------------\n",
        "ax[0,0].legend()\n",
        "ax[0,1].legend()\n",
        "ax[1,0].legend()\n",
        "ax[1,1].legend()"
      ],
      "execution_count": null,
      "outputs": [
        {
          "output_type": "stream",
          "text": [
            "No handles with labels found to put in legend.\n"
          ],
          "name": "stderr"
        },
        {
          "output_type": "execute_result",
          "data": {
            "text/plain": [
              "<matplotlib.legend.Legend at 0x7fde6039ea50>"
            ]
          },
          "metadata": {
            "tags": []
          },
          "execution_count": 85
        },
        {
          "output_type": "display_data",
          "data": {
            "image/png": "[encoded data removed]",
            "text/plain": [
              "<Figure size 2160x1440 with 6 Axes>"
            ]
          },
          "metadata": {
            "tags": [],
            "needs_background": "light"
          }
        }
      ]
    },
    {
      "cell_type": "code",
      "metadata": {
        "colab": {
          "base_uri": "https://localhost:8080/",
          "height": 204
        },
        "id": "PywcBt6tGRZC",
        "outputId": "01737eb0-d47e-4e6a-8b7c-99ada350f313"
      },
      "source": [
        "df_plt.reset_index(inplace=True)\n",
        "df_plt.head()"
      ],
      "execution_count": null,
      "outputs": [
        {
          "output_type": "execute_result",
          "data": {
            "text/html": [
              "<div>\n",
              "<style scoped>\n",
              "    .dataframe tbody tr th:only-of-type {\n",
              "        vertical-align: middle;\n",
              "    }\n",
              "\n",
              "    .dataframe tbody tr th {\n",
              "        vertical-align: top;\n",
              "    }\n",
              "\n",
              "    .dataframe thead th {\n",
              "        text-align: right;\n",
              "    }\n",
              "</style>\n",
              "<table border=\"1\" class=\"dataframe\">\n",
              "  <thead>\n",
              "    <tr style=\"text-align: right;\">\n",
              "      <th></th>\n",
              "      <th>Act_submit_Time</th>\n",
              "      <th>Course_code</th>\n",
              "      <th>Activity_type</th>\n",
              "      <th>Activity_id</th>\n",
              "      <th>Act_diff</th>\n",
              "      <th>Act_cp</th>\n",
              "      <th>Act_time</th>\n",
              "      <th>Act_mark</th>\n",
              "      <th>Act_cp_avg</th>\n",
              "      <th>Act_diff_avg</th>\n",
              "      <th>Act_mark_avg</th>\n",
              "      <th>Act_time_avg</th>\n",
              "    </tr>\n",
              "  </thead>\n",
              "  <tbody>\n",
              "    <tr>\n",
              "      <th>0</th>\n",
              "      <td>2020-10-26 06:20:39</td>\n",
              "      <td>g7_2</td>\n",
              "      <td>0</td>\n",
              "      <td>g7_2-Act_13</td>\n",
              "      <td>2</td>\n",
              "      <td>2</td>\n",
              "      <td>857</td>\n",
              "      <td>3.33</td>\n",
              "      <td>1.500000</td>\n",
              "      <td>2.250000</td>\n",
              "      <td>3.790000</td>\n",
              "      <td>599.500000</td>\n",
              "    </tr>\n",
              "    <tr>\n",
              "      <th>1</th>\n",
              "      <td>2020-04-17 17:16:33</td>\n",
              "      <td>g7_2</td>\n",
              "      <td>1</td>\n",
              "      <td>g7_2-Act_5</td>\n",
              "      <td>4</td>\n",
              "      <td>2</td>\n",
              "      <td>30</td>\n",
              "      <td>1.36</td>\n",
              "      <td>2.000000</td>\n",
              "      <td>3.500000</td>\n",
              "      <td>2.375000</td>\n",
              "      <td>206.000000</td>\n",
              "    </tr>\n",
              "    <tr>\n",
              "      <th>2</th>\n",
              "      <td>2020-11-13 02:04:14</td>\n",
              "      <td>g7_1</td>\n",
              "      <td>0</td>\n",
              "      <td>g7_1-Act_5</td>\n",
              "      <td>2</td>\n",
              "      <td>1</td>\n",
              "      <td>45</td>\n",
              "      <td>1.98</td>\n",
              "      <td>1.666667</td>\n",
              "      <td>2.555556</td>\n",
              "      <td>5.865556</td>\n",
              "      <td>382.444444</td>\n",
              "    </tr>\n",
              "    <tr>\n",
              "      <th>3</th>\n",
              "      <td>2020-05-17 06:04:31</td>\n",
              "      <td>g7_5</td>\n",
              "      <td>0</td>\n",
              "      <td>g7_5-Act_20</td>\n",
              "      <td>2</td>\n",
              "      <td>1</td>\n",
              "      <td>603</td>\n",
              "      <td>8.22</td>\n",
              "      <td>1.500000</td>\n",
              "      <td>2.333333</td>\n",
              "      <td>6.623333</td>\n",
              "      <td>623.833333</td>\n",
              "    </tr>\n",
              "    <tr>\n",
              "      <th>4</th>\n",
              "      <td>2020-08-25 11:09:01</td>\n",
              "      <td>g7_3</td>\n",
              "      <td>0</td>\n",
              "      <td>g7_3-Act_3</td>\n",
              "      <td>1</td>\n",
              "      <td>2</td>\n",
              "      <td>101</td>\n",
              "      <td>3.01</td>\n",
              "      <td>1.571429</td>\n",
              "      <td>2.571429</td>\n",
              "      <td>6.478571</td>\n",
              "      <td>381.142857</td>\n",
              "    </tr>\n",
              "  </tbody>\n",
              "</table>\n",
              "</div>"
            ],
            "text/plain": [
              "      Act_submit_Time Course_code  ...  Act_mark_avg Act_time_avg\n",
              "0 2020-10-26 06:20:39        g7_2  ...      3.790000   599.500000\n",
              "1 2020-04-17 17:16:33        g7_2  ...      2.375000   206.000000\n",
              "2 2020-11-13 02:04:14        g7_1  ...      5.865556   382.444444\n",
              "3 2020-05-17 06:04:31        g7_5  ...      6.623333   623.833333\n",
              "4 2020-08-25 11:09:01        g7_3  ...      6.478571   381.142857\n",
              "\n",
              "[5 rows x 12 columns]"
            ]
          },
          "metadata": {
            "tags": []
          },
          "execution_count": 86
        }
      ]
    },
    {
      "cell_type": "code",
      "metadata": {
        "colab": {
          "base_uri": "https://localhost:8080/",
          "height": 542
        },
        "id": "O2Z0GcOUjEWy",
        "outputId": "32ecc014-e043-4644-c596-6919c162d41c"
      },
      "source": [
        "import plotly.express as px\n",
        "\n",
        "#df = px.data.gapminder().query(\"continent=='Oceania'\")\n",
        "\n",
        "fig= px.line(df_plt.sort_values(by=\"Act_submit_Time\"), \n",
        "             x=\"Act_submit_Time\", y=\"Act_mark\"  , title=\"Comparision between the student's mark (LINE) and the average of all students marks (BAR)\", \n",
        "             labels ={\"mark\": \"Act_mark\" , \"submit_Time\" :\"Act_submit_Time\" } , \n",
        "             color_discrete_map={\n",
        "                 \"Act_mark\": \"r\"               \n",
        "             })\n",
        "fig1= px.bar(df_plt.sort_values(by=\"Act_submit_Time\"),  labels= {\"Act_submit_Time\" :\"Time\" },\n",
        "             x=\"Act_submit_Time\", y=\"Act_mark_avg\" , title=\"Comparision between the student's mark and the average of all students marks\" ,      \n",
        "              )\n",
        "fig.add_trace(fig1.data[0])\n",
        "#fig.update_layout(legend_title_text='Trend')\n",
        "\n",
        "\n",
        "\n",
        "fig.update_traces(  hovertemplate=None)\n",
        "fig.update_layout(hovermode=\"x\" )\n",
        "\n",
        "\n",
        "fig['data'][0]['showlegend']=True\n",
        "fig['data'][0]['name']=\"Student's mark\"\n",
        "\n",
        "fig['data'][1]['showlegend']=True\n",
        "fig['data'][1]['name']=\"Average Mark\"\n",
        "\n",
        "fig.show()\n",
        "\n",
        "\n"
      ],
      "execution_count": null,
      "outputs": [
        {
          "output_type": "display_data",
          "data": {
            "text/html": [
              "<html>\n",
              "<head><meta charset=\"utf-8\" /></head>\n",
              "<body>\n",
              "    <div>            <script src=\"https://cdnjs.cloudflare.com/ajax/libs/mathjax/2.7.5/MathJax.js?config=TeX-AMS-MML_SVG\"></script><script type=\"text/javascript\">if (window.MathJax) {MathJax.Hub.Config({SVG: {font: \"STIX-Web\"}});}</script>                <script type=\"text/javascript\">window.PlotlyConfig = {MathJaxConfig: 'local'};</script>\n",
              "        <script src=\"https://cdn.plot.ly/plotly-2.1.0.min.js\"></script>                <div id=\"60742fb0-f88e-4d7a-9d0c-022051c325e9\" class=\"plotly-graph-div\" style=\"height:525px; width:100%;\"></div>            <script type=\"text/javascript\">                                    window.PLOTLYENV=window.PLOTLYENV || {};                                    if (document.getElementById(\"60742fb0-f88e-4d7a-9d0c-022051c325e9\")) {                    Plotly.newPlot(                        \"60742fb0-f88e-4d7a-9d0c-022051c325e9\",                        [{\"legendgroup\":\"\",\"line\":{\"color\":\"#636efa\",\"dash\":\"solid\"},\"mode\":\"lines\",\"name\":\"Student's mark\",\"orientation\":\"v\",\"showlegend\":true,\"type\":\"scatter\",\"x\":[\"2020-04-17T17:16:33\",\"2020-05-17T06:04:31\",\"2020-08-25T11:09:01\",\"2020-10-26T06:20:39\",\"2020-11-13T02:04:14\",\"2020-11-26T20:02:51\"],\"xaxis\":\"x\",\"y\":[1.36,8.22,3.01,3.33,1.98,6.75],\"yaxis\":\"y\"},{\"alignmentgroup\":\"True\",\"legendgroup\":\"\",\"marker\":{\"color\":\"#636efa\",\"pattern\":{\"shape\":\"\"}},\"name\":\"Average Mark\",\"offsetgroup\":\"\",\"orientation\":\"v\",\"showlegend\":true,\"textposition\":\"auto\",\"type\":\"bar\",\"x\":[\"2020-04-17T17:16:33\",\"2020-05-17T06:04:31\",\"2020-08-25T11:09:01\",\"2020-10-26T06:20:39\",\"2020-11-13T02:04:14\",\"2020-11-26T20:02:51\"],\"xaxis\":\"x\",\"y\":[2.375,6.623333333333334,6.478571428571429,3.79,5.865555555555556,6.13],\"yaxis\":\"y\"}],                        {\"hovermode\":\"x\",\"legend\":{\"tracegroupgap\":0},\"template\":{\"data\":{\"bar\":[{\"error_x\":{\"color\":\"#2a3f5f\"},\"error_y\":{\"color\":\"#2a3f5f\"},\"marker\":{\"line\":{\"color\":\"#E5ECF6\",\"width\":0.5},\"pattern\":{\"fillmode\":\"overlay\",\"size\":10,\"solidity\":0.2}},\"type\":\"bar\"}],\"barpolar\":[{\"marker\":{\"line\":{\"color\":\"#E5ECF6\",\"width\":0.5},\"pattern\":{\"fillmode\":\"overlay\",\"size\":10,\"solidity\":0.2}},\"type\":\"barpolar\"}],\"carpet\":[{\"aaxis\":{\"endlinecolor\":\"#2a3f5f\",\"gridcolor\":\"white\",\"linecolor\":\"white\",\"minorgridcolor\":\"white\",\"startlinecolor\":\"#2a3f5f\"},\"baxis\":{\"endlinecolor\":\"#2a3f5f\",\"gridcolor\":\"white\",\"linecolor\":\"white\",\"minorgridcolor\":\"white\",\"startlinecolor\":\"#2a3f5f\"},\"type\":\"carpet\"}],\"choropleth\":[{\"colorbar\":{\"outlinewidth\":0,\"ticks\":\"\"},\"type\":\"choropleth\"}],\"contour\":[{\"colorbar\":{\"outlinewidth\":0,\"ticks\":\"\"},\"colorscale\":[[0.0,\"#0d0887\"],[0.1111111111111111,\"#46039f\"],[0.2222222222222222,\"#7201a8\"],[0.3333333333333333,\"#9c179e\"],[0.4444444444444444,\"#bd3786\"],[0.5555555555555556,\"#d8576b\"],[0.6666666666666666,\"#ed7953\"],[0.7777777777777778,\"#fb9f3a\"],[0.8888888888888888,\"#fdca26\"],[1.0,\"#f0f921\"]],\"type\":\"contour\"}],\"contourcarpet\":[{\"colorbar\":{\"outlinewidth\":0,\"ticks\":\"\"},\"type\":\"contourcarpet\"}],\"heatmap\":[{\"colorbar\":{\"outlinewidth\":0,\"ticks\":\"\"},\"colorscale\":[[0.0,\"#0d0887\"],[0.1111111111111111,\"#46039f\"],[0.2222222222222222,\"#7201a8\"],[0.3333333333333333,\"#9c179e\"],[0.4444444444444444,\"#bd3786\"],[0.5555555555555556,\"#d8576b\"],[0.6666666666666666,\"#ed7953\"],[0.7777777777777778,\"#fb9f3a\"],[0.8888888888888888,\"#fdca26\"],[1.0,\"#f0f921\"]],\"type\":\"heatmap\"}],\"heatmapgl\":[{\"colorbar\":{\"outlinewidth\":0,\"ticks\":\"\"},\"colorscale\":[[0.0,\"#0d0887\"],[0.1111111111111111,\"#46039f\"],[0.2222222222222222,\"#7201a8\"],[0.3333333333333333,\"#9c179e\"],[0.4444444444444444,\"#bd3786\"],[0.5555555555555556,\"#d8576b\"],[0.6666666666666666,\"#ed7953\"],[0.7777777777777778,\"#fb9f3a\"],[0.8888888888888888,\"#fdca26\"],[1.0,\"#f0f921\"]],\"type\":\"heatmapgl\"}],\"histogram\":[{\"marker\":{\"pattern\":{\"fillmode\":\"overlay\",\"size\":10,\"solidity\":0.2}},\"type\":\"histogram\"}],\"histogram2d\":[{\"colorbar\":{\"outlinewidth\":0,\"ticks\":\"\"},\"colorscale\":[[0.0,\"#0d0887\"],[0.1111111111111111,\"#46039f\"],[0.2222222222222222,\"#7201a8\"],[0.3333333333333333,\"#9c179e\"],[0.4444444444444444,\"#bd3786\"],[0.5555555555555556,\"#d8576b\"],[0.6666666666666666,\"#ed7953\"],[0.7777777777777778,\"#fb9f3a\"],[0.8888888888888888,\"#fdca26\"],[1.0,\"#f0f921\"]],\"type\":\"histogram2d\"}],\"histogram2dcontour\":[{\"colorbar\":{\"outlinewidth\":0,\"ticks\":\"\"},\"colorscale\":[[0.0,\"#0d0887\"],[0.1111111111111111,\"#46039f\"],[0.2222222222222222,\"#7201a8\"],[0.3333333333333333,\"#9c179e\"],[0.4444444444444444,\"#bd3786\"],[0.5555555555555556,\"#d8576b\"],[0.6666666666666666,\"#ed7953\"],[0.7777777777777778,\"#fb9f3a\"],[0.8888888888888888,\"#fdca26\"],[1.0,\"#f0f921\"]],\"type\":\"histogram2dcontour\"}],\"mesh3d\":[{\"colorbar\":{\"outlinewidth\":0,\"ticks\":\"\"},\"type\":\"mesh3d\"}],\"parcoords\":[{\"line\":{\"colorbar\":{\"outlinewidth\":0,\"ticks\":\"\"}},\"type\":\"parcoords\"}],\"pie\":[{\"automargin\":true,\"type\":\"pie\"}],\"scatter\":[{\"marker\":{\"colorbar\":{\"outlinewidth\":0,\"ticks\":\"\"}},\"type\":\"scatter\"}],\"scatter3d\":[{\"line\":{\"colorbar\":{\"outlinewidth\":0,\"ticks\":\"\"}},\"marker\":{\"colorbar\":{\"outlinewidth\":0,\"ticks\":\"\"}},\"type\":\"scatter3d\"}],\"scattercarpet\":[{\"marker\":{\"colorbar\":{\"outlinewidth\":0,\"ticks\":\"\"}},\"type\":\"scattercarpet\"}],\"scattergeo\":[{\"marker\":{\"colorbar\":{\"outlinewidth\":0,\"ticks\":\"\"}},\"type\":\"scattergeo\"}],\"scattergl\":[{\"marker\":{\"colorbar\":{\"outlinewidth\":0,\"ticks\":\"\"}},\"type\":\"scattergl\"}],\"scattermapbox\":[{\"marker\":{\"colorbar\":{\"outlinewidth\":0,\"ticks\":\"\"}},\"type\":\"scattermapbox\"}],\"scatterpolar\":[{\"marker\":{\"colorbar\":{\"outlinewidth\":0,\"ticks\":\"\"}},\"type\":\"scatterpolar\"}],\"scatterpolargl\":[{\"marker\":{\"colorbar\":{\"outlinewidth\":0,\"ticks\":\"\"}},\"type\":\"scatterpolargl\"}],\"scatterternary\":[{\"marker\":{\"colorbar\":{\"outlinewidth\":0,\"ticks\":\"\"}},\"type\":\"scatterternary\"}],\"surface\":[{\"colorbar\":{\"outlinewidth\":0,\"ticks\":\"\"},\"colorscale\":[[0.0,\"#0d0887\"],[0.1111111111111111,\"#46039f\"],[0.2222222222222222,\"#7201a8\"],[0.3333333333333333,\"#9c179e\"],[0.4444444444444444,\"#bd3786\"],[0.5555555555555556,\"#d8576b\"],[0.6666666666666666,\"#ed7953\"],[0.7777777777777778,\"#fb9f3a\"],[0.8888888888888888,\"#fdca26\"],[1.0,\"#f0f921\"]],\"type\":\"surface\"}],\"table\":[{\"cells\":{\"fill\":{\"color\":\"#EBF0F8\"},\"line\":{\"color\":\"white\"}},\"header\":{\"fill\":{\"color\":\"#C8D4E3\"},\"line\":{\"color\":\"white\"}},\"type\":\"table\"}]},\"layout\":{\"annotationdefaults\":{\"arrowcolor\":\"#2a3f5f\",\"arrowhead\":0,\"arrowwidth\":1},\"autotypenumbers\":\"strict\",\"coloraxis\":{\"colorbar\":{\"outlinewidth\":0,\"ticks\":\"\"}},\"colorscale\":{\"diverging\":[[0,\"#8e0152\"],[0.1,\"#c51b7d\"],[0.2,\"#de77ae\"],[0.3,\"#f1b6da\"],[0.4,\"#fde0ef\"],[0.5,\"#f7f7f7\"],[0.6,\"#e6f5d0\"],[0.7,\"#b8e186\"],[0.8,\"#7fbc41\"],[0.9,\"#4d9221\"],[1,\"#276419\"]],\"sequential\":[[0.0,\"#0d0887\"],[0.1111111111111111,\"#46039f\"],[0.2222222222222222,\"#7201a8\"],[0.3333333333333333,\"#9c179e\"],[0.4444444444444444,\"#bd3786\"],[0.5555555555555556,\"#d8576b\"],[0.6666666666666666,\"#ed7953\"],[0.7777777777777778,\"#fb9f3a\"],[0.8888888888888888,\"#fdca26\"],[1.0,\"#f0f921\"]],\"sequentialminus\":[[0.0,\"#0d0887\"],[0.1111111111111111,\"#46039f\"],[0.2222222222222222,\"#7201a8\"],[0.3333333333333333,\"#9c179e\"],[0.4444444444444444,\"#bd3786\"],[0.5555555555555556,\"#d8576b\"],[0.6666666666666666,\"#ed7953\"],[0.7777777777777778,\"#fb9f3a\"],[0.8888888888888888,\"#fdca26\"],[1.0,\"#f0f921\"]]},\"colorway\":[\"#636efa\",\"#EF553B\",\"#00cc96\",\"#ab63fa\",\"#FFA15A\",\"#19d3f3\",\"#FF6692\",\"#B6E880\",\"#FF97FF\",\"#FECB52\"],\"font\":{\"color\":\"#2a3f5f\"},\"geo\":{\"bgcolor\":\"white\",\"lakecolor\":\"white\",\"landcolor\":\"#E5ECF6\",\"showlakes\":true,\"showland\":true,\"subunitcolor\":\"white\"},\"hoverlabel\":{\"align\":\"left\"},\"hovermode\":\"closest\",\"mapbox\":{\"style\":\"light\"},\"paper_bgcolor\":\"white\",\"plot_bgcolor\":\"#E5ECF6\",\"polar\":{\"angularaxis\":{\"gridcolor\":\"white\",\"linecolor\":\"white\",\"ticks\":\"\"},\"bgcolor\":\"#E5ECF6\",\"radialaxis\":{\"gridcolor\":\"white\",\"linecolor\":\"white\",\"ticks\":\"\"}},\"scene\":{\"xaxis\":{\"backgroundcolor\":\"#E5ECF6\",\"gridcolor\":\"white\",\"gridwidth\":2,\"linecolor\":\"white\",\"showbackground\":true,\"ticks\":\"\",\"zerolinecolor\":\"white\"},\"yaxis\":{\"backgroundcolor\":\"#E5ECF6\",\"gridcolor\":\"white\",\"gridwidth\":2,\"linecolor\":\"white\",\"showbackground\":true,\"ticks\":\"\",\"zerolinecolor\":\"white\"},\"zaxis\":{\"backgroundcolor\":\"#E5ECF6\",\"gridcolor\":\"white\",\"gridwidth\":2,\"linecolor\":\"white\",\"showbackground\":true,\"ticks\":\"\",\"zerolinecolor\":\"white\"}},\"shapedefaults\":{\"line\":{\"color\":\"#2a3f5f\"}},\"ternary\":{\"aaxis\":{\"gridcolor\":\"white\",\"linecolor\":\"white\",\"ticks\":\"\"},\"baxis\":{\"gridcolor\":\"white\",\"linecolor\":\"white\",\"ticks\":\"\"},\"bgcolor\":\"#E5ECF6\",\"caxis\":{\"gridcolor\":\"white\",\"linecolor\":\"white\",\"ticks\":\"\"}},\"title\":{\"x\":0.05},\"xaxis\":{\"automargin\":true,\"gridcolor\":\"white\",\"linecolor\":\"white\",\"ticks\":\"\",\"title\":{\"standoff\":15},\"zerolinecolor\":\"white\",\"zerolinewidth\":2},\"yaxis\":{\"automargin\":true,\"gridcolor\":\"white\",\"linecolor\":\"white\",\"ticks\":\"\",\"title\":{\"standoff\":15},\"zerolinecolor\":\"white\",\"zerolinewidth\":2}}},\"title\":{\"text\":\"Comparision between the student's mark (LINE) and the average of all students marks (BAR)\"},\"xaxis\":{\"anchor\":\"y\",\"domain\":[0.0,1.0],\"title\":{\"text\":\"Act_submit_Time\"}},\"yaxis\":{\"anchor\":\"x\",\"domain\":[0.0,1.0],\"title\":{\"text\":\"Act_mark\"}}},                        {\"responsive\": true}                    ).then(function(){\n",
              "                            \n",
              "var gd = document.getElementById('60742fb0-f88e-4d7a-9d0c-022051c325e9');\n",
              "var x = new MutationObserver(function (mutations, observer) {{\n",
              "        var display = window.getComputedStyle(gd).display;\n",
              "        if (!display || display === 'none') {{\n",
              "            console.log([gd, 'removed!']);\n",
              "            Plotly.purge(gd);\n",
              "            observer.disconnect();\n",
              "        }}\n",
              "}});\n",
              "\n",
              "// Listen for the removal of the full notebook cells\n",
              "var notebookContainer = gd.closest('#notebook-container');\n",
              "if (notebookContainer) {{\n",
              "    x.observe(notebookContainer, {childList: true});\n",
              "}}\n",
              "\n",
              "// Listen for the clearing of the current output cell\n",
              "var outputEl = gd.closest('.output');\n",
              "if (outputEl) {{\n",
              "    x.observe(outputEl, {childList: true});\n",
              "}}\n",
              "\n",
              "                        })                };                            </script>        </div>\n",
              "</body>\n",
              "</html>"
            ]
          },
          "metadata": {
            "tags": []
          }
        }
      ]
    },
    {
      "cell_type": "markdown",
      "metadata": {
        "id": "mODye3CkyDIh"
      },
      "source": [
        "ddddffg## Pipeline    SGBRegressor  Mark Prediction \n",
        "![](https://i.ibb.co/xzWVv5H/pipe-Lasso.png)"
      ]
    },
    {
      "cell_type": "code",
      "metadata": {
        "id": "rVDz8wTrNE1I"
      },
      "source": [
        "#df_mg=pd.read_csv(\"./Data/MarkPrediction.csv\", index_col=0)"
      ],
      "execution_count": null,
      "outputs": []
    },
    {
      "cell_type": "code",
      "metadata": {
        "colab": {
          "base_uri": "https://localhost:8080/",
          "height": 379
        },
        "id": "Q8qOfM5rNyMJ",
        "outputId": "8a26dbc8-43cc-4c9e-d804-2ade9a2ee6dd"
      },
      "source": [
        "df_mg.head(10)"
      ],
      "execution_count": null,
      "outputs": [
        {
          "output_type": "execute_result",
          "data": {
            "text/html": [
              "<div>\n",
              "<style scoped>\n",
              "    .dataframe tbody tr th:only-of-type {\n",
              "        vertical-align: middle;\n",
              "    }\n",
              "\n",
              "    .dataframe tbody tr th {\n",
              "        vertical-align: top;\n",
              "    }\n",
              "\n",
              "    .dataframe thead th {\n",
              "        text-align: right;\n",
              "    }\n",
              "</style>\n",
              "<table border=\"1\" class=\"dataframe\">\n",
              "  <thead>\n",
              "    <tr style=\"text-align: right;\">\n",
              "      <th></th>\n",
              "      <th>student_ID</th>\n",
              "      <th>Course_code</th>\n",
              "      <th>Activity_type</th>\n",
              "      <th>Std_act_cp_mean</th>\n",
              "      <th>Std_act_d_mean</th>\n",
              "      <th>Std_act_m_count</th>\n",
              "      <th>Std_act_m_max</th>\n",
              "      <th>Std_act_m_mean</th>\n",
              "      <th>Std_act_m_std</th>\n",
              "      <th>Std_act_t_max</th>\n",
              "      <th>Std_act_t_mean</th>\n",
              "      <th>Std_act_t_std</th>\n",
              "      <th>Act_score</th>\n",
              "      <th>Act_cp_mean</th>\n",
              "      <th>Act_diff_mean</th>\n",
              "      <th>Act_mark_count</th>\n",
              "      <th>Act_mark_max</th>\n",
              "      <th>Act_mark_mean</th>\n",
              "      <th>Act_mark_min</th>\n",
              "      <th>Act_time_max</th>\n",
              "      <th>Act_time_mean</th>\n",
              "      <th>Act_time_min</th>\n",
              "      <th>Activities_Count_&lt;lambda&gt;</th>\n",
              "      <th>last_mark</th>\n",
              "    </tr>\n",
              "  </thead>\n",
              "  <tbody>\n",
              "    <tr>\n",
              "      <th>0</th>\n",
              "      <td>060102878</td>\n",
              "      <td>g9_1</td>\n",
              "      <td>1</td>\n",
              "      <td>1.60</td>\n",
              "      <td>2.6</td>\n",
              "      <td>5</td>\n",
              "      <td>6.67</td>\n",
              "      <td>4.8420</td>\n",
              "      <td>2.077997</td>\n",
              "      <td>821</td>\n",
              "      <td>596.8</td>\n",
              "      <td>285.493783</td>\n",
              "      <td>17.248636</td>\n",
              "      <td>1.608108</td>\n",
              "      <td>2.608108</td>\n",
              "      <td>74</td>\n",
              "      <td>9.84</td>\n",
              "      <td>5.133243</td>\n",
              "      <td>0.12</td>\n",
              "      <td>899.0</td>\n",
              "      <td>486.662162</td>\n",
              "      <td>36.0</td>\n",
              "      <td>20</td>\n",
              "      <td>6.36</td>\n",
              "    </tr>\n",
              "    <tr>\n",
              "      <th>1</th>\n",
              "      <td>060247620</td>\n",
              "      <td>g9_1</td>\n",
              "      <td>1</td>\n",
              "      <td>2.00</td>\n",
              "      <td>2.0</td>\n",
              "      <td>2</td>\n",
              "      <td>7.73</td>\n",
              "      <td>4.6900</td>\n",
              "      <td>4.299209</td>\n",
              "      <td>509</td>\n",
              "      <td>350.5</td>\n",
              "      <td>224.152850</td>\n",
              "      <td>23.753662</td>\n",
              "      <td>1.608108</td>\n",
              "      <td>2.608108</td>\n",
              "      <td>74</td>\n",
              "      <td>9.84</td>\n",
              "      <td>5.133243</td>\n",
              "      <td>0.12</td>\n",
              "      <td>899.0</td>\n",
              "      <td>486.662162</td>\n",
              "      <td>36.0</td>\n",
              "      <td>20</td>\n",
              "      <td>7.73</td>\n",
              "    </tr>\n",
              "    <tr>\n",
              "      <th>2</th>\n",
              "      <td>060265233</td>\n",
              "      <td>g9_1</td>\n",
              "      <td>1</td>\n",
              "      <td>1.00</td>\n",
              "      <td>2.0</td>\n",
              "      <td>1</td>\n",
              "      <td>0.12</td>\n",
              "      <td>0.1200</td>\n",
              "      <td>0.000000</td>\n",
              "      <td>807</td>\n",
              "      <td>807.0</td>\n",
              "      <td>0.000000</td>\n",
              "      <td>0.166355</td>\n",
              "      <td>1.608108</td>\n",
              "      <td>2.608108</td>\n",
              "      <td>74</td>\n",
              "      <td>9.84</td>\n",
              "      <td>5.133243</td>\n",
              "      <td>0.12</td>\n",
              "      <td>899.0</td>\n",
              "      <td>486.662162</td>\n",
              "      <td>36.0</td>\n",
              "      <td>20</td>\n",
              "      <td>0.12</td>\n",
              "    </tr>\n",
              "    <tr>\n",
              "      <th>3</th>\n",
              "      <td>060271117</td>\n",
              "      <td>g9_1</td>\n",
              "      <td>1</td>\n",
              "      <td>2.00</td>\n",
              "      <td>1.5</td>\n",
              "      <td>2</td>\n",
              "      <td>9.80</td>\n",
              "      <td>6.1750</td>\n",
              "      <td>5.126524</td>\n",
              "      <td>443</td>\n",
              "      <td>258.0</td>\n",
              "      <td>261.629509</td>\n",
              "      <td>27.115999</td>\n",
              "      <td>1.608108</td>\n",
              "      <td>2.608108</td>\n",
              "      <td>74</td>\n",
              "      <td>9.84</td>\n",
              "      <td>5.133243</td>\n",
              "      <td>0.12</td>\n",
              "      <td>899.0</td>\n",
              "      <td>486.662162</td>\n",
              "      <td>36.0</td>\n",
              "      <td>20</td>\n",
              "      <td>9.80</td>\n",
              "    </tr>\n",
              "    <tr>\n",
              "      <th>4</th>\n",
              "      <td>060312788</td>\n",
              "      <td>g9_1</td>\n",
              "      <td>1</td>\n",
              "      <td>1.00</td>\n",
              "      <td>3.0</td>\n",
              "      <td>1</td>\n",
              "      <td>6.90</td>\n",
              "      <td>6.9000</td>\n",
              "      <td>0.000000</td>\n",
              "      <td>630</td>\n",
              "      <td>630.0</td>\n",
              "      <td>0.000000</td>\n",
              "      <td>11.105122</td>\n",
              "      <td>1.608108</td>\n",
              "      <td>2.608108</td>\n",
              "      <td>74</td>\n",
              "      <td>9.84</td>\n",
              "      <td>5.133243</td>\n",
              "      <td>0.12</td>\n",
              "      <td>899.0</td>\n",
              "      <td>486.662162</td>\n",
              "      <td>36.0</td>\n",
              "      <td>20</td>\n",
              "      <td>6.90</td>\n",
              "    </tr>\n",
              "    <tr>\n",
              "      <th>5</th>\n",
              "      <td>060354041</td>\n",
              "      <td>g9_1</td>\n",
              "      <td>1</td>\n",
              "      <td>1.00</td>\n",
              "      <td>2.5</td>\n",
              "      <td>2</td>\n",
              "      <td>9.84</td>\n",
              "      <td>8.6050</td>\n",
              "      <td>1.746554</td>\n",
              "      <td>761</td>\n",
              "      <td>719.0</td>\n",
              "      <td>59.396970</td>\n",
              "      <td>17.069378</td>\n",
              "      <td>1.608108</td>\n",
              "      <td>2.608108</td>\n",
              "      <td>74</td>\n",
              "      <td>9.84</td>\n",
              "      <td>5.133243</td>\n",
              "      <td>0.12</td>\n",
              "      <td>899.0</td>\n",
              "      <td>486.662162</td>\n",
              "      <td>36.0</td>\n",
              "      <td>20</td>\n",
              "      <td>7.37</td>\n",
              "    </tr>\n",
              "    <tr>\n",
              "      <th>6</th>\n",
              "      <td>060371981</td>\n",
              "      <td>g9_1</td>\n",
              "      <td>1</td>\n",
              "      <td>1.00</td>\n",
              "      <td>4.0</td>\n",
              "      <td>1</td>\n",
              "      <td>5.97</td>\n",
              "      <td>5.9700</td>\n",
              "      <td>0.000000</td>\n",
              "      <td>90</td>\n",
              "      <td>90.0</td>\n",
              "      <td>0.000000</td>\n",
              "      <td>10.696804</td>\n",
              "      <td>1.608108</td>\n",
              "      <td>2.608108</td>\n",
              "      <td>74</td>\n",
              "      <td>9.84</td>\n",
              "      <td>5.133243</td>\n",
              "      <td>0.12</td>\n",
              "      <td>899.0</td>\n",
              "      <td>486.662162</td>\n",
              "      <td>36.0</td>\n",
              "      <td>20</td>\n",
              "      <td>5.97</td>\n",
              "    </tr>\n",
              "    <tr>\n",
              "      <th>7</th>\n",
              "      <td>060373843</td>\n",
              "      <td>g9_1</td>\n",
              "      <td>1</td>\n",
              "      <td>1.75</td>\n",
              "      <td>1.5</td>\n",
              "      <td>4</td>\n",
              "      <td>7.55</td>\n",
              "      <td>4.9125</td>\n",
              "      <td>2.977677</td>\n",
              "      <td>899</td>\n",
              "      <td>368.5</td>\n",
              "      <td>357.460021</td>\n",
              "      <td>20.915095</td>\n",
              "      <td>1.608108</td>\n",
              "      <td>2.608108</td>\n",
              "      <td>74</td>\n",
              "      <td>9.84</td>\n",
              "      <td>5.133243</td>\n",
              "      <td>0.12</td>\n",
              "      <td>899.0</td>\n",
              "      <td>486.662162</td>\n",
              "      <td>36.0</td>\n",
              "      <td>20</td>\n",
              "      <td>3.10</td>\n",
              "    </tr>\n",
              "    <tr>\n",
              "      <th>8</th>\n",
              "      <td>060416323</td>\n",
              "      <td>g9_1</td>\n",
              "      <td>1</td>\n",
              "      <td>1.00</td>\n",
              "      <td>3.5</td>\n",
              "      <td>2</td>\n",
              "      <td>8.87</td>\n",
              "      <td>6.8900</td>\n",
              "      <td>2.800143</td>\n",
              "      <td>126</td>\n",
              "      <td>110.0</td>\n",
              "      <td>22.627417</td>\n",
              "      <td>19.764582</td>\n",
              "      <td>1.608108</td>\n",
              "      <td>2.608108</td>\n",
              "      <td>74</td>\n",
              "      <td>9.84</td>\n",
              "      <td>5.133243</td>\n",
              "      <td>0.12</td>\n",
              "      <td>899.0</td>\n",
              "      <td>486.662162</td>\n",
              "      <td>36.0</td>\n",
              "      <td>20</td>\n",
              "      <td>4.91</td>\n",
              "    </tr>\n",
              "    <tr>\n",
              "      <th>9</th>\n",
              "      <td>060466685</td>\n",
              "      <td>g9_1</td>\n",
              "      <td>1</td>\n",
              "      <td>2.00</td>\n",
              "      <td>1.0</td>\n",
              "      <td>1</td>\n",
              "      <td>5.81</td>\n",
              "      <td>5.8100</td>\n",
              "      <td>0.000000</td>\n",
              "      <td>555</td>\n",
              "      <td>555.0</td>\n",
              "      <td>0.000000</td>\n",
              "      <td>8.054370</td>\n",
              "      <td>1.608108</td>\n",
              "      <td>2.608108</td>\n",
              "      <td>74</td>\n",
              "      <td>9.84</td>\n",
              "      <td>5.133243</td>\n",
              "      <td>0.12</td>\n",
              "      <td>899.0</td>\n",
              "      <td>486.662162</td>\n",
              "      <td>36.0</td>\n",
              "      <td>20</td>\n",
              "      <td>5.81</td>\n",
              "    </tr>\n",
              "  </tbody>\n",
              "</table>\n",
              "</div>"
            ],
            "text/plain": [
              "  student_ID Course_code  ... Activities_Count_<lambda>  last_mark\n",
              "0  060102878        g9_1  ...                        20       6.36\n",
              "1  060247620        g9_1  ...                        20       7.73\n",
              "2  060265233        g9_1  ...                        20       0.12\n",
              "3  060271117        g9_1  ...                        20       9.80\n",
              "4  060312788        g9_1  ...                        20       6.90\n",
              "5  060354041        g9_1  ...                        20       7.37\n",
              "6  060371981        g9_1  ...                        20       5.97\n",
              "7  060373843        g9_1  ...                        20       3.10\n",
              "8  060416323        g9_1  ...                        20       4.91\n",
              "9  060466685        g9_1  ...                        20       5.81\n",
              "\n",
              "[10 rows x 24 columns]"
            ]
          },
          "metadata": {
            "tags": []
          },
          "execution_count": 90
        }
      ]
    },
    {
      "cell_type": "code",
      "metadata": {
        "id": "yUDuHE8sWASX"
      },
      "source": [
        "# df_mg.drop(\"student_ID\", axis=1, inplace= True)  # Drop Student_ID\n",
        "df_mg.set_index(\"student_ID\", inplace=True)"
      ],
      "execution_count": null,
      "outputs": []
    },
    {
      "cell_type": "code",
      "metadata": {
        "id": "JdoiqOidnB7Z"
      },
      "source": [
        "# Split Data\n",
        "X=df_mg.iloc[:,:-1]\n",
        "y=df_mg.iloc[:, -1]"
      ],
      "execution_count": null,
      "outputs": []
    },
    {
      "cell_type": "code",
      "metadata": {
        "id": "fFb3YuflRvmo"
      },
      "source": [
        "\n",
        "from sklearn.model_selection import train_test_split\n",
        "\n",
        "# X_train, X_test = train_test_split(df[df.grade==\"6\"], test_size=0.3, random_state=42, shuffle=True)\n",
        "\n",
        "X_train, X_test, y_train, y_test=train_test_split(X, y  , test_size=.3,   random_state=42)"
      ],
      "execution_count": null,
      "outputs": []
    },
    {
      "cell_type": "code",
      "metadata": {
        "colab": {
          "base_uri": "https://localhost:8080/"
        },
        "id": "IGA7UKLWBB1H",
        "outputId": "49f47f2f-f3bb-4bdd-93cf-6bfae5267499"
      },
      "source": [
        "X.keys()"
      ],
      "execution_count": null,
      "outputs": [
        {
          "output_type": "execute_result",
          "data": {
            "text/plain": [
              "Index(['Course_code', 'Activity_type', 'Std_act_cp_mean', 'Std_act_d_mean',\n",
              "       'Std_act_m_count', 'Std_act_m_max', 'Std_act_m_mean', 'Std_act_m_std',\n",
              "       'Std_act_t_max', 'Std_act_t_mean', 'Std_act_t_std', 'Act_score',\n",
              "       'Act_cp_mean', 'Act_diff_mean', 'Act_mark_count', 'Act_mark_max',\n",
              "       'Act_mark_mean', 'Act_mark_min', 'Act_time_max', 'Act_time_mean',\n",
              "       'Act_time_min', 'Activities_Count_<lambda>'],\n",
              "      dtype='object')"
            ]
          },
          "metadata": {
            "tags": []
          },
          "execution_count": 116
        }
      ]
    },
    {
      "cell_type": "code",
      "metadata": {
        "id": "H2m20AfQBSwn"
      },
      "source": [
        ""
      ],
      "execution_count": null,
      "outputs": []
    },
    {
      "cell_type": "code",
      "metadata": {
        "colab": {
          "base_uri": "https://localhost:8080/"
        },
        "id": "ncWEgX8Y6cln",
        "outputId": "268fccef-99c9-4f30-8cf0-05d99898821b"
      },
      "source": [
        "X_train.shape, X_test.shape"
      ],
      "execution_count": null,
      "outputs": [
        {
          "output_type": "execute_result",
          "data": {
            "text/plain": [
              "((3087, 22), (1323, 22))"
            ]
          },
          "metadata": {
            "tags": []
          },
          "execution_count": 95
        }
      ]
    },
    {
      "cell_type": "code",
      "metadata": {
        "id": "3YDFFpVQwrRR"
      },
      "source": [
        "from sklearn.preprocessing import StandardScaler , OneHotEncoder\n",
        "from sklearn.compose import make_column_transformer , make_column_selector  as selector\n",
        "\n",
        "from sklearn.pipeline import make_pipeline\n",
        "  \n",
        "num_pipeline= make_pipeline(\n",
        "     StandardScaler( )    # Rescaling\n",
        ")\n",
        "\n",
        "cat_pipeline= make_pipeline(\n",
        "      \n",
        "     #OneHotEncoder(  sparse=False ,handle_unknown = 'ignore'),\n",
        "     OneHotEncoder(drop=\"if_binary\" , sparse=False ), \n",
        " \n",
        ")"
      ],
      "execution_count": null,
      "outputs": []
    },
    {
      "cell_type": "code",
      "metadata": {
        "id": "upy_I2BowrUj"
      },
      "source": [
        "#  Pipeline structure \n",
        "preprocess= make_column_transformer(\n",
        "     ( num_pipeline,  selector(dtype_include=\"number\") ),  #Numeric feature rescaling\n",
        "     (cat_pipeline, selector(dtype_exclude=\"number\"))  # Categorical features Encoding\n",
        "     )"
      ],
      "execution_count": null,
      "outputs": []
    },
    {
      "cell_type": "code",
      "metadata": {
        "colab": {
          "base_uri": "https://localhost:8080/"
        },
        "id": "66dCtrfm4uw-",
        "outputId": "56ad4927-efc4-497f-a4c5-71e957cc3aa9"
      },
      "source": [
        "preprocess.fit_transform(X_train).shape"
      ],
      "execution_count": null,
      "outputs": [
        {
          "output_type": "execute_result",
          "data": {
            "text/plain": [
              "(3087, 75)"
            ]
          },
          "metadata": {
            "tags": []
          },
          "execution_count": 98
        }
      ]
    },
    {
      "cell_type": "code",
      "metadata": {
        "id": "gG4juA5qysum"
      },
      "source": [
        "#df.select_dtypes(exclude=\"number\").shape"
      ],
      "execution_count": null,
      "outputs": []
    },
    {
      "cell_type": "code",
      "metadata": {
        "colab": {
          "base_uri": "https://localhost:8080/"
        },
        "id": "ITBU0xv45SXd",
        "outputId": "0acb7efb-a67f-4756-c781-6d40227e21cd"
      },
      "source": [
        "preprocess.fit_transform(X_train)[0]"
      ],
      "execution_count": null,
      "outputs": [
        {
          "output_type": "execute_result",
          "data": {
            "text/plain": [
              "array([-0.04203688,  0.56393193,  0.10662716, -1.2360755 , -1.39063936,\n",
              "        0.07565196,  0.38030588,  0.53283434, -0.02519746, -0.65133083,\n",
              "       -0.41600331, -0.65931878,  1.85273946,  0.84019783,  0.95642875,\n",
              "       -0.54711908,  0.75153992,  0.11121847, -0.68715718,  0.59547829,\n",
              "        0.        ,  0.        ,  0.        ,  0.        ,  0.        ,\n",
              "        0.        ,  0.        ,  0.        ,  0.        ,  0.        ,\n",
              "        0.        ,  0.        ,  0.        ,  0.        ,  0.        ,\n",
              "        0.        ,  0.        ,  0.        ,  0.        ,  0.        ,\n",
              "        0.        ,  0.        ,  0.        ,  0.        ,  0.        ,\n",
              "        0.        ,  0.        ,  0.        ,  0.        ,  0.        ,\n",
              "        0.        ,  0.        ,  0.        ,  0.        ,  0.        ,\n",
              "        0.        ,  0.        ,  0.        ,  0.        ,  0.        ,\n",
              "        0.        ,  0.        ,  1.        ,  0.        ,  0.        ,\n",
              "        0.        ,  0.        ,  0.        ,  0.        ,  0.        ,\n",
              "        0.        ,  0.        ,  0.        ,  0.        ,  1.        ])"
            ]
          },
          "metadata": {
            "tags": []
          },
          "execution_count": 100
        }
      ]
    },
    {
      "cell_type": "code",
      "metadata": {
        "id": "Wh8MTnh2keHJ"
      },
      "source": [
        "# pipelline Model\n",
        "from xgboost import XGBRegressor\n",
        "pipe_reg= make_pipeline(\n",
        "    preprocess, \n",
        "    XGBRegressor(objective=\"reg:squarederror\")\n",
        "    )"
      ],
      "execution_count": null,
      "outputs": []
    },
    {
      "cell_type": "code",
      "metadata": {
        "colab": {
          "base_uri": "https://localhost:8080/"
        },
        "id": "90gB0GMjz4vz",
        "outputId": "3b9de25d-5e1a-44b2-d1e0-f2c45bd72b3a"
      },
      "source": [
        "pipe_reg.get_params()"
      ],
      "execution_count": null,
      "outputs": [
        {
          "output_type": "execute_result",
          "data": {
            "text/plain": [
              "{'columntransformer': ColumnTransformer(transformers=[('pipeline-1',\n",
              "                                  Pipeline(steps=[('standardscaler',\n",
              "                                                   StandardScaler())]),\n",
              "                                  <sklearn.compose._column_transformer.make_column_selector object at 0x7fde5de56450>),\n",
              "                                 ('pipeline-2',\n",
              "                                  Pipeline(steps=[('onehotencoder',\n",
              "                                                   OneHotEncoder(drop='if_binary',\n",
              "                                                                 sparse=False))]),\n",
              "                                  <sklearn.compose._column_transformer.make_column_selector object at 0x7fde5de56490>)]),\n",
              " 'columntransformer__n_jobs': None,\n",
              " 'columntransformer__pipeline-1': Pipeline(steps=[('standardscaler', StandardScaler())]),\n",
              " 'columntransformer__pipeline-1__memory': None,\n",
              " 'columntransformer__pipeline-1__standardscaler': StandardScaler(),\n",
              " 'columntransformer__pipeline-1__standardscaler__copy': True,\n",
              " 'columntransformer__pipeline-1__standardscaler__with_mean': True,\n",
              " 'columntransformer__pipeline-1__standardscaler__with_std': True,\n",
              " 'columntransformer__pipeline-1__steps': [('standardscaler',\n",
              "   StandardScaler())],\n",
              " 'columntransformer__pipeline-1__verbose': False,\n",
              " 'columntransformer__pipeline-2': Pipeline(steps=[('onehotencoder',\n",
              "                  OneHotEncoder(drop='if_binary', sparse=False))]),\n",
              " 'columntransformer__pipeline-2__memory': None,\n",
              " 'columntransformer__pipeline-2__onehotencoder': OneHotEncoder(drop='if_binary', sparse=False),\n",
              " 'columntransformer__pipeline-2__onehotencoder__categories': 'auto',\n",
              " 'columntransformer__pipeline-2__onehotencoder__drop': 'if_binary',\n",
              " 'columntransformer__pipeline-2__onehotencoder__dtype': numpy.float64,\n",
              " 'columntransformer__pipeline-2__onehotencoder__handle_unknown': 'error',\n",
              " 'columntransformer__pipeline-2__onehotencoder__sparse': False,\n",
              " 'columntransformer__pipeline-2__steps': [('onehotencoder',\n",
              "   OneHotEncoder(drop='if_binary', sparse=False))],\n",
              " 'columntransformer__pipeline-2__verbose': False,\n",
              " 'columntransformer__remainder': 'drop',\n",
              " 'columntransformer__sparse_threshold': 0.3,\n",
              " 'columntransformer__transformer_weights': None,\n",
              " 'columntransformer__transformers': [('pipeline-1',\n",
              "   Pipeline(steps=[('standardscaler', StandardScaler())]),\n",
              "   <sklearn.compose._column_transformer.make_column_selector at 0x7fde5de56450>),\n",
              "  ('pipeline-2', Pipeline(steps=[('onehotencoder',\n",
              "                    OneHotEncoder(drop='if_binary', sparse=False))]), <sklearn.compose._column_transformer.make_column_selector at 0x7fde5de56490>)],\n",
              " 'columntransformer__verbose': False,\n",
              " 'memory': None,\n",
              " 'steps': [('columntransformer', ColumnTransformer(transformers=[('pipeline-1',\n",
              "                                    Pipeline(steps=[('standardscaler',\n",
              "                                                     StandardScaler())]),\n",
              "                                    <sklearn.compose._column_transformer.make_column_selector object at 0x7fde5de56450>),\n",
              "                                   ('pipeline-2',\n",
              "                                    Pipeline(steps=[('onehotencoder',\n",
              "                                                     OneHotEncoder(drop='if_binary',\n",
              "                                                                   sparse=False))]),\n",
              "                                    <sklearn.compose._column_transformer.make_column_selector object at 0x7fde5de56490>)])),\n",
              "  ('xgbregressor', XGBRegressor(objective='reg:squarederror'))],\n",
              " 'verbose': False,\n",
              " 'xgbregressor': XGBRegressor(objective='reg:squarederror'),\n",
              " 'xgbregressor__base_score': 0.5,\n",
              " 'xgbregressor__booster': 'gbtree',\n",
              " 'xgbregressor__colsample_bylevel': 1,\n",
              " 'xgbregressor__colsample_bynode': 1,\n",
              " 'xgbregressor__colsample_bytree': 1,\n",
              " 'xgbregressor__gamma': 0,\n",
              " 'xgbregressor__importance_type': 'gain',\n",
              " 'xgbregressor__learning_rate': 0.1,\n",
              " 'xgbregressor__max_delta_step': 0,\n",
              " 'xgbregressor__max_depth': 3,\n",
              " 'xgbregressor__min_child_weight': 1,\n",
              " 'xgbregressor__missing': None,\n",
              " 'xgbregressor__n_estimators': 100,\n",
              " 'xgbregressor__n_jobs': 1,\n",
              " 'xgbregressor__nthread': None,\n",
              " 'xgbregressor__objective': 'reg:squarederror',\n",
              " 'xgbregressor__random_state': 0,\n",
              " 'xgbregressor__reg_alpha': 0,\n",
              " 'xgbregressor__reg_lambda': 1,\n",
              " 'xgbregressor__scale_pos_weight': 1,\n",
              " 'xgbregressor__seed': None,\n",
              " 'xgbregressor__silent': None,\n",
              " 'xgbregressor__subsample': 1,\n",
              " 'xgbregressor__verbosity': 1}"
            ]
          },
          "metadata": {
            "tags": []
          },
          "execution_count": 102
        }
      ]
    },
    {
      "cell_type": "code",
      "metadata": {
        "id": "CYgTJx9zqPLY"
      },
      "source": [
        "# hyper parameters\n",
        "\n",
        "param_grid={\n",
        "    \"xgbregressor__learning_rate\": [0.01, 0.1],\n",
        "    \"xgbregressor__max_depth\" : [3,5,7, 10] ,\n",
        "    \"xgbregressor__min_child_weight\" :[1,3,5],\n",
        "    \"xgbregressor__subsample\": [0.5, 0.7],\n",
        "    \"xgbregressor__colsample_bytree\": [0.5, 0.7],\n",
        "    \"xgbregressor__n_estimators\": [200, 400, 1000]\n",
        "    \n",
        "}"
      ],
      "execution_count": null,
      "outputs": []
    },
    {
      "cell_type": "code",
      "metadata": {
        "id": "qtr9T1Mt1Fjk"
      },
      "source": [
        "from sklearn.model_selection import RandomizedSearchCV, KFold\n",
        "\n",
        "kf= KFold( n_splits=5, shuffle=True )\n",
        "gs= RandomizedSearchCV( pipe_reg, param_distributions=param_grid,  scoring=\"neg_mean_squared_error\", cv=kf,verbose=3)"
      ],
      "execution_count": null,
      "outputs": []
    },
    {
      "cell_type": "code",
      "metadata": {
        "colab": {
          "base_uri": "https://localhost:8080/"
        },
        "id": "vg3IQj7I1Fmz",
        "outputId": "98c09228-9394-4f13-9441-f2748e69befc"
      },
      "source": [
        "gs.fit(X_train, y_train)"
      ],
      "execution_count": null,
      "outputs": [
        {
          "output_type": "stream",
          "text": [
            "Fitting 5 folds for each of 10 candidates, totalling 50 fits\n",
            "[CV 1/5] END xgbregressor__colsample_bytree=0.7, xgbregressor__learning_rate=0.01, xgbregressor__max_depth=10, xgbregressor__min_child_weight=1, xgbregressor__n_estimators=200, xgbregressor__subsample=0.7;, score=-3.401 total time=   3.1s\n",
            "[CV 2/5] END xgbregressor__colsample_bytree=0.7, xgbregressor__learning_rate=0.01, xgbregressor__max_depth=10, xgbregressor__min_child_weight=1, xgbregressor__n_estimators=200, xgbregressor__subsample=0.7;, score=-3.342 total time=   3.0s\n",
            "[CV 3/5] END xgbregressor__colsample_bytree=0.7, xgbregressor__learning_rate=0.01, xgbregressor__max_depth=10, xgbregressor__min_child_weight=1, xgbregressor__n_estimators=200, xgbregressor__subsample=0.7;, score=-3.243 total time=   3.0s\n",
            "[CV 4/5] END xgbregressor__colsample_bytree=0.7, xgbregressor__learning_rate=0.01, xgbregressor__max_depth=10, xgbregressor__min_child_weight=1, xgbregressor__n_estimators=200, xgbregressor__subsample=0.7;, score=-3.435 total time=   3.0s\n",
            "[CV 5/5] END xgbregressor__colsample_bytree=0.7, xgbregressor__learning_rate=0.01, xgbregressor__max_depth=10, xgbregressor__min_child_weight=1, xgbregressor__n_estimators=200, xgbregressor__subsample=0.7;, score=-2.798 total time=   3.0s\n",
            "[CV 1/5] END xgbregressor__colsample_bytree=0.5, xgbregressor__learning_rate=0.01, xgbregressor__max_depth=7, xgbregressor__min_child_weight=5, xgbregressor__n_estimators=200, xgbregressor__subsample=0.7;, score=-3.494 total time=   1.7s\n",
            "[CV 2/5] END xgbregressor__colsample_bytree=0.5, xgbregressor__learning_rate=0.01, xgbregressor__max_depth=7, xgbregressor__min_child_weight=5, xgbregressor__n_estimators=200, xgbregressor__subsample=0.7;, score=-3.391 total time=   1.6s\n",
            "[CV 3/5] END xgbregressor__colsample_bytree=0.5, xgbregressor__learning_rate=0.01, xgbregressor__max_depth=7, xgbregressor__min_child_weight=5, xgbregressor__n_estimators=200, xgbregressor__subsample=0.7;, score=-3.293 total time=   1.6s\n",
            "[CV 4/5] END xgbregressor__colsample_bytree=0.5, xgbregressor__learning_rate=0.01, xgbregressor__max_depth=7, xgbregressor__min_child_weight=5, xgbregressor__n_estimators=200, xgbregressor__subsample=0.7;, score=-3.437 total time=   1.6s\n",
            "[CV 5/5] END xgbregressor__colsample_bytree=0.5, xgbregressor__learning_rate=0.01, xgbregressor__max_depth=7, xgbregressor__min_child_weight=5, xgbregressor__n_estimators=200, xgbregressor__subsample=0.7;, score=-2.891 total time=   1.6s\n",
            "[CV 1/5] END xgbregressor__colsample_bytree=0.7, xgbregressor__learning_rate=0.1, xgbregressor__max_depth=3, xgbregressor__min_child_weight=3, xgbregressor__n_estimators=400, xgbregressor__subsample=0.7;, score=-2.895 total time=   1.8s\n",
            "[CV 2/5] END xgbregressor__colsample_bytree=0.7, xgbregressor__learning_rate=0.1, xgbregressor__max_depth=3, xgbregressor__min_child_weight=3, xgbregressor__n_estimators=400, xgbregressor__subsample=0.7;, score=-2.972 total time=   1.8s\n",
            "[CV 3/5] END xgbregressor__colsample_bytree=0.7, xgbregressor__learning_rate=0.1, xgbregressor__max_depth=3, xgbregressor__min_child_weight=3, xgbregressor__n_estimators=400, xgbregressor__subsample=0.7;, score=-3.106 total time=   1.7s\n",
            "[CV 4/5] END xgbregressor__colsample_bytree=0.7, xgbregressor__learning_rate=0.1, xgbregressor__max_depth=3, xgbregressor__min_child_weight=3, xgbregressor__n_estimators=400, xgbregressor__subsample=0.7;, score=-3.516 total time=   1.8s\n",
            "[CV 5/5] END xgbregressor__colsample_bytree=0.7, xgbregressor__learning_rate=0.1, xgbregressor__max_depth=3, xgbregressor__min_child_weight=3, xgbregressor__n_estimators=400, xgbregressor__subsample=0.7;, score=-2.623 total time=   1.8s\n",
            "[CV 1/5] END xgbregressor__colsample_bytree=0.5, xgbregressor__learning_rate=0.01, xgbregressor__max_depth=7, xgbregressor__min_child_weight=3, xgbregressor__n_estimators=400, xgbregressor__subsample=0.5;, score=-2.741 total time=   3.2s\n",
            "[CV 2/5] END xgbregressor__colsample_bytree=0.5, xgbregressor__learning_rate=0.01, xgbregressor__max_depth=7, xgbregressor__min_child_weight=3, xgbregressor__n_estimators=400, xgbregressor__subsample=0.5;, score=-2.775 total time=   3.1s\n",
            "[CV 3/5] END xgbregressor__colsample_bytree=0.5, xgbregressor__learning_rate=0.01, xgbregressor__max_depth=7, xgbregressor__min_child_weight=3, xgbregressor__n_estimators=400, xgbregressor__subsample=0.5;, score=-2.762 total time=   3.2s\n",
            "[CV 4/5] END xgbregressor__colsample_bytree=0.5, xgbregressor__learning_rate=0.01, xgbregressor__max_depth=7, xgbregressor__min_child_weight=3, xgbregressor__n_estimators=400, xgbregressor__subsample=0.5;, score=-3.023 total time=   3.1s\n",
            "[CV 5/5] END xgbregressor__colsample_bytree=0.5, xgbregressor__learning_rate=0.01, xgbregressor__max_depth=7, xgbregressor__min_child_weight=3, xgbregressor__n_estimators=400, xgbregressor__subsample=0.5;, score=-2.355 total time=   3.1s\n",
            "[CV 1/5] END xgbregressor__colsample_bytree=0.5, xgbregressor__learning_rate=0.01, xgbregressor__max_depth=5, xgbregressor__min_child_weight=1, xgbregressor__n_estimators=400, xgbregressor__subsample=0.7;, score=-2.714 total time=   2.2s\n",
            "[CV 2/5] END xgbregressor__colsample_bytree=0.5, xgbregressor__learning_rate=0.01, xgbregressor__max_depth=5, xgbregressor__min_child_weight=1, xgbregressor__n_estimators=400, xgbregressor__subsample=0.7;, score=-2.765 total time=   2.2s\n",
            "[CV 3/5] END xgbregressor__colsample_bytree=0.5, xgbregressor__learning_rate=0.01, xgbregressor__max_depth=5, xgbregressor__min_child_weight=1, xgbregressor__n_estimators=400, xgbregressor__subsample=0.7;, score=-2.741 total time=   2.2s\n",
            "[CV 4/5] END xgbregressor__colsample_bytree=0.5, xgbregressor__learning_rate=0.01, xgbregressor__max_depth=5, xgbregressor__min_child_weight=1, xgbregressor__n_estimators=400, xgbregressor__subsample=0.7;, score=-2.903 total time=   2.2s\n",
            "[CV 5/5] END xgbregressor__colsample_bytree=0.5, xgbregressor__learning_rate=0.01, xgbregressor__max_depth=5, xgbregressor__min_child_weight=1, xgbregressor__n_estimators=400, xgbregressor__subsample=0.7;, score=-2.340 total time=   2.2s\n",
            "[CV 1/5] END xgbregressor__colsample_bytree=0.7, xgbregressor__learning_rate=0.01, xgbregressor__max_depth=3, xgbregressor__min_child_weight=3, xgbregressor__n_estimators=200, xgbregressor__subsample=0.7;, score=-3.287 total time=   0.9s\n",
            "[CV 2/5] END xgbregressor__colsample_bytree=0.7, xgbregressor__learning_rate=0.01, xgbregressor__max_depth=3, xgbregressor__min_child_weight=3, xgbregressor__n_estimators=200, xgbregressor__subsample=0.7;, score=-3.283 total time=   0.9s\n",
            "[CV 3/5] END xgbregressor__colsample_bytree=0.7, xgbregressor__learning_rate=0.01, xgbregressor__max_depth=3, xgbregressor__min_child_weight=3, xgbregressor__n_estimators=200, xgbregressor__subsample=0.7;, score=-3.154 total time=   0.9s\n",
            "[CV 4/5] END xgbregressor__colsample_bytree=0.7, xgbregressor__learning_rate=0.01, xgbregressor__max_depth=3, xgbregressor__min_child_weight=3, xgbregressor__n_estimators=200, xgbregressor__subsample=0.7;, score=-3.304 total time=   0.9s\n",
            "[CV 5/5] END xgbregressor__colsample_bytree=0.7, xgbregressor__learning_rate=0.01, xgbregressor__max_depth=3, xgbregressor__min_child_weight=3, xgbregressor__n_estimators=200, xgbregressor__subsample=0.7;, score=-2.811 total time=   0.9s\n",
            "[CV 1/5] END xgbregressor__colsample_bytree=0.7, xgbregressor__learning_rate=0.01, xgbregressor__max_depth=7, xgbregressor__min_child_weight=3, xgbregressor__n_estimators=200, xgbregressor__subsample=0.5;, score=-3.295 total time=   2.0s\n",
            "[CV 2/5] END xgbregressor__colsample_bytree=0.7, xgbregressor__learning_rate=0.01, xgbregressor__max_depth=7, xgbregressor__min_child_weight=3, xgbregressor__n_estimators=200, xgbregressor__subsample=0.5;, score=-3.310 total time=   2.0s\n",
            "[CV 3/5] END xgbregressor__colsample_bytree=0.7, xgbregressor__learning_rate=0.01, xgbregressor__max_depth=7, xgbregressor__min_child_weight=3, xgbregressor__n_estimators=200, xgbregressor__subsample=0.5;, score=-3.186 total time=   2.1s\n",
            "[CV 4/5] END xgbregressor__colsample_bytree=0.7, xgbregressor__learning_rate=0.01, xgbregressor__max_depth=7, xgbregressor__min_child_weight=3, xgbregressor__n_estimators=200, xgbregressor__subsample=0.5;, score=-3.381 total time=   2.0s\n",
            "[CV 5/5] END xgbregressor__colsample_bytree=0.7, xgbregressor__learning_rate=0.01, xgbregressor__max_depth=7, xgbregressor__min_child_weight=3, xgbregressor__n_estimators=200, xgbregressor__subsample=0.5;, score=-2.745 total time=   2.1s\n",
            "[CV 1/5] END xgbregressor__colsample_bytree=0.5, xgbregressor__learning_rate=0.1, xgbregressor__max_depth=5, xgbregressor__min_child_weight=1, xgbregressor__n_estimators=200, xgbregressor__subsample=0.5;, score=-3.074 total time=   1.2s\n",
            "[CV 2/5] END xgbregressor__colsample_bytree=0.5, xgbregressor__learning_rate=0.1, xgbregressor__max_depth=5, xgbregressor__min_child_weight=1, xgbregressor__n_estimators=200, xgbregressor__subsample=0.5;, score=-2.941 total time=   1.2s\n",
            "[CV 3/5] END xgbregressor__colsample_bytree=0.5, xgbregressor__learning_rate=0.1, xgbregressor__max_depth=5, xgbregressor__min_child_weight=1, xgbregressor__n_estimators=200, xgbregressor__subsample=0.5;, score=-3.055 total time=   1.2s\n",
            "[CV 4/5] END xgbregressor__colsample_bytree=0.5, xgbregressor__learning_rate=0.1, xgbregressor__max_depth=5, xgbregressor__min_child_weight=1, xgbregressor__n_estimators=200, xgbregressor__subsample=0.5;, score=-3.613 total time=   1.1s\n",
            "[CV 5/5] END xgbregressor__colsample_bytree=0.5, xgbregressor__learning_rate=0.1, xgbregressor__max_depth=5, xgbregressor__min_child_weight=1, xgbregressor__n_estimators=200, xgbregressor__subsample=0.5;, score=-2.573 total time=   1.2s\n",
            "[CV 1/5] END xgbregressor__colsample_bytree=0.5, xgbregressor__learning_rate=0.01, xgbregressor__max_depth=7, xgbregressor__min_child_weight=1, xgbregressor__n_estimators=1000, xgbregressor__subsample=0.5;, score=-2.698 total time=   7.9s\n",
            "[CV 2/5] END xgbregressor__colsample_bytree=0.5, xgbregressor__learning_rate=0.01, xgbregressor__max_depth=7, xgbregressor__min_child_weight=1, xgbregressor__n_estimators=1000, xgbregressor__subsample=0.5;, score=-2.782 total time=   7.8s\n",
            "[CV 3/5] END xgbregressor__colsample_bytree=0.5, xgbregressor__learning_rate=0.01, xgbregressor__max_depth=7, xgbregressor__min_child_weight=1, xgbregressor__n_estimators=1000, xgbregressor__subsample=0.5;, score=-2.785 total time=   7.8s\n",
            "[CV 4/5] END xgbregressor__colsample_bytree=0.5, xgbregressor__learning_rate=0.01, xgbregressor__max_depth=7, xgbregressor__min_child_weight=1, xgbregressor__n_estimators=1000, xgbregressor__subsample=0.5;, score=-3.189 total time=   7.7s\n",
            "[CV 5/5] END xgbregressor__colsample_bytree=0.5, xgbregressor__learning_rate=0.01, xgbregressor__max_depth=7, xgbregressor__min_child_weight=1, xgbregressor__n_estimators=1000, xgbregressor__subsample=0.5;, score=-2.372 total time=   7.8s\n",
            "[CV 1/5] END xgbregressor__colsample_bytree=0.7, xgbregressor__learning_rate=0.1, xgbregressor__max_depth=7, xgbregressor__min_child_weight=3, xgbregressor__n_estimators=200, xgbregressor__subsample=0.5;, score=-2.995 total time=   2.1s\n",
            "[CV 2/5] END xgbregressor__colsample_bytree=0.7, xgbregressor__learning_rate=0.1, xgbregressor__max_depth=7, xgbregressor__min_child_weight=3, xgbregressor__n_estimators=200, xgbregressor__subsample=0.5;, score=-3.180 total time=   2.1s\n",
            "[CV 3/5] END xgbregressor__colsample_bytree=0.7, xgbregressor__learning_rate=0.1, xgbregressor__max_depth=7, xgbregressor__min_child_weight=3, xgbregressor__n_estimators=200, xgbregressor__subsample=0.5;, score=-3.080 total time=   2.0s\n",
            "[CV 4/5] END xgbregressor__colsample_bytree=0.7, xgbregressor__learning_rate=0.1, xgbregressor__max_depth=7, xgbregressor__min_child_weight=3, xgbregressor__n_estimators=200, xgbregressor__subsample=0.5;, score=-3.584 total time=   2.1s\n",
            "[CV 5/5] END xgbregressor__colsample_bytree=0.7, xgbregressor__learning_rate=0.1, xgbregressor__max_depth=7, xgbregressor__min_child_weight=3, xgbregressor__n_estimators=200, xgbregressor__subsample=0.5;, score=-2.951 total time=   2.0s\n"
          ],
          "name": "stdout"
        },
        {
          "output_type": "execute_result",
          "data": {
            "text/plain": [
              "RandomizedSearchCV(cv=KFold(n_splits=5, random_state=None, shuffle=True),\n",
              "                   estimator=Pipeline(steps=[('columntransformer',\n",
              "                                              ColumnTransformer(transformers=[('pipeline-1',\n",
              "                                                                               Pipeline(steps=[('standardscaler',\n",
              "                                                                                                StandardScaler())]),\n",
              "                                                                               <sklearn.compose._column_transformer.make_column_selector object at 0x7fde5de56450>),\n",
              "                                                                              ('pipeline-2',\n",
              "                                                                               Pipeline(steps=[('onehotencoder',\n",
              "                                                                                                One...\n",
              "                                              XGBRegressor(objective='reg:squarederror'))]),\n",
              "                   param_distributions={'xgbregressor__colsample_bytree': [0.5,\n",
              "                                                                           0.7],\n",
              "                                        'xgbregressor__learning_rate': [0.01,\n",
              "                                                                        0.1],\n",
              "                                        'xgbregressor__max_depth': [3, 5, 7,\n",
              "                                                                    10],\n",
              "                                        'xgbregressor__min_child_weight': [1, 3,\n",
              "                                                                           5],\n",
              "                                        'xgbregressor__n_estimators': [200, 400,\n",
              "                                                                       1000],\n",
              "                                        'xgbregressor__subsample': [0.5, 0.7]},\n",
              "                   scoring='neg_mean_squared_error', verbose=3)"
            ]
          },
          "metadata": {
            "tags": []
          },
          "execution_count": 105
        }
      ]
    },
    {
      "cell_type": "code",
      "metadata": {
        "colab": {
          "base_uri": "https://localhost:8080/"
        },
        "id": "OdqbzrEB40Fz",
        "outputId": "ea677997-2f96-4ac1-afe1-f52c12db0ef4"
      },
      "source": [
        "gs.best_estimator_"
      ],
      "execution_count": null,
      "outputs": [
        {
          "output_type": "execute_result",
          "data": {
            "text/plain": [
              "Pipeline(steps=[('columntransformer',\n",
              "                 ColumnTransformer(transformers=[('pipeline-1',\n",
              "                                                  Pipeline(steps=[('standardscaler',\n",
              "                                                                   StandardScaler())]),\n",
              "                                                  <sklearn.compose._column_transformer.make_column_selector object at 0x7fde55088c50>),\n",
              "                                                 ('pipeline-2',\n",
              "                                                  Pipeline(steps=[('onehotencoder',\n",
              "                                                                   OneHotEncoder(drop='if_binary',\n",
              "                                                                                 sparse=False))]),\n",
              "                                                  <sklearn.compose._column_transformer.make_column_selector object at 0x7fde55088bd0>)])),\n",
              "                ('xgbregressor',\n",
              "                 XGBRegressor(colsample_bytree=0.5, learning_rate=0.01,\n",
              "                              max_depth=5, n_estimators=400,\n",
              "                              objective='reg:squarederror', subsample=0.7))])"
            ]
          },
          "metadata": {
            "tags": []
          },
          "execution_count": 106
        }
      ]
    },
    {
      "cell_type": "code",
      "metadata": {
        "colab": {
          "base_uri": "https://localhost:8080/"
        },
        "id": "P_F9X0bV43D6",
        "outputId": "8da488a2-4aae-4f2d-caa3-74767bbffddc"
      },
      "source": [
        "gs.best_params_"
      ],
      "execution_count": null,
      "outputs": [
        {
          "output_type": "execute_result",
          "data": {
            "text/plain": [
              "{'xgbregressor__colsample_bytree': 0.5,\n",
              " 'xgbregressor__learning_rate': 0.01,\n",
              " 'xgbregressor__max_depth': 5,\n",
              " 'xgbregressor__min_child_weight': 1,\n",
              " 'xgbregressor__n_estimators': 400,\n",
              " 'xgbregressor__subsample': 0.7}"
            ]
          },
          "metadata": {
            "tags": []
          },
          "execution_count": 107
        }
      ]
    },
    {
      "cell_type": "code",
      "metadata": {
        "colab": {
          "base_uri": "https://localhost:8080/",
          "height": 131
        },
        "id": "2-9z1LRoc-9i",
        "outputId": "edf3e69d-807f-4eac-f9bb-764340c4d9eb"
      },
      "source": [
        "X_test.sample()"
      ],
      "execution_count": null,
      "outputs": [
        {
          "output_type": "execute_result",
          "data": {
            "text/html": [
              "<div>\n",
              "<style scoped>\n",
              "    .dataframe tbody tr th:only-of-type {\n",
              "        vertical-align: middle;\n",
              "    }\n",
              "\n",
              "    .dataframe tbody tr th {\n",
              "        vertical-align: top;\n",
              "    }\n",
              "\n",
              "    .dataframe thead th {\n",
              "        text-align: right;\n",
              "    }\n",
              "</style>\n",
              "<table border=\"1\" class=\"dataframe\">\n",
              "  <thead>\n",
              "    <tr style=\"text-align: right;\">\n",
              "      <th></th>\n",
              "      <th>Course_code</th>\n",
              "      <th>Activity_type</th>\n",
              "      <th>Std_act_cp_mean</th>\n",
              "      <th>Std_act_d_mean</th>\n",
              "      <th>Std_act_m_count</th>\n",
              "      <th>Std_act_m_max</th>\n",
              "      <th>Std_act_m_mean</th>\n",
              "      <th>Std_act_m_std</th>\n",
              "      <th>Std_act_t_max</th>\n",
              "      <th>Std_act_t_mean</th>\n",
              "      <th>Std_act_t_std</th>\n",
              "      <th>Act_score</th>\n",
              "      <th>Act_cp_mean</th>\n",
              "      <th>Act_diff_mean</th>\n",
              "      <th>Act_mark_count</th>\n",
              "      <th>Act_mark_max</th>\n",
              "      <th>Act_mark_mean</th>\n",
              "      <th>Act_mark_min</th>\n",
              "      <th>Act_time_max</th>\n",
              "      <th>Act_time_mean</th>\n",
              "      <th>Act_time_min</th>\n",
              "      <th>Activities_Count_&lt;lambda&gt;</th>\n",
              "    </tr>\n",
              "    <tr>\n",
              "      <th>student_ID</th>\n",
              "      <th></th>\n",
              "      <th></th>\n",
              "      <th></th>\n",
              "      <th></th>\n",
              "      <th></th>\n",
              "      <th></th>\n",
              "      <th></th>\n",
              "      <th></th>\n",
              "      <th></th>\n",
              "      <th></th>\n",
              "      <th></th>\n",
              "      <th></th>\n",
              "      <th></th>\n",
              "      <th></th>\n",
              "      <th></th>\n",
              "      <th></th>\n",
              "      <th></th>\n",
              "      <th></th>\n",
              "      <th></th>\n",
              "      <th></th>\n",
              "      <th></th>\n",
              "      <th></th>\n",
              "    </tr>\n",
              "  </thead>\n",
              "  <tbody>\n",
              "    <tr>\n",
              "      <th>120637851</th>\n",
              "      <td>g3_5</td>\n",
              "      <td>0</td>\n",
              "      <td>2.0</td>\n",
              "      <td>4.0</td>\n",
              "      <td>1</td>\n",
              "      <td>2.55</td>\n",
              "      <td>2.55</td>\n",
              "      <td>0.0</td>\n",
              "      <td>807</td>\n",
              "      <td>807.0</td>\n",
              "      <td>0.0</td>\n",
              "      <td>5.871592</td>\n",
              "      <td>1.5</td>\n",
              "      <td>2.51087</td>\n",
              "      <td>92</td>\n",
              "      <td>9.96</td>\n",
              "      <td>5.189891</td>\n",
              "      <td>0.08</td>\n",
              "      <td>895.0</td>\n",
              "      <td>432.673913</td>\n",
              "      <td>35.0</td>\n",
              "      <td>20</td>\n",
              "    </tr>\n",
              "  </tbody>\n",
              "</table>\n",
              "</div>"
            ],
            "text/plain": [
              "           Course_code Activity_type  ...  Act_time_min  Activities_Count_<lambda>\n",
              "student_ID                            ...                                         \n",
              "120637851         g3_5             0  ...          35.0                         20\n",
              "\n",
              "[1 rows x 22 columns]"
            ]
          },
          "metadata": {
            "tags": []
          },
          "execution_count": 108
        }
      ]
    },
    {
      "cell_type": "code",
      "metadata": {
        "id": "GbB6w9kQKfQK"
      },
      "source": [
        "std_Pred=X_test.loc[\"080969613\"] "
      ],
      "execution_count": null,
      "outputs": []
    },
    {
      "cell_type": "code",
      "metadata": {
        "colab": {
          "base_uri": "https://localhost:8080/"
        },
        "id": "iEh-K9_3Kuyr",
        "outputId": "52e2e8d0-f963-4605-d219-e168efe77cb7"
      },
      "source": [
        "gs.predict(X_test.loc[\"120637851\"])"
      ],
      "execution_count": null,
      "outputs": [
        {
          "output_type": "execute_result",
          "data": {
            "text/plain": [
              "array([6.589831 , 1.7746212, 6.4280024, 5.464899 , 2.664589 ],\n",
              "      dtype=float32)"
            ]
          },
          "metadata": {
            "tags": []
          },
          "execution_count": 113
        }
      ]
    },
    {
      "cell_type": "code",
      "metadata": {
        "colab": {
          "base_uri": "https://localhost:8080/",
          "height": 224
        },
        "id": "sHIowI-jAlb2",
        "outputId": "dc655158-c9a5-4b23-95ec-9279ec13d674"
      },
      "source": [
        "st_pred_graph.head()"
      ],
      "execution_count": null,
      "outputs": [
        {
          "output_type": "execute_result",
          "data": {
            "text/html": [
              "<div>\n",
              "<style scoped>\n",
              "    .dataframe tbody tr th:only-of-type {\n",
              "        vertical-align: middle;\n",
              "    }\n",
              "\n",
              "    .dataframe tbody tr th {\n",
              "        vertical-align: top;\n",
              "    }\n",
              "\n",
              "    .dataframe thead th {\n",
              "        text-align: right;\n",
              "    }\n",
              "</style>\n",
              "<table border=\"1\" class=\"dataframe\">\n",
              "  <thead>\n",
              "    <tr style=\"text-align: right;\">\n",
              "      <th></th>\n",
              "      <th>student_ID</th>\n",
              "      <th>Course_code</th>\n",
              "      <th>Activity_type</th>\n",
              "      <th>Std_act_cp_mean</th>\n",
              "      <th>Std_act_d_mean</th>\n",
              "      <th>Std_act_m_count</th>\n",
              "      <th>Std_act_m_last</th>\n",
              "      <th>Std_act_m_max</th>\n",
              "      <th>Std_act_m_mean</th>\n",
              "      <th>Std_act_m_std</th>\n",
              "      <th>Std_act_t_max</th>\n",
              "      <th>Std_act_t_mean</th>\n",
              "      <th>Std_act_t_std</th>\n",
              "      <th>Act_score</th>\n",
              "      <th>Act_cp_mean</th>\n",
              "      <th>Act_diff_mean</th>\n",
              "      <th>Act_mark_count</th>\n",
              "      <th>Act_mark_max</th>\n",
              "      <th>Act_mark_mean</th>\n",
              "      <th>Act_mark_min</th>\n",
              "      <th>Act_time_max</th>\n",
              "      <th>Act_time_mean</th>\n",
              "      <th>Act_time_min</th>\n",
              "      <th>Activities_Count_&lt;lambda&gt;</th>\n",
              "    </tr>\n",
              "  </thead>\n",
              "  <tbody>\n",
              "    <tr>\n",
              "      <th>1055</th>\n",
              "      <td>080969613</td>\n",
              "      <td>g7_1</td>\n",
              "      <td>0</td>\n",
              "      <td>1.0</td>\n",
              "      <td>2.0</td>\n",
              "      <td>1</td>\n",
              "      <td>1.98</td>\n",
              "      <td>1.98</td>\n",
              "      <td>1.980</td>\n",
              "      <td>0.000000</td>\n",
              "      <td>45</td>\n",
              "      <td>45.0</td>\n",
              "      <td>0.000000</td>\n",
              "      <td>2.744863</td>\n",
              "      <td>1.603774</td>\n",
              "      <td>2.547170</td>\n",
              "      <td>106</td>\n",
              "      <td>9.85</td>\n",
              "      <td>5.196887</td>\n",
              "      <td>0.20</td>\n",
              "      <td>896.0</td>\n",
              "      <td>456.311321</td>\n",
              "      <td>33.0</td>\n",
              "      <td>20</td>\n",
              "    </tr>\n",
              "    <tr>\n",
              "      <th>1101</th>\n",
              "      <td>080969613</td>\n",
              "      <td>g7_2</td>\n",
              "      <td>0</td>\n",
              "      <td>2.0</td>\n",
              "      <td>2.0</td>\n",
              "      <td>1</td>\n",
              "      <td>3.33</td>\n",
              "      <td>3.33</td>\n",
              "      <td>3.330</td>\n",
              "      <td>0.000000</td>\n",
              "      <td>857</td>\n",
              "      <td>857.0</td>\n",
              "      <td>0.000000</td>\n",
              "      <td>5.966559</td>\n",
              "      <td>1.541176</td>\n",
              "      <td>2.423529</td>\n",
              "      <td>85</td>\n",
              "      <td>9.98</td>\n",
              "      <td>4.154706</td>\n",
              "      <td>0.01</td>\n",
              "      <td>888.0</td>\n",
              "      <td>473.058824</td>\n",
              "      <td>30.0</td>\n",
              "      <td>20</td>\n",
              "    </tr>\n",
              "    <tr>\n",
              "      <th>1146</th>\n",
              "      <td>080969613</td>\n",
              "      <td>g7_2</td>\n",
              "      <td>1</td>\n",
              "      <td>2.0</td>\n",
              "      <td>4.0</td>\n",
              "      <td>2</td>\n",
              "      <td>8.05</td>\n",
              "      <td>8.05</td>\n",
              "      <td>4.705</td>\n",
              "      <td>4.730544</td>\n",
              "      <td>41</td>\n",
              "      <td>35.5</td>\n",
              "      <td>7.778175</td>\n",
              "      <td>31.925516</td>\n",
              "      <td>1.609756</td>\n",
              "      <td>2.524390</td>\n",
              "      <td>82</td>\n",
              "      <td>9.92</td>\n",
              "      <td>4.933902</td>\n",
              "      <td>0.08</td>\n",
              "      <td>894.0</td>\n",
              "      <td>483.756098</td>\n",
              "      <td>30.0</td>\n",
              "      <td>20</td>\n",
              "    </tr>\n",
              "    <tr>\n",
              "      <th>1190</th>\n",
              "      <td>080969613</td>\n",
              "      <td>g7_3</td>\n",
              "      <td>0</td>\n",
              "      <td>2.0</td>\n",
              "      <td>1.0</td>\n",
              "      <td>1</td>\n",
              "      <td>3.01</td>\n",
              "      <td>3.01</td>\n",
              "      <td>3.010</td>\n",
              "      <td>0.000000</td>\n",
              "      <td>101</td>\n",
              "      <td>101.0</td>\n",
              "      <td>0.000000</td>\n",
              "      <td>4.172746</td>\n",
              "      <td>1.462500</td>\n",
              "      <td>2.525000</td>\n",
              "      <td>80</td>\n",
              "      <td>9.98</td>\n",
              "      <td>5.003375</td>\n",
              "      <td>0.04</td>\n",
              "      <td>896.0</td>\n",
              "      <td>456.562500</td>\n",
              "      <td>44.0</td>\n",
              "      <td>20</td>\n",
              "    </tr>\n",
              "    <tr>\n",
              "      <th>1368</th>\n",
              "      <td>080969613</td>\n",
              "      <td>g7_5</td>\n",
              "      <td>0</td>\n",
              "      <td>1.0</td>\n",
              "      <td>2.0</td>\n",
              "      <td>1</td>\n",
              "      <td>8.22</td>\n",
              "      <td>8.22</td>\n",
              "      <td>8.220</td>\n",
              "      <td>0.000000</td>\n",
              "      <td>603</td>\n",
              "      <td>603.0</td>\n",
              "      <td>0.000000</td>\n",
              "      <td>11.395340</td>\n",
              "      <td>1.524390</td>\n",
              "      <td>2.609756</td>\n",
              "      <td>82</td>\n",
              "      <td>9.81</td>\n",
              "      <td>5.517927</td>\n",
              "      <td>0.10</td>\n",
              "      <td>897.0</td>\n",
              "      <td>489.317073</td>\n",
              "      <td>31.0</td>\n",
              "      <td>20</td>\n",
              "    </tr>\n",
              "  </tbody>\n",
              "</table>\n",
              "</div>"
            ],
            "text/plain": [
              "     student_ID Course_code  ... Act_time_min  Activities_Count_<lambda>\n",
              "1055  080969613        g7_1  ...         33.0                         20\n",
              "1101  080969613        g7_2  ...         30.0                         20\n",
              "1146  080969613        g7_2  ...         30.0                         20\n",
              "1190  080969613        g7_3  ...         44.0                         20\n",
              "1368  080969613        g7_5  ...         31.0                         20\n",
              "\n",
              "[5 rows x 24 columns]"
            ]
          },
          "metadata": {
            "tags": []
          },
          "execution_count": 115
        }
      ]
    },
    {
      "cell_type": "code",
      "metadata": {
        "colab": {
          "base_uri": "https://localhost:8080/"
        },
        "id": "oieL4pnBLEuM",
        "outputId": "89a5c38c-814d-4ee3-9171-f34016b81fb7"
      },
      "source": [
        "std_Pred[\"Predicted_mark\"]=gs.predict(X_test.loc[\"120637851\"])"
      ],
      "execution_count": null,
      "outputs": [
        {
          "output_type": "stream",
          "text": [
            "/usr/local/lib/python3.7/dist-packages/ipykernel_launcher.py:1: SettingWithCopyWarning:\n",
            "\n",
            "\n",
            "A value is trying to be set on a copy of a slice from a DataFrame.\n",
            "Try using .loc[row_indexer,col_indexer] = value instead\n",
            "\n",
            "See the caveats in the documentation: https://pandas.pydata.org/pandas-docs/stable/user_guide/indexing.html#returning-a-view-versus-a-copy\n",
            "\n"
          ],
          "name": "stderr"
        }
      ]
    },
    {
      "cell_type": "code",
      "metadata": {
        "colab": {
          "base_uri": "https://localhost:8080/",
          "height": 193
        },
        "id": "jB1cSZ52LTnD",
        "outputId": "f1b116ef-9e2f-4225-bda8-f2fc82017a71"
      },
      "source": [
        "std_Pred"
      ],
      "execution_count": null,
      "outputs": [
        {
          "output_type": "execute_result",
          "data": {
            "text/html": [
              "<div>\n",
              "<style scoped>\n",
              "    .dataframe tbody tr th:only-of-type {\n",
              "        vertical-align: middle;\n",
              "    }\n",
              "\n",
              "    .dataframe tbody tr th {\n",
              "        vertical-align: top;\n",
              "    }\n",
              "\n",
              "    .dataframe thead th {\n",
              "        text-align: right;\n",
              "    }\n",
              "</style>\n",
              "<table border=\"1\" class=\"dataframe\">\n",
              "  <thead>\n",
              "    <tr style=\"text-align: right;\">\n",
              "      <th></th>\n",
              "      <th>Course_code</th>\n",
              "      <th>Activity_type</th>\n",
              "      <th>Std_act_cp_mean</th>\n",
              "      <th>Std_act_d_mean</th>\n",
              "      <th>Std_act_m_count</th>\n",
              "      <th>Std_act_m_max</th>\n",
              "      <th>Std_act_m_mean</th>\n",
              "      <th>Std_act_m_std</th>\n",
              "      <th>Std_act_t_max</th>\n",
              "      <th>Std_act_t_mean</th>\n",
              "      <th>Std_act_t_std</th>\n",
              "      <th>Act_score</th>\n",
              "      <th>Act_cp_mean</th>\n",
              "      <th>Act_diff_mean</th>\n",
              "      <th>Act_mark_count</th>\n",
              "      <th>Act_mark_max</th>\n",
              "      <th>Act_mark_mean</th>\n",
              "      <th>Act_mark_min</th>\n",
              "      <th>Act_time_max</th>\n",
              "      <th>Act_time_mean</th>\n",
              "      <th>Act_time_min</th>\n",
              "      <th>Activities_Count_&lt;lambda&gt;</th>\n",
              "      <th>Predicted_mark</th>\n",
              "    </tr>\n",
              "    <tr>\n",
              "      <th>student_ID</th>\n",
              "      <th></th>\n",
              "      <th></th>\n",
              "      <th></th>\n",
              "      <th></th>\n",
              "      <th></th>\n",
              "      <th></th>\n",
              "      <th></th>\n",
              "      <th></th>\n",
              "      <th></th>\n",
              "      <th></th>\n",
              "      <th></th>\n",
              "      <th></th>\n",
              "      <th></th>\n",
              "      <th></th>\n",
              "      <th></th>\n",
              "      <th></th>\n",
              "      <th></th>\n",
              "      <th></th>\n",
              "      <th></th>\n",
              "      <th></th>\n",
              "      <th></th>\n",
              "      <th></th>\n",
              "      <th></th>\n",
              "    </tr>\n",
              "  </thead>\n",
              "  <tbody>\n",
              "    <tr>\n",
              "      <th>070792498</th>\n",
              "      <td>g8_1</td>\n",
              "      <td>1</td>\n",
              "      <td>2.000000</td>\n",
              "      <td>2.500000</td>\n",
              "      <td>2</td>\n",
              "      <td>7.78</td>\n",
              "      <td>6.520000</td>\n",
              "      <td>1.781909</td>\n",
              "      <td>355</td>\n",
              "      <td>212.0</td>\n",
              "      <td>202.232539</td>\n",
              "      <td>18.918902</td>\n",
              "      <td>1.454545</td>\n",
              "      <td>2.386364</td>\n",
              "      <td>88</td>\n",
              "      <td>9.99</td>\n",
              "      <td>5.100795</td>\n",
              "      <td>0.04</td>\n",
              "      <td>893.0</td>\n",
              "      <td>428.306818</td>\n",
              "      <td>53.0</td>\n",
              "      <td>18</td>\n",
              "      <td>6.240846</td>\n",
              "    </tr>\n",
              "    <tr>\n",
              "      <th>070792498</th>\n",
              "      <td>g8_6</td>\n",
              "      <td>1</td>\n",
              "      <td>1.400000</td>\n",
              "      <td>2.600000</td>\n",
              "      <td>5</td>\n",
              "      <td>9.86</td>\n",
              "      <td>4.538000</td>\n",
              "      <td>4.351531</td>\n",
              "      <td>898</td>\n",
              "      <td>708.0</td>\n",
              "      <td>185.788859</td>\n",
              "      <td>38.055937</td>\n",
              "      <td>1.494253</td>\n",
              "      <td>2.425287</td>\n",
              "      <td>87</td>\n",
              "      <td>9.99</td>\n",
              "      <td>5.437126</td>\n",
              "      <td>0.20</td>\n",
              "      <td>898.0</td>\n",
              "      <td>468.275862</td>\n",
              "      <td>37.0</td>\n",
              "      <td>20</td>\n",
              "      <td>4.666232</td>\n",
              "    </tr>\n",
              "    <tr>\n",
              "      <th>070792498</th>\n",
              "      <td>g8_1</td>\n",
              "      <td>0</td>\n",
              "      <td>1.666667</td>\n",
              "      <td>1.666667</td>\n",
              "      <td>3</td>\n",
              "      <td>7.65</td>\n",
              "      <td>3.833333</td>\n",
              "      <td>3.386065</td>\n",
              "      <td>842</td>\n",
              "      <td>552.0</td>\n",
              "      <td>407.573306</td>\n",
              "      <td>25.469487</td>\n",
              "      <td>1.531915</td>\n",
              "      <td>2.404255</td>\n",
              "      <td>94</td>\n",
              "      <td>9.61</td>\n",
              "      <td>4.986596</td>\n",
              "      <td>0.02</td>\n",
              "      <td>883.0</td>\n",
              "      <td>495.478723</td>\n",
              "      <td>57.0</td>\n",
              "      <td>20</td>\n",
              "      <td>3.608995</td>\n",
              "    </tr>\n",
              "  </tbody>\n",
              "</table>\n",
              "</div>"
            ],
            "text/plain": [
              "           Course_code Activity_type  ...  Activities_Count_<lambda>  Predicted_mark\n",
              "student_ID                            ...                                           \n",
              "070792498         g8_1             1  ...                         18        6.240846\n",
              "070792498         g8_6             1  ...                         20        4.666232\n",
              "070792498         g8_1             0  ...                         20        3.608995\n",
              "\n",
              "[3 rows x 23 columns]"
            ]
          },
          "metadata": {
            "tags": []
          },
          "execution_count": 109
        }
      ]
    },
    {
      "cell_type": "code",
      "metadata": {
        "id": "qJA7ti_e46dz"
      },
      "source": [
        "y_pred=gs.predict(X_test)"
      ],
      "execution_count": null,
      "outputs": []
    },
    {
      "cell_type": "code",
      "metadata": {
        "colab": {
          "base_uri": "https://localhost:8080/"
        },
        "id": "y2szdzfQ4Nvq",
        "outputId": "4e489244-3490-47ba-e40d-136049046c6f"
      },
      "source": [
        "from sklearn import  metrics\n",
        "print(f\"  MAE : { metrics.mean_absolute_error(y_test, y_pred):.3f}\")\n",
        "print(f\"  MSE : { metrics.mean_squared_error(y_test, y_pred):.3f}\")\n",
        "print(f\"  RMSE : { np.sqrt(metrics.mean_squared_error(y_test, y_pred)):.3f}\")\n",
        "print(f\"  R^2 : { metrics.r2_score(y_test, y_pred):.3f}\")\n",
        "print(f\"  Explained Variance Score : { metrics.mean_absolute_error(y_test, y_pred):.3f}\")"
      ],
      "execution_count": null,
      "outputs": [
        {
          "output_type": "stream",
          "text": [
            "  MAE : 1.108\n",
            "  MSE : 3.092\n",
            "  RMSE : 1.759\n",
            "  R^2 : 0.652\n",
            "  Explained Variance Score : 1.108\n"
          ],
          "name": "stdout"
        }
      ]
    },
    {
      "cell_type": "code",
      "metadata": {
        "colab": {
          "base_uri": "https://localhost:8080/",
          "height": 300
        },
        "id": "MzIcZBSx4Nyw",
        "outputId": "219bccd8-9810-4f09-e5c1-9d5b00c75ed5"
      },
      "source": [
        "# Residual Plot\n",
        "import seaborn as sns\n",
        "_= sns.residplot(x=y_test, y=y_pred, color=\"green\")"
      ],
      "execution_count": null,
      "outputs": [
        {
          "output_type": "display_data",
          "data": {
            "image/png": "[encoded data removed]",
            "text/plain": [
              "<Figure size 432x288 with 1 Axes>"
            ]
          },
          "metadata": {
            "tags": [],
            "needs_background": "light"
          }
        }
      ]
    },
    {
      "cell_type": "code",
      "metadata": {
        "colab": {
          "base_uri": "https://localhost:8080/"
        },
        "id": "JnDE5heA4N2C",
        "outputId": "0e700667-807f-4d5b-a996-7ac7b5a4127c"
      },
      "source": [
        "X_test.shape"
      ],
      "execution_count": null,
      "outputs": [
        {
          "output_type": "execute_result",
          "data": {
            "text/plain": [
              "(1327, 22)"
            ]
          },
          "metadata": {
            "tags": []
          },
          "execution_count": 113
        }
      ]
    },
    {
      "cell_type": "code",
      "metadata": {
        "colab": {
          "base_uri": "https://localhost:8080/",
          "height": 131
        },
        "id": "XWK0w9DqUMwF",
        "outputId": "6c6b7022-7e80-4144-bd0d-18f0fdd09900"
      },
      "source": [
        "X_test.sample()"
      ],
      "execution_count": null,
      "outputs": [
        {
          "output_type": "execute_result",
          "data": {
            "text/html": [
              "<div>\n",
              "<style scoped>\n",
              "    .dataframe tbody tr th:only-of-type {\n",
              "        vertical-align: middle;\n",
              "    }\n",
              "\n",
              "    .dataframe tbody tr th {\n",
              "        vertical-align: top;\n",
              "    }\n",
              "\n",
              "    .dataframe thead th {\n",
              "        text-align: right;\n",
              "    }\n",
              "</style>\n",
              "<table border=\"1\" class=\"dataframe\">\n",
              "  <thead>\n",
              "    <tr style=\"text-align: right;\">\n",
              "      <th></th>\n",
              "      <th>Course_code</th>\n",
              "      <th>Activity_type</th>\n",
              "      <th>Std_act_cp_mean</th>\n",
              "      <th>Std_act_d_mean</th>\n",
              "      <th>Std_act_m_count</th>\n",
              "      <th>Std_act_m_max</th>\n",
              "      <th>Std_act_m_mean</th>\n",
              "      <th>Std_act_m_std</th>\n",
              "      <th>Std_act_t_max</th>\n",
              "      <th>Std_act_t_mean</th>\n",
              "      <th>Std_act_t_std</th>\n",
              "      <th>Act_score</th>\n",
              "      <th>Act_cp_mean</th>\n",
              "      <th>Act_diff_mean</th>\n",
              "      <th>Act_mark_count</th>\n",
              "      <th>Act_mark_max</th>\n",
              "      <th>Act_mark_mean</th>\n",
              "      <th>Act_mark_min</th>\n",
              "      <th>Act_time_max</th>\n",
              "      <th>Act_time_mean</th>\n",
              "      <th>Act_time_min</th>\n",
              "      <th>Activities_Count_&lt;lambda&gt;</th>\n",
              "    </tr>\n",
              "    <tr>\n",
              "      <th>student_ID</th>\n",
              "      <th></th>\n",
              "      <th></th>\n",
              "      <th></th>\n",
              "      <th></th>\n",
              "      <th></th>\n",
              "      <th></th>\n",
              "      <th></th>\n",
              "      <th></th>\n",
              "      <th></th>\n",
              "      <th></th>\n",
              "      <th></th>\n",
              "      <th></th>\n",
              "      <th></th>\n",
              "      <th></th>\n",
              "      <th></th>\n",
              "      <th></th>\n",
              "      <th></th>\n",
              "      <th></th>\n",
              "      <th></th>\n",
              "      <th></th>\n",
              "      <th></th>\n",
              "      <th></th>\n",
              "    </tr>\n",
              "  </thead>\n",
              "  <tbody>\n",
              "    <tr>\n",
              "      <th>060720135</th>\n",
              "      <td>g9_3</td>\n",
              "      <td>0</td>\n",
              "      <td>1.0</td>\n",
              "      <td>4.0</td>\n",
              "      <td>1</td>\n",
              "      <td>9.91</td>\n",
              "      <td>9.91</td>\n",
              "      <td>0.0</td>\n",
              "      <td>414</td>\n",
              "      <td>414.0</td>\n",
              "      <td>0.0</td>\n",
              "      <td>17.756336</td>\n",
              "      <td>1.478873</td>\n",
              "      <td>2.690141</td>\n",
              "      <td>71</td>\n",
              "      <td>9.91</td>\n",
              "      <td>5.002394</td>\n",
              "      <td>0.04</td>\n",
              "      <td>878.0</td>\n",
              "      <td>499.042254</td>\n",
              "      <td>31.0</td>\n",
              "      <td>20</td>\n",
              "    </tr>\n",
              "  </tbody>\n",
              "</table>\n",
              "</div>"
            ],
            "text/plain": [
              "           Course_code Activity_type  ...  Act_time_min  Activities_Count_<lambda>\n",
              "student_ID                            ...                                         \n",
              "060720135         g9_3             0  ...          31.0                         20\n",
              "\n",
              "[1 rows x 22 columns]"
            ]
          },
          "metadata": {
            "tags": []
          },
          "execution_count": 114
        }
      ]
    },
    {
      "cell_type": "code",
      "metadata": {
        "colab": {
          "base_uri": "https://localhost:8080/",
          "height": 111
        },
        "id": "jeWu6yBpUd3L",
        "outputId": "214703d8-0ef1-40f6-d071-c0f5e08cc811"
      },
      "source": [
        "df_avt.sample()"
      ],
      "execution_count": null,
      "outputs": [
        {
          "output_type": "execute_result",
          "data": {
            "text/html": [
              "<div>\n",
              "<style scoped>\n",
              "    .dataframe tbody tr th:only-of-type {\n",
              "        vertical-align: middle;\n",
              "    }\n",
              "\n",
              "    .dataframe tbody tr th {\n",
              "        vertical-align: top;\n",
              "    }\n",
              "\n",
              "    .dataframe thead th {\n",
              "        text-align: right;\n",
              "    }\n",
              "</style>\n",
              "<table border=\"1\" class=\"dataframe\">\n",
              "  <thead>\n",
              "    <tr style=\"text-align: right;\">\n",
              "      <th></th>\n",
              "      <th>student_ID</th>\n",
              "      <th>Course_code</th>\n",
              "      <th>Activity_id</th>\n",
              "      <th>Activity_type</th>\n",
              "      <th>Act_diff</th>\n",
              "      <th>Act_cp</th>\n",
              "      <th>Act_time</th>\n",
              "      <th>Act_mark</th>\n",
              "    </tr>\n",
              "    <tr>\n",
              "      <th>Act_submit_Time</th>\n",
              "      <th></th>\n",
              "      <th></th>\n",
              "      <th></th>\n",
              "      <th></th>\n",
              "      <th></th>\n",
              "      <th></th>\n",
              "      <th></th>\n",
              "      <th></th>\n",
              "    </tr>\n",
              "  </thead>\n",
              "  <tbody>\n",
              "    <tr>\n",
              "      <th>2020-05-04 14:57:11</th>\n",
              "      <td>110986052</td>\n",
              "      <td>g4_5</td>\n",
              "      <td>g4_5-Act_16</td>\n",
              "      <td>1</td>\n",
              "      <td>4</td>\n",
              "      <td>2</td>\n",
              "      <td>470</td>\n",
              "      <td>0.37</td>\n",
              "    </tr>\n",
              "  </tbody>\n",
              "</table>\n",
              "</div>"
            ],
            "text/plain": [
              "                    student_ID Course_code  ... Act_time Act_mark\n",
              "Act_submit_Time                             ...                  \n",
              "2020-05-04 14:57:11  110986052        g4_5  ...      470     0.37\n",
              "\n",
              "[1 rows x 8 columns]"
            ]
          },
          "metadata": {
            "tags": []
          },
          "execution_count": 115
        }
      ]
    },
    {
      "cell_type": "code",
      "metadata": {
        "colab": {
          "base_uri": "https://localhost:8080/"
        },
        "id": "ZW9fK90ERf_m",
        "outputId": "629c93a9-fe4d-4b4c-9b14-b7142f23c41c"
      },
      "source": [
        "df_avt.keys()"
      ],
      "execution_count": null,
      "outputs": [
        {
          "output_type": "execute_result",
          "data": {
            "text/plain": [
              "Index(['student_ID', 'Course_code', 'Activity_id', 'Activity_type', 'Act_diff',\n",
              "       'Act_cp', 'Act_time', 'Act_mark'],\n",
              "      dtype='object')"
            ]
          },
          "metadata": {
            "tags": []
          },
          "execution_count": 116
        }
      ]
    },
    {
      "cell_type": "code",
      "metadata": {
        "colab": {
          "base_uri": "https://localhost:8080/"
        },
        "id": "SKpLSxHWRPJP",
        "outputId": "24779749-13e3-47e0-d4f5-b329144d5bfd"
      },
      "source": [
        "X_test.keys()"
      ],
      "execution_count": null,
      "outputs": [
        {
          "output_type": "execute_result",
          "data": {
            "text/plain": [
              "Index(['Course_code', 'Activity_type', 'Std_act_cp_mean', 'Std_act_d_mean',\n",
              "       'Std_act_m_count', 'Std_act_m_max', 'Std_act_m_mean', 'Std_act_m_std',\n",
              "       'Std_act_t_max', 'Std_act_t_mean', 'Std_act_t_std', 'Act_score',\n",
              "       'Act_cp_mean', 'Act_diff_mean', 'Act_mark_count', 'Act_mark_max',\n",
              "       'Act_mark_mean', 'Act_mark_min', 'Act_time_max', 'Act_time_mean',\n",
              "       'Act_time_min', 'Activities_Count_<lambda>'],\n",
              "      dtype='object')"
            ]
          },
          "metadata": {
            "tags": []
          },
          "execution_count": 117
        }
      ]
    },
    {
      "cell_type": "code",
      "metadata": {
        "colab": {
          "base_uri": "https://localhost:8080/",
          "height": 266
        },
        "id": "515w2-to4N48",
        "outputId": "0ea549d3-070d-4c84-936a-ea55467beca0"
      },
      "source": [
        "#  Last Mark Comparaison\n",
        "pd.DataFrame({\"Actual Mark\": y_test, \"Predicted Mark\": y_pred}).sample(6)"
      ],
      "execution_count": null,
      "outputs": [
        {
          "output_type": "execute_result",
          "data": {
            "text/html": [
              "<div>\n",
              "<style scoped>\n",
              "    .dataframe tbody tr th:only-of-type {\n",
              "        vertical-align: middle;\n",
              "    }\n",
              "\n",
              "    .dataframe tbody tr th {\n",
              "        vertical-align: top;\n",
              "    }\n",
              "\n",
              "    .dataframe thead th {\n",
              "        text-align: right;\n",
              "    }\n",
              "</style>\n",
              "<table border=\"1\" class=\"dataframe\">\n",
              "  <thead>\n",
              "    <tr style=\"text-align: right;\">\n",
              "      <th></th>\n",
              "      <th>Actual Mark</th>\n",
              "      <th>Predicted Mark</th>\n",
              "    </tr>\n",
              "    <tr>\n",
              "      <th>student_ID</th>\n",
              "      <th></th>\n",
              "      <th></th>\n",
              "    </tr>\n",
              "  </thead>\n",
              "  <tbody>\n",
              "    <tr>\n",
              "      <th>081105178</th>\n",
              "      <td>5.47</td>\n",
              "      <td>5.570853</td>\n",
              "    </tr>\n",
              "    <tr>\n",
              "      <th>070550796</th>\n",
              "      <td>0.45</td>\n",
              "      <td>0.554962</td>\n",
              "    </tr>\n",
              "    <tr>\n",
              "      <th>131274196</th>\n",
              "      <td>6.24</td>\n",
              "      <td>6.281132</td>\n",
              "    </tr>\n",
              "    <tr>\n",
              "      <th>090343102</th>\n",
              "      <td>9.08</td>\n",
              "      <td>8.756810</td>\n",
              "    </tr>\n",
              "    <tr>\n",
              "      <th>130659120</th>\n",
              "      <td>9.45</td>\n",
              "      <td>7.272192</td>\n",
              "    </tr>\n",
              "    <tr>\n",
              "      <th>100319068</th>\n",
              "      <td>4.25</td>\n",
              "      <td>4.035170</td>\n",
              "    </tr>\n",
              "  </tbody>\n",
              "</table>\n",
              "</div>"
            ],
            "text/plain": [
              "            Actual Mark  Predicted Mark\n",
              "student_ID                             \n",
              "081105178          5.47        5.570853\n",
              "070550796          0.45        0.554962\n",
              "131274196          6.24        6.281132\n",
              "090343102          9.08        8.756810\n",
              "130659120          9.45        7.272192\n",
              "100319068          4.25        4.035170"
            ]
          },
          "metadata": {
            "tags": []
          },
          "execution_count": 118
        }
      ]
    },
    {
      "cell_type": "code",
      "metadata": {
        "colab": {
          "base_uri": "https://localhost:8080/"
        },
        "id": "PDQ2F9sKclYi",
        "outputId": "04b3b61a-a091-4901-a542-e32169802fff"
      },
      "source": [
        "X_test[\"predicted_Mark\"]=y_pred"
      ],
      "execution_count": null,
      "outputs": [
        {
          "output_type": "stream",
          "text": [
            "/usr/local/lib/python3.7/dist-packages/ipykernel_launcher.py:1: SettingWithCopyWarning:\n",
            "\n",
            "\n",
            "A value is trying to be set on a copy of a slice from a DataFrame.\n",
            "Try using .loc[row_indexer,col_indexer] = value instead\n",
            "\n",
            "See the caveats in the documentation: https://pandas.pydata.org/pandas-docs/stable/user_guide/indexing.html#returning-a-view-versus-a-copy\n",
            "\n"
          ],
          "name": "stderr"
        }
      ]
    },
    {
      "cell_type": "code",
      "metadata": {
        "id": "KFW3fkDAOixT"
      },
      "source": [
        "X_test=X_test.reindex()"
      ],
      "execution_count": null,
      "outputs": []
    },
    {
      "cell_type": "code",
      "metadata": {
        "colab": {
          "base_uri": "https://localhost:8080/"
        },
        "id": "ewmlQXrzvGWb",
        "outputId": "06c5d5a5-d37b-443f-dbb8-b235f69bb828"
      },
      "source": [
        "X_test.student_ID==\"120405564\""
      ],
      "execution_count": null,
      "outputs": [
        {
          "output_type": "execute_result",
          "data": {
            "text/plain": [
              "student_ID\n",
              "140286938    False\n",
              "120605077    False\n",
              "100115512    False\n",
              "110745570    False\n",
              "110810510    False\n",
              "             ...  \n",
              "070285557    False\n",
              "060860198    False\n",
              "081063216    False\n",
              "070424979    False\n",
              "120594765    False\n",
              "Name: student_ID, Length: 1327, dtype: bool"
            ]
          },
          "metadata": {
            "tags": []
          },
          "execution_count": 146
        }
      ]
    },
    {
      "cell_type": "code",
      "metadata": {
        "colab": {
          "base_uri": "https://localhost:8080/",
          "height": 100
        },
        "id": "C9Q1OTdLtUww",
        "outputId": "8ccbcd3d-67eb-4b00-d082-a0534041b61d"
      },
      "source": [
        "#X_test[\"student_ID\"]=120405564\n",
        "X_test.loc[X_test['student_ID'] ==\"120405564\"]\n"
      ],
      "execution_count": null,
      "outputs": [
        {
          "output_type": "execute_result",
          "data": {
            "text/html": [
              "<div>\n",
              "<style scoped>\n",
              "    .dataframe tbody tr th:only-of-type {\n",
              "        vertical-align: middle;\n",
              "    }\n",
              "\n",
              "    .dataframe tbody tr th {\n",
              "        vertical-align: top;\n",
              "    }\n",
              "\n",
              "    .dataframe thead th {\n",
              "        text-align: right;\n",
              "    }\n",
              "</style>\n",
              "<table border=\"1\" class=\"dataframe\">\n",
              "  <thead>\n",
              "    <tr style=\"text-align: right;\">\n",
              "      <th></th>\n",
              "      <th>Course_code</th>\n",
              "      <th>Activity_type</th>\n",
              "      <th>Std_act_cp_mean</th>\n",
              "      <th>Std_act_d_mean</th>\n",
              "      <th>Std_act_m_count</th>\n",
              "      <th>Std_act_m_max</th>\n",
              "      <th>Std_act_m_mean</th>\n",
              "      <th>Std_act_m_std</th>\n",
              "      <th>Std_act_t_max</th>\n",
              "      <th>Std_act_t_mean</th>\n",
              "      <th>Std_act_t_std</th>\n",
              "      <th>Act_score</th>\n",
              "      <th>Act_cp_mean</th>\n",
              "      <th>Act_diff_mean</th>\n",
              "      <th>Act_mark_count</th>\n",
              "      <th>Act_mark_max</th>\n",
              "      <th>Act_mark_mean</th>\n",
              "      <th>Act_mark_min</th>\n",
              "      <th>Act_time_max</th>\n",
              "      <th>Act_time_mean</th>\n",
              "      <th>Act_time_min</th>\n",
              "      <th>Activities_Count_&lt;lambda&gt;</th>\n",
              "      <th>predicted_Mark</th>\n",
              "      <th>student_ID</th>\n",
              "    </tr>\n",
              "    <tr>\n",
              "      <th>student_ID</th>\n",
              "      <th></th>\n",
              "      <th></th>\n",
              "      <th></th>\n",
              "      <th></th>\n",
              "      <th></th>\n",
              "      <th></th>\n",
              "      <th></th>\n",
              "      <th></th>\n",
              "      <th></th>\n",
              "      <th></th>\n",
              "      <th></th>\n",
              "      <th></th>\n",
              "      <th></th>\n",
              "      <th></th>\n",
              "      <th></th>\n",
              "      <th></th>\n",
              "      <th></th>\n",
              "      <th></th>\n",
              "      <th></th>\n",
              "      <th></th>\n",
              "      <th></th>\n",
              "      <th></th>\n",
              "      <th></th>\n",
              "      <th></th>\n",
              "    </tr>\n",
              "  </thead>\n",
              "  <tbody>\n",
              "  </tbody>\n",
              "</table>\n",
              "</div>"
            ],
            "text/plain": [
              "Empty DataFrame\n",
              "Columns: [Course_code, Activity_type, Std_act_cp_mean, Std_act_d_mean, Std_act_m_count, Std_act_m_max, Std_act_m_mean, Std_act_m_std, Std_act_t_max, Std_act_t_mean, Std_act_t_std, Act_score, Act_cp_mean, Act_diff_mean, Act_mark_count, Act_mark_max, Act_mark_mean, Act_mark_min, Act_time_max, Act_time_mean, Act_time_min, Activities_Count_<lambda>, predicted_Mark, student_ID]\n",
              "Index: []"
            ]
          },
          "metadata": {
            "tags": []
          },
          "execution_count": 151
        }
      ]
    },
    {
      "cell_type": "code",
      "metadata": {
        "colab": {
          "base_uri": "https://localhost:8080/",
          "height": 542
        },
        "id": "sSVPG2Oylidn",
        "outputId": "05393c94-6e89-40c4-f339-c6b371f35e31"
      },
      "source": [
        "To show the predicted value on the graph\n",
        "\n",
        "\n",
        "import plotly.express as px\n",
        "\n",
        "#df = px.data.gapminder().query(\"continent=='Oceania'\")\n",
        "\n",
        "fig= px.line(df_plt.sort_values(by=\"Act_submit_Time\"), \n",
        "             x=\"Act_submit_Time\", y=\"Act_mark\"  , title=\"Comparision between the student's mark (LINE) and the average of all students marks (BAR)\", \n",
        "             labels ={\"mark\": \"Act_mark\" , \"submit_Time\" :\"Act_submit_Time\" } , \n",
        "             color_discrete_map={\n",
        "                 \"Act_mark\": \"blue\"               \n",
        "             })\n",
        "fig1= px.bar(df_plt.sort_values(by=\"Act_submit_Time\"),  labels= {\"Act_submit_Time\" :\"Time\" },\n",
        "             x=\"Act_submit_Time\", y=\"Act_mark_avg\" , title=\"Comparision between the student's mark and the average of all students marks\" ,      \n",
        "              )\n",
        "fig.add_trace(fig1.data[0])\n",
        "#fig.update_layout(legend_title_text='Trend')\n",
        "\n",
        "\n",
        "\n",
        "fig.update_traces(  hovertemplate=None)\n",
        "fig.update_layout(hovermode=\"x\" )\n",
        "\n",
        "\n",
        "fig['data'][0]['showlegend']=True\n",
        "fig['data'][0]['name']=\"Student's mark\"\n",
        "\n",
        "fig['data'][1]['showlegend']=True\n",
        "fig['data'][1]['name']=\"Average Mark\"\n",
        "\n",
        "fig.show()\n",
        "\n",
        "\n"
      ],
      "execution_count": null,
      "outputs": [
        {
          "output_type": "display_data",
          "data": {
            "text/html": [
              "<html>\n",
              "<head><meta charset=\"utf-8\" /></head>\n",
              "<body>\n",
              "    <div>\n",
              "            <script src=\"https://cdnjs.cloudflare.com/ajax/libs/mathjax/2.7.5/MathJax.js?config=TeX-AMS-MML_SVG\"></script><script type=\"text/javascript\">if (window.MathJax) {MathJax.Hub.Config({SVG: {font: \"STIX-Web\"}});}</script>\n",
              "                <script type=\"text/javascript\">window.PlotlyConfig = {MathJaxConfig: 'local'};</script>\n",
              "        <script src=\"https://cdn.plot.ly/plotly-latest.min.js\"></script>    \n",
              "            <div id=\"bdefdd4e-5cf4-429e-bf27-5cef79bd1640\" class=\"plotly-graph-div\" style=\"height:525px; width:100%;\"></div>\n",
              "            <script type=\"text/javascript\">\n",
              "                \n",
              "                    window.PLOTLYENV=window.PLOTLYENV || {};\n",
              "                    \n",
              "                if (document.getElementById(\"bdefdd4e-5cf4-429e-bf27-5cef79bd1640\")) {\n",
              "                    Plotly.newPlot(\n",
              "                        'bdefdd4e-5cf4-429e-bf27-5cef79bd1640',\n",
              "                        [{\"hoverlabel\": {\"namelength\": 0}, \"legendgroup\": \"\", \"line\": {\"color\": \"#EF553B\", \"dash\": \"solid\"}, \"mode\": \"lines\", \"name\": \"Student's mark\", \"showlegend\": true, \"type\": \"scatter\", \"x\": [\"2020-04-16T16:17:42\", \"2020-06-22T05:15:50\", \"2020-08-18T09:31:36\", \"2020-09-07T14:51:32\", \"2020-09-24T03:31:57\", \"2020-11-30T14:50:51\"], \"xaxis\": \"x\", \"y\": [6.12, 4.81, 2.15, 2.26, 9.15, 3.97], \"yaxis\": \"y\"}, {\"alignmentgroup\": \"True\", \"hoverlabel\": {\"namelength\": 0}, \"legendgroup\": \"\", \"marker\": {\"color\": \"#636efa\"}, \"name\": \"Average Mark\", \"offsetgroup\": \"\", \"orientation\": \"v\", \"showlegend\": true, \"textposition\": \"auto\", \"type\": \"bar\", \"x\": [\"2020-04-16T16:17:42\", \"2020-06-22T05:15:50\", \"2020-08-18T09:31:36\", \"2020-09-07T14:51:32\", \"2020-09-24T03:31:57\", \"2020-11-30T14:50:51\"], \"xaxis\": \"x\", \"y\": [4.9719999999999995, 6.047499999999999, 5.8100000000000005, 4.4399999999999995, 7.4075, 5.016666666666667], \"yaxis\": \"y\"}],\n",
              "                        {\"hovermode\": \"x\", \"legend\": {\"tracegroupgap\": 0}, \"template\": {\"data\": {\"bar\": [{\"error_x\": {\"color\": \"#2a3f5f\"}, \"error_y\": {\"color\": \"#2a3f5f\"}, \"marker\": {\"line\": {\"color\": \"#E5ECF6\", \"width\": 0.5}}, \"type\": \"bar\"}], \"barpolar\": [{\"marker\": {\"line\": {\"color\": \"#E5ECF6\", \"width\": 0.5}}, \"type\": \"barpolar\"}], \"carpet\": [{\"aaxis\": {\"endlinecolor\": \"#2a3f5f\", \"gridcolor\": \"white\", \"linecolor\": \"white\", \"minorgridcolor\": \"white\", \"startlinecolor\": \"#2a3f5f\"}, \"baxis\": {\"endlinecolor\": \"#2a3f5f\", \"gridcolor\": \"white\", \"linecolor\": \"white\", \"minorgridcolor\": \"white\", \"startlinecolor\": \"#2a3f5f\"}, \"type\": \"carpet\"}], \"choropleth\": [{\"colorbar\": {\"outlinewidth\": 0, \"ticks\": \"\"}, \"type\": \"choropleth\"}], \"contour\": [{\"colorbar\": {\"outlinewidth\": 0, \"ticks\": \"\"}, \"colorscale\": [[0.0, \"#0d0887\"], [0.1111111111111111, \"#46039f\"], [0.2222222222222222, \"#7201a8\"], [0.3333333333333333, \"#9c179e\"], [0.4444444444444444, \"#bd3786\"], [0.5555555555555556, \"#d8576b\"], [0.6666666666666666, \"#ed7953\"], [0.7777777777777778, \"#fb9f3a\"], [0.8888888888888888, \"#fdca26\"], [1.0, \"#f0f921\"]], \"type\": \"contour\"}], \"contourcarpet\": [{\"colorbar\": {\"outlinewidth\": 0, \"ticks\": \"\"}, \"type\": \"contourcarpet\"}], \"heatmap\": [{\"colorbar\": {\"outlinewidth\": 0, \"ticks\": \"\"}, \"colorscale\": [[0.0, \"#0d0887\"], [0.1111111111111111, \"#46039f\"], [0.2222222222222222, \"#7201a8\"], [0.3333333333333333, \"#9c179e\"], [0.4444444444444444, \"#bd3786\"], [0.5555555555555556, \"#d8576b\"], [0.6666666666666666, \"#ed7953\"], [0.7777777777777778, \"#fb9f3a\"], [0.8888888888888888, \"#fdca26\"], [1.0, \"#f0f921\"]], \"type\": \"heatmap\"}], \"heatmapgl\": [{\"colorbar\": {\"outlinewidth\": 0, \"ticks\": \"\"}, \"colorscale\": [[0.0, \"#0d0887\"], [0.1111111111111111, \"#46039f\"], [0.2222222222222222, \"#7201a8\"], [0.3333333333333333, \"#9c179e\"], [0.4444444444444444, \"#bd3786\"], [0.5555555555555556, \"#d8576b\"], [0.6666666666666666, \"#ed7953\"], [0.7777777777777778, \"#fb9f3a\"], [0.8888888888888888, \"#fdca26\"], [1.0, \"#f0f921\"]], \"type\": \"heatmapgl\"}], \"histogram\": [{\"marker\": {\"colorbar\": {\"outlinewidth\": 0, \"ticks\": \"\"}}, \"type\": \"histogram\"}], \"histogram2d\": [{\"colorbar\": {\"outlinewidth\": 0, \"ticks\": \"\"}, \"colorscale\": [[0.0, \"#0d0887\"], [0.1111111111111111, \"#46039f\"], [0.2222222222222222, \"#7201a8\"], [0.3333333333333333, \"#9c179e\"], [0.4444444444444444, \"#bd3786\"], [0.5555555555555556, \"#d8576b\"], [0.6666666666666666, \"#ed7953\"], [0.7777777777777778, \"#fb9f3a\"], [0.8888888888888888, \"#fdca26\"], [1.0, \"#f0f921\"]], \"type\": \"histogram2d\"}], \"histogram2dcontour\": [{\"colorbar\": {\"outlinewidth\": 0, \"ticks\": \"\"}, \"colorscale\": [[0.0, \"#0d0887\"], [0.1111111111111111, \"#46039f\"], [0.2222222222222222, \"#7201a8\"], [0.3333333333333333, \"#9c179e\"], [0.4444444444444444, \"#bd3786\"], [0.5555555555555556, \"#d8576b\"], [0.6666666666666666, \"#ed7953\"], [0.7777777777777778, \"#fb9f3a\"], [0.8888888888888888, \"#fdca26\"], [1.0, \"#f0f921\"]], \"type\": \"histogram2dcontour\"}], \"mesh3d\": [{\"colorbar\": {\"outlinewidth\": 0, \"ticks\": \"\"}, \"type\": \"mesh3d\"}], \"parcoords\": [{\"line\": {\"colorbar\": {\"outlinewidth\": 0, \"ticks\": \"\"}}, \"type\": \"parcoords\"}], \"pie\": [{\"automargin\": true, \"type\": \"pie\"}], \"scatter\": [{\"marker\": {\"colorbar\": {\"outlinewidth\": 0, \"ticks\": \"\"}}, \"type\": \"scatter\"}], \"scatter3d\": [{\"line\": {\"colorbar\": {\"outlinewidth\": 0, \"ticks\": \"\"}}, \"marker\": {\"colorbar\": {\"outlinewidth\": 0, \"ticks\": \"\"}}, \"type\": \"scatter3d\"}], \"scattercarpet\": [{\"marker\": {\"colorbar\": {\"outlinewidth\": 0, \"ticks\": \"\"}}, \"type\": \"scattercarpet\"}], \"scattergeo\": [{\"marker\": {\"colorbar\": {\"outlinewidth\": 0, \"ticks\": \"\"}}, \"type\": \"scattergeo\"}], \"scattergl\": [{\"marker\": {\"colorbar\": {\"outlinewidth\": 0, \"ticks\": \"\"}}, \"type\": \"scattergl\"}], \"scattermapbox\": [{\"marker\": {\"colorbar\": {\"outlinewidth\": 0, \"ticks\": \"\"}}, \"type\": \"scattermapbox\"}], \"scatterpolar\": [{\"marker\": {\"colorbar\": {\"outlinewidth\": 0, \"ticks\": \"\"}}, \"type\": \"scatterpolar\"}], \"scatterpolargl\": [{\"marker\": {\"colorbar\": {\"outlinewidth\": 0, \"ticks\": \"\"}}, \"type\": \"scatterpolargl\"}], \"scatterternary\": [{\"marker\": {\"colorbar\": {\"outlinewidth\": 0, \"ticks\": \"\"}}, \"type\": \"scatterternary\"}], \"surface\": [{\"colorbar\": {\"outlinewidth\": 0, \"ticks\": \"\"}, \"colorscale\": [[0.0, \"#0d0887\"], [0.1111111111111111, \"#46039f\"], [0.2222222222222222, \"#7201a8\"], [0.3333333333333333, \"#9c179e\"], [0.4444444444444444, \"#bd3786\"], [0.5555555555555556, \"#d8576b\"], [0.6666666666666666, \"#ed7953\"], [0.7777777777777778, \"#fb9f3a\"], [0.8888888888888888, \"#fdca26\"], [1.0, \"#f0f921\"]], \"type\": \"surface\"}], \"table\": [{\"cells\": {\"fill\": {\"color\": \"#EBF0F8\"}, \"line\": {\"color\": \"white\"}}, \"header\": {\"fill\": {\"color\": \"#C8D4E3\"}, \"line\": {\"color\": \"white\"}}, \"type\": \"table\"}]}, \"layout\": {\"annotationdefaults\": {\"arrowcolor\": \"#2a3f5f\", \"arrowhead\": 0, \"arrowwidth\": 1}, \"coloraxis\": {\"colorbar\": {\"outlinewidth\": 0, \"ticks\": \"\"}}, \"colorscale\": {\"diverging\": [[0, \"#8e0152\"], [0.1, \"#c51b7d\"], [0.2, \"#de77ae\"], [0.3, \"#f1b6da\"], [0.4, \"#fde0ef\"], [0.5, \"#f7f7f7\"], [0.6, \"#e6f5d0\"], [0.7, \"#b8e186\"], [0.8, \"#7fbc41\"], [0.9, \"#4d9221\"], [1, \"#276419\"]], \"sequential\": [[0.0, \"#0d0887\"], [0.1111111111111111, \"#46039f\"], [0.2222222222222222, \"#7201a8\"], [0.3333333333333333, \"#9c179e\"], [0.4444444444444444, \"#bd3786\"], [0.5555555555555556, \"#d8576b\"], [0.6666666666666666, \"#ed7953\"], [0.7777777777777778, \"#fb9f3a\"], [0.8888888888888888, \"#fdca26\"], [1.0, \"#f0f921\"]], \"sequentialminus\": [[0.0, \"#0d0887\"], [0.1111111111111111, \"#46039f\"], [0.2222222222222222, \"#7201a8\"], [0.3333333333333333, \"#9c179e\"], [0.4444444444444444, \"#bd3786\"], [0.5555555555555556, \"#d8576b\"], [0.6666666666666666, \"#ed7953\"], [0.7777777777777778, \"#fb9f3a\"], [0.8888888888888888, \"#fdca26\"], [1.0, \"#f0f921\"]]}, \"colorway\": [\"#636efa\", \"#EF553B\", \"#00cc96\", \"#ab63fa\", \"#FFA15A\", \"#19d3f3\", \"#FF6692\", \"#B6E880\", \"#FF97FF\", \"#FECB52\"], \"font\": {\"color\": \"#2a3f5f\"}, \"geo\": {\"bgcolor\": \"white\", \"lakecolor\": \"white\", \"landcolor\": \"#E5ECF6\", \"showlakes\": true, \"showland\": true, \"subunitcolor\": \"white\"}, \"hoverlabel\": {\"align\": \"left\"}, \"hovermode\": \"closest\", \"mapbox\": {\"style\": \"light\"}, \"paper_bgcolor\": \"white\", \"plot_bgcolor\": \"#E5ECF6\", \"polar\": {\"angularaxis\": {\"gridcolor\": \"white\", \"linecolor\": \"white\", \"ticks\": \"\"}, \"bgcolor\": \"#E5ECF6\", \"radialaxis\": {\"gridcolor\": \"white\", \"linecolor\": \"white\", \"ticks\": \"\"}}, \"scene\": {\"xaxis\": {\"backgroundcolor\": \"#E5ECF6\", \"gridcolor\": \"white\", \"gridwidth\": 2, \"linecolor\": \"white\", \"showbackground\": true, \"ticks\": \"\", \"zerolinecolor\": \"white\"}, \"yaxis\": {\"backgroundcolor\": \"#E5ECF6\", \"gridcolor\": \"white\", \"gridwidth\": 2, \"linecolor\": \"white\", \"showbackground\": true, \"ticks\": \"\", \"zerolinecolor\": \"white\"}, \"zaxis\": {\"backgroundcolor\": \"#E5ECF6\", \"gridcolor\": \"white\", \"gridwidth\": 2, \"linecolor\": \"white\", \"showbackground\": true, \"ticks\": \"\", \"zerolinecolor\": \"white\"}}, \"shapedefaults\": {\"line\": {\"color\": \"#2a3f5f\"}}, \"ternary\": {\"aaxis\": {\"gridcolor\": \"white\", \"linecolor\": \"white\", \"ticks\": \"\"}, \"baxis\": {\"gridcolor\": \"white\", \"linecolor\": \"white\", \"ticks\": \"\"}, \"bgcolor\": \"#E5ECF6\", \"caxis\": {\"gridcolor\": \"white\", \"linecolor\": \"white\", \"ticks\": \"\"}}, \"title\": {\"x\": 0.05}, \"xaxis\": {\"automargin\": true, \"gridcolor\": \"white\", \"linecolor\": \"white\", \"ticks\": \"\", \"title\": {\"standoff\": 15}, \"zerolinecolor\": \"white\", \"zerolinewidth\": 2}, \"yaxis\": {\"automargin\": true, \"gridcolor\": \"white\", \"linecolor\": \"white\", \"ticks\": \"\", \"title\": {\"standoff\": 15}, \"zerolinecolor\": \"white\", \"zerolinewidth\": 2}}}, \"title\": {\"text\": \"Comparision between the student's mark (LINE) and the average of all students marks (BAR)\"}, \"xaxis\": {\"anchor\": \"y\", \"domain\": [0.0, 1.0], \"title\": {\"text\": \"Act_submit_Time\"}}, \"yaxis\": {\"anchor\": \"x\", \"domain\": [0.0, 1.0], \"title\": {\"text\": \"Act_mark\"}}},\n",
              "                        {\"responsive\": true}\n",
              "                    ).then(function(){\n",
              "                            \n",
              "var gd = document.getElementById('bdefdd4e-5cf4-429e-bf27-5cef79bd1640');\n",
              "var x = new MutationObserver(function (mutations, observer) {{\n",
              "        var display = window.getComputedStyle(gd).display;\n",
              "        if (!display || display === 'none') {{\n",
              "            console.log([gd, 'removed!']);\n",
              "            Plotly.purge(gd);\n",
              "            observer.disconnect();\n",
              "        }}\n",
              "}});\n",
              "\n",
              "// Listen for the removal of the full notebook cells\n",
              "var notebookContainer = gd.closest('#notebook-container');\n",
              "if (notebookContainer) {{\n",
              "    x.observe(notebookContainer, {childList: true});\n",
              "}}\n",
              "\n",
              "// Listen for the clearing of the current output cell\n",
              "var outputEl = gd.closest('.output');\n",
              "if (outputEl) {{\n",
              "    x.observe(outputEl, {childList: true});\n",
              "}}\n",
              "\n",
              "                        })\n",
              "                };\n",
              "                \n",
              "            </script>\n",
              "        </div>\n",
              "</body>\n",
              "</html>"
            ]
          },
          "metadata": {
            "tags": []
          }
        }
      ]
    },
    {
      "cell_type": "markdown",
      "metadata": {
        "id": "rxJumxSTO7S9"
      },
      "source": [
        "## Pipeline    SGBClasssifier  Classification  Prediction \n",
        "![](https://i.ibb.co/xzWVv5H/pipe-Lasso.png)"
      ]
    },
    {
      "cell_type": "code",
      "metadata": {
        "id": "mV9pOkV8O7TD"
      },
      "source": [
        "#df_stClass=pd.read_csv(\"./Data/MarkPrediction.csv\", index_col=0)\n",
        "df_stClass= df_mg"
      ],
      "execution_count": null,
      "outputs": []
    },
    {
      "cell_type": "code",
      "metadata": {
        "colab": {
          "base_uri": "https://localhost:8080/",
          "height": 255
        },
        "id": "uZhqnK4rO7TE",
        "outputId": "c1fb6de5-3aed-4ce9-af9a-54b55a2a3bbe"
      },
      "source": [
        "df_stClass.head()"
      ],
      "execution_count": null,
      "outputs": [
        {
          "output_type": "execute_result",
          "data": {
            "text/html": [
              "<div>\n",
              "<style scoped>\n",
              "    .dataframe tbody tr th:only-of-type {\n",
              "        vertical-align: middle;\n",
              "    }\n",
              "\n",
              "    .dataframe tbody tr th {\n",
              "        vertical-align: top;\n",
              "    }\n",
              "\n",
              "    .dataframe thead th {\n",
              "        text-align: right;\n",
              "    }\n",
              "</style>\n",
              "<table border=\"1\" class=\"dataframe\">\n",
              "  <thead>\n",
              "    <tr style=\"text-align: right;\">\n",
              "      <th></th>\n",
              "      <th>Course_code</th>\n",
              "      <th>Activity_type</th>\n",
              "      <th>Std_act_cp_mean</th>\n",
              "      <th>Std_act_d_mean</th>\n",
              "      <th>Std_act_m_count</th>\n",
              "      <th>Std_act_m_max</th>\n",
              "      <th>Std_act_m_mean</th>\n",
              "      <th>Std_act_m_std</th>\n",
              "      <th>Std_act_t_max</th>\n",
              "      <th>Std_act_t_mean</th>\n",
              "      <th>Std_act_t_std</th>\n",
              "      <th>Act_score</th>\n",
              "      <th>Act_cp_mean</th>\n",
              "      <th>Act_diff_mean</th>\n",
              "      <th>Act_mark_count</th>\n",
              "      <th>Act_mark_max</th>\n",
              "      <th>Act_mark_mean</th>\n",
              "      <th>Act_mark_min</th>\n",
              "      <th>Act_time_max</th>\n",
              "      <th>Act_time_mean</th>\n",
              "      <th>Act_time_min</th>\n",
              "      <th>Activities_Count_&lt;lambda&gt;</th>\n",
              "      <th>last_mark</th>\n",
              "    </tr>\n",
              "    <tr>\n",
              "      <th>student_ID</th>\n",
              "      <th></th>\n",
              "      <th></th>\n",
              "      <th></th>\n",
              "      <th></th>\n",
              "      <th></th>\n",
              "      <th></th>\n",
              "      <th></th>\n",
              "      <th></th>\n",
              "      <th></th>\n",
              "      <th></th>\n",
              "      <th></th>\n",
              "      <th></th>\n",
              "      <th></th>\n",
              "      <th></th>\n",
              "      <th></th>\n",
              "      <th></th>\n",
              "      <th></th>\n",
              "      <th></th>\n",
              "      <th></th>\n",
              "      <th></th>\n",
              "      <th></th>\n",
              "      <th></th>\n",
              "      <th></th>\n",
              "    </tr>\n",
              "  </thead>\n",
              "  <tbody>\n",
              "    <tr>\n",
              "      <th>060111824</th>\n",
              "      <td>g9_2</td>\n",
              "      <td>0</td>\n",
              "      <td>1.0</td>\n",
              "      <td>2.666667</td>\n",
              "      <td>3</td>\n",
              "      <td>7.41</td>\n",
              "      <td>6.366667</td>\n",
              "      <td>1.070996</td>\n",
              "      <td>159</td>\n",
              "      <td>99.0</td>\n",
              "      <td>61.024585</td>\n",
              "      <td>14.338325</td>\n",
              "      <td>1.5</td>\n",
              "      <td>2.518519</td>\n",
              "      <td>54</td>\n",
              "      <td>9.89</td>\n",
              "      <td>5.48463</td>\n",
              "      <td>0.0</td>\n",
              "      <td>283.0</td>\n",
              "      <td>148.62963</td>\n",
              "      <td>31.0</td>\n",
              "      <td>19</td>\n",
              "      <td>6.42</td>\n",
              "    </tr>\n",
              "    <tr>\n",
              "      <th>060135804</th>\n",
              "      <td>g9_2</td>\n",
              "      <td>0</td>\n",
              "      <td>2.0</td>\n",
              "      <td>4.000000</td>\n",
              "      <td>1</td>\n",
              "      <td>4.29</td>\n",
              "      <td>4.290000</td>\n",
              "      <td>0.000000</td>\n",
              "      <td>95</td>\n",
              "      <td>95.0</td>\n",
              "      <td>0.000000</td>\n",
              "      <td>9.878090</td>\n",
              "      <td>1.5</td>\n",
              "      <td>2.518519</td>\n",
              "      <td>54</td>\n",
              "      <td>9.89</td>\n",
              "      <td>5.48463</td>\n",
              "      <td>0.0</td>\n",
              "      <td>283.0</td>\n",
              "      <td>148.62963</td>\n",
              "      <td>31.0</td>\n",
              "      <td>19</td>\n",
              "      <td>4.29</td>\n",
              "    </tr>\n",
              "    <tr>\n",
              "      <th>060181433</th>\n",
              "      <td>g9_2</td>\n",
              "      <td>0</td>\n",
              "      <td>1.0</td>\n",
              "      <td>4.000000</td>\n",
              "      <td>1</td>\n",
              "      <td>0.96</td>\n",
              "      <td>0.960000</td>\n",
              "      <td>0.000000</td>\n",
              "      <td>110</td>\n",
              "      <td>110.0</td>\n",
              "      <td>0.000000</td>\n",
              "      <td>1.720089</td>\n",
              "      <td>1.5</td>\n",
              "      <td>2.518519</td>\n",
              "      <td>54</td>\n",
              "      <td>9.89</td>\n",
              "      <td>5.48463</td>\n",
              "      <td>0.0</td>\n",
              "      <td>283.0</td>\n",
              "      <td>148.62963</td>\n",
              "      <td>31.0</td>\n",
              "      <td>19</td>\n",
              "      <td>0.96</td>\n",
              "    </tr>\n",
              "    <tr>\n",
              "      <th>060211105</th>\n",
              "      <td>g9_2</td>\n",
              "      <td>0</td>\n",
              "      <td>2.0</td>\n",
              "      <td>4.000000</td>\n",
              "      <td>1</td>\n",
              "      <td>0.22</td>\n",
              "      <td>0.220000</td>\n",
              "      <td>0.000000</td>\n",
              "      <td>46</td>\n",
              "      <td>46.0</td>\n",
              "      <td>0.000000</td>\n",
              "      <td>0.506569</td>\n",
              "      <td>1.5</td>\n",
              "      <td>2.518519</td>\n",
              "      <td>54</td>\n",
              "      <td>9.89</td>\n",
              "      <td>5.48463</td>\n",
              "      <td>0.0</td>\n",
              "      <td>283.0</td>\n",
              "      <td>148.62963</td>\n",
              "      <td>31.0</td>\n",
              "      <td>19</td>\n",
              "      <td>0.22</td>\n",
              "    </tr>\n",
              "    <tr>\n",
              "      <th>060218034</th>\n",
              "      <td>g9_2</td>\n",
              "      <td>0</td>\n",
              "      <td>2.0</td>\n",
              "      <td>4.000000</td>\n",
              "      <td>1</td>\n",
              "      <td>9.43</td>\n",
              "      <td>9.430000</td>\n",
              "      <td>0.000000</td>\n",
              "      <td>93</td>\n",
              "      <td>93.0</td>\n",
              "      <td>0.000000</td>\n",
              "      <td>21.713377</td>\n",
              "      <td>1.5</td>\n",
              "      <td>2.518519</td>\n",
              "      <td>54</td>\n",
              "      <td>9.89</td>\n",
              "      <td>5.48463</td>\n",
              "      <td>0.0</td>\n",
              "      <td>283.0</td>\n",
              "      <td>148.62963</td>\n",
              "      <td>31.0</td>\n",
              "      <td>19</td>\n",
              "      <td>9.43</td>\n",
              "    </tr>\n",
              "  </tbody>\n",
              "</table>\n",
              "</div>"
            ],
            "text/plain": [
              "           Course_code Activity_type  ...  Activities_Count_<lambda>  last_mark\n",
              "student_ID                            ...                                      \n",
              "060111824         g9_2             0  ...                         19       6.42\n",
              "060135804         g9_2             0  ...                         19       4.29\n",
              "060181433         g9_2             0  ...                         19       0.96\n",
              "060211105         g9_2             0  ...                         19       0.22\n",
              "060218034         g9_2             0  ...                         19       9.43\n",
              "\n",
              "[5 rows x 23 columns]"
            ]
          },
          "metadata": {
            "tags": []
          },
          "execution_count": 121
        }
      ]
    },
    {
      "cell_type": "code",
      "metadata": {
        "id": "Sc0hHV9pO7TF"
      },
      "source": [
        "#df_mg.reset_index()\n",
        "# df_mg.drop(\"student_ID\", axis=1, inplace= True)  # Drop Student_ID\n",
        "# df_stClass.set_index(\"student_ID\", inplace=True)"
      ],
      "execution_count": null,
      "outputs": []
    },
    {
      "cell_type": "markdown",
      "metadata": {
        "id": "rmi-mtp4FWZg"
      },
      "source": [
        "- Ranking\n",
        "\n",
        "$$\\Large score=\\log(\\frac{\\text{Qz_Max_time}}{\\text{Qz_Avg_tim}}+\\text{Qz_avg_diff*Qz_Avg_cp})*\\frac{\\text{Qz_Avg_mark}^2}{\\text{Qz_Max_mark}}$$"
      ]
    },
    {
      "cell_type": "code",
      "metadata": {
        "colab": {
          "base_uri": "https://localhost:8080/"
        },
        "id": "dpKvikShD_ia",
        "outputId": "b0788f5a-de59-453c-c9ba-c4a2273d01cb"
      },
      "source": [
        "df_stClass.Act_score.describe().T"
      ],
      "execution_count": null,
      "outputs": [
        {
          "output_type": "execute_result",
          "data": {
            "text/plain": [
              "count    4373.000000\n",
              "mean       13.935535\n",
              "std         8.621868\n",
              "min         0.013863\n",
              "25%         7.315894\n",
              "50%        13.158862\n",
              "75%        19.246492\n",
              "max        45.445302\n",
              "Name: Act_score, dtype: float64"
            ]
          },
          "metadata": {
            "tags": []
          },
          "execution_count": 338
        }
      ]
    },
    {
      "cell_type": "code",
      "metadata": {
        "colab": {
          "base_uri": "https://localhost:8080/"
        },
        "id": "cFs-6fXyGpGB",
        "outputId": "3a2a9460-2e73-4a19-ba8f-f4b447d48988"
      },
      "source": [
        "df_stClass.Act_score.quantile(0.25)"
      ],
      "execution_count": null,
      "outputs": [
        {
          "output_type": "execute_result",
          "data": {
            "text/plain": [
              "7.315894232570133"
            ]
          },
          "metadata": {
            "tags": []
          },
          "execution_count": 339
        }
      ]
    },
    {
      "cell_type": "markdown",
      "metadata": {
        "id": "GmIT3dvXg70I"
      },
      "source": [
        ""
      ]
    },
    {
      "cell_type": "code",
      "metadata": {
        "id": "BXRNBYkvA4c6"
      },
      "source": [
        "#  feature  Engineering\n",
        "\n",
        "bins = [0, \n",
        "        df_stClass.Act_score.quantile(0.25),\n",
        "        df_stClass.Act_score.quantile(0.5),\n",
        "        df_stClass.Act_score.quantile(0.75), \n",
        "        df_stClass.Act_score.quantile(1)]\n",
        "names = ['D', 'C', 'B', 'A']\n",
        "\n",
        "df_stClass['Score_Class'] = pd.cut(df_stClass.Act_score,\n",
        "                           bins, labels=names)"
      ],
      "execution_count": null,
      "outputs": []
    },
    {
      "cell_type": "code",
      "metadata": {
        "colab": {
          "base_uri": "https://localhost:8080/",
          "height": 255
        },
        "id": "DOVyPfF1I62v",
        "outputId": "81420cc3-9f63-41dc-aa72-1a46f077c035"
      },
      "source": [
        "df_stClass.head()\n",
        "\n",
        "#  It's better to add data related to  timestamp feature:  dat, month, dayofteweek, monthOfTheyear ....."
      ],
      "execution_count": null,
      "outputs": [
        {
          "output_type": "execute_result",
          "data": {
            "text/html": [
              "<div>\n",
              "<style scoped>\n",
              "    .dataframe tbody tr th:only-of-type {\n",
              "        vertical-align: middle;\n",
              "    }\n",
              "\n",
              "    .dataframe tbody tr th {\n",
              "        vertical-align: top;\n",
              "    }\n",
              "\n",
              "    .dataframe thead th {\n",
              "        text-align: right;\n",
              "    }\n",
              "</style>\n",
              "<table border=\"1\" class=\"dataframe\">\n",
              "  <thead>\n",
              "    <tr style=\"text-align: right;\">\n",
              "      <th></th>\n",
              "      <th>Course_code</th>\n",
              "      <th>Activity_type</th>\n",
              "      <th>Std_act_cp_mean</th>\n",
              "      <th>Std_act_d_mean</th>\n",
              "      <th>Std_act_m_count</th>\n",
              "      <th>Std_act_m_max</th>\n",
              "      <th>Std_act_m_mean</th>\n",
              "      <th>Std_act_m_std</th>\n",
              "      <th>Std_act_t_max</th>\n",
              "      <th>Std_act_t_mean</th>\n",
              "      <th>Std_act_t_std</th>\n",
              "      <th>Act_score</th>\n",
              "      <th>index</th>\n",
              "      <th>Act_cp_mean</th>\n",
              "      <th>Act_diff_mean</th>\n",
              "      <th>Act_mark_count</th>\n",
              "      <th>Act_mark_max</th>\n",
              "      <th>Act_mark_mean</th>\n",
              "      <th>Act_mark_min</th>\n",
              "      <th>Act_time_max</th>\n",
              "      <th>Act_time_mean</th>\n",
              "      <th>Act_time_min</th>\n",
              "      <th>Activities_Count_&lt;lambda&gt;</th>\n",
              "      <th>last_mark</th>\n",
              "      <th>Score_Class</th>\n",
              "    </tr>\n",
              "    <tr>\n",
              "      <th>student_ID</th>\n",
              "      <th></th>\n",
              "      <th></th>\n",
              "      <th></th>\n",
              "      <th></th>\n",
              "      <th></th>\n",
              "      <th></th>\n",
              "      <th></th>\n",
              "      <th></th>\n",
              "      <th></th>\n",
              "      <th></th>\n",
              "      <th></th>\n",
              "      <th></th>\n",
              "      <th></th>\n",
              "      <th></th>\n",
              "      <th></th>\n",
              "      <th></th>\n",
              "      <th></th>\n",
              "      <th></th>\n",
              "      <th></th>\n",
              "      <th></th>\n",
              "      <th></th>\n",
              "      <th></th>\n",
              "      <th></th>\n",
              "      <th></th>\n",
              "      <th></th>\n",
              "    </tr>\n",
              "  </thead>\n",
              "  <tbody>\n",
              "    <tr>\n",
              "      <th>060102727</th>\n",
              "      <td>g9_2</td>\n",
              "      <td>0</td>\n",
              "      <td>1.000000</td>\n",
              "      <td>2.000000</td>\n",
              "      <td>2</td>\n",
              "      <td>7.19</td>\n",
              "      <td>6.815000</td>\n",
              "      <td>0.530330</td>\n",
              "      <td>194</td>\n",
              "      <td>172.000000</td>\n",
              "      <td>31.112698</td>\n",
              "      <td>10.754689</td>\n",
              "      <td>98</td>\n",
              "      <td>1.449275</td>\n",
              "      <td>2.492754</td>\n",
              "      <td>69</td>\n",
              "      <td>9.98</td>\n",
              "      <td>4.676232</td>\n",
              "      <td>0.12</td>\n",
              "      <td>286.0</td>\n",
              "      <td>164.318841</td>\n",
              "      <td>30.0</td>\n",
              "      <td>20</td>\n",
              "      <td>6.44</td>\n",
              "      <td>C</td>\n",
              "    </tr>\n",
              "    <tr>\n",
              "      <th>060106025</th>\n",
              "      <td>g9_2</td>\n",
              "      <td>0</td>\n",
              "      <td>1.666667</td>\n",
              "      <td>1.666667</td>\n",
              "      <td>3</td>\n",
              "      <td>6.51</td>\n",
              "      <td>3.930000</td>\n",
              "      <td>2.335530</td>\n",
              "      <td>247</td>\n",
              "      <td>160.000000</td>\n",
              "      <td>81.663946</td>\n",
              "      <td>18.027831</td>\n",
              "      <td>98</td>\n",
              "      <td>1.449275</td>\n",
              "      <td>2.492754</td>\n",
              "      <td>69</td>\n",
              "      <td>9.98</td>\n",
              "      <td>4.676232</td>\n",
              "      <td>0.12</td>\n",
              "      <td>286.0</td>\n",
              "      <td>164.318841</td>\n",
              "      <td>30.0</td>\n",
              "      <td>20</td>\n",
              "      <td>1.96</td>\n",
              "      <td>B</td>\n",
              "    </tr>\n",
              "    <tr>\n",
              "      <th>060135590</th>\n",
              "      <td>g9_2</td>\n",
              "      <td>0</td>\n",
              "      <td>1.000000</td>\n",
              "      <td>2.000000</td>\n",
              "      <td>1</td>\n",
              "      <td>0.50</td>\n",
              "      <td>0.500000</td>\n",
              "      <td>0.000000</td>\n",
              "      <td>48</td>\n",
              "      <td>48.000000</td>\n",
              "      <td>0.000000</td>\n",
              "      <td>0.693147</td>\n",
              "      <td>98</td>\n",
              "      <td>1.449275</td>\n",
              "      <td>2.492754</td>\n",
              "      <td>69</td>\n",
              "      <td>9.98</td>\n",
              "      <td>4.676232</td>\n",
              "      <td>0.12</td>\n",
              "      <td>286.0</td>\n",
              "      <td>164.318841</td>\n",
              "      <td>30.0</td>\n",
              "      <td>20</td>\n",
              "      <td>0.50</td>\n",
              "      <td>D</td>\n",
              "    </tr>\n",
              "    <tr>\n",
              "      <th>060181122</th>\n",
              "      <td>g9_2</td>\n",
              "      <td>0</td>\n",
              "      <td>1.000000</td>\n",
              "      <td>3.250000</td>\n",
              "      <td>4</td>\n",
              "      <td>7.35</td>\n",
              "      <td>4.210000</td>\n",
              "      <td>3.547647</td>\n",
              "      <td>249</td>\n",
              "      <td>181.000000</td>\n",
              "      <td>52.249402</td>\n",
              "      <td>22.165184</td>\n",
              "      <td>98</td>\n",
              "      <td>1.449275</td>\n",
              "      <td>2.492754</td>\n",
              "      <td>69</td>\n",
              "      <td>9.98</td>\n",
              "      <td>4.676232</td>\n",
              "      <td>0.12</td>\n",
              "      <td>286.0</td>\n",
              "      <td>164.318841</td>\n",
              "      <td>30.0</td>\n",
              "      <td>20</td>\n",
              "      <td>7.35</td>\n",
              "      <td>A</td>\n",
              "    </tr>\n",
              "    <tr>\n",
              "      <th>060215085</th>\n",
              "      <td>g9_2</td>\n",
              "      <td>0</td>\n",
              "      <td>1.666667</td>\n",
              "      <td>2.666667</td>\n",
              "      <td>3</td>\n",
              "      <td>5.35</td>\n",
              "      <td>3.906667</td>\n",
              "      <td>2.010730</td>\n",
              "      <td>198</td>\n",
              "      <td>138.333333</td>\n",
              "      <td>80.326417</td>\n",
              "      <td>14.125670</td>\n",
              "      <td>98</td>\n",
              "      <td>1.449275</td>\n",
              "      <td>2.492754</td>\n",
              "      <td>69</td>\n",
              "      <td>9.98</td>\n",
              "      <td>4.676232</td>\n",
              "      <td>0.12</td>\n",
              "      <td>286.0</td>\n",
              "      <td>164.318841</td>\n",
              "      <td>30.0</td>\n",
              "      <td>20</td>\n",
              "      <td>1.61</td>\n",
              "      <td>B</td>\n",
              "    </tr>\n",
              "  </tbody>\n",
              "</table>\n",
              "</div>"
            ],
            "text/plain": [
              "           Course_code Activity_type  ...  last_mark  Score_Class\n",
              "student_ID                            ...                        \n",
              "060102727         g9_2             0  ...       6.44            C\n",
              "060106025         g9_2             0  ...       1.96            B\n",
              "060135590         g9_2             0  ...       0.50            D\n",
              "060181122         g9_2             0  ...       7.35            A\n",
              "060215085         g9_2             0  ...       1.61            B\n",
              "\n",
              "[5 rows x 25 columns]"
            ]
          },
          "metadata": {
            "tags": []
          },
          "execution_count": 303
        }
      ]
    },
    {
      "cell_type": "code",
      "metadata": {
        "id": "XJyJk9FnJCvH"
      },
      "source": [
        "df_stClass.drop(\"Act_score\", axis=1, inplace=True)"
      ],
      "execution_count": null,
      "outputs": []
    },
    {
      "cell_type": "code",
      "metadata": {
        "id": "yOJgt_lxO7TF"
      },
      "source": [
        "# Split Data\n",
        "X=df_stClass.iloc[:,:-1]\n",
        "y=df_stClass[\"Score_Class\"]"
      ],
      "execution_count": null,
      "outputs": []
    },
    {
      "cell_type": "code",
      "metadata": {
        "id": "z0HbtSlPO7TG"
      },
      "source": [
        "\n",
        "from sklearn.model_selection import train_test_split\n",
        "\n",
        "# X_train, X_test = train_test_split(df[df.grade==\"6\"], test_size=0.3, random_state=42, shuffle=True)\n",
        "\n",
        "X_train, X_test, y_train, y_test=train_test_split(X, y  , test_size=.3,   random_state=42)"
      ],
      "execution_count": null,
      "outputs": []
    },
    {
      "cell_type": "code",
      "metadata": {
        "colab": {
          "base_uri": "https://localhost:8080/"
        },
        "id": "lkqh27GpO7TG",
        "outputId": "647c7067-b0ec-43c6-f3e7-9e2159c0d024"
      },
      "source": [
        "X_train.shape, X_test.shape"
      ],
      "execution_count": null,
      "outputs": [
        {
          "output_type": "execute_result",
          "data": {
            "text/plain": [
              "((3061, 23), (1313, 23))"
            ]
          },
          "metadata": {
            "tags": []
          },
          "execution_count": 307
        }
      ]
    },
    {
      "cell_type": "code",
      "metadata": {
        "id": "uNoAmJ5wO7TH"
      },
      "source": [
        "from sklearn.preprocessing import StandardScaler , OneHotEncoder\n",
        "from sklearn.compose import make_column_transformer , make_column_selector  as selector\n",
        "\n",
        "from sklearn.pipeline import make_pipeline\n",
        "  \n",
        "num_pipeline= make_pipeline(\n",
        "     StandardScaler( )    # Rescaling\n",
        ")\n",
        "\n",
        "cat_pipeline= make_pipeline(\n",
        "      \n",
        "     #OneHotEncoder(  sparse=False ,handle_unknown = 'ignore'),\n",
        "     OneHotEncoder(drop=\"if_binary\" , sparse=False ), \n",
        " \n",
        ")"
      ],
      "execution_count": null,
      "outputs": []
    },
    {
      "cell_type": "code",
      "metadata": {
        "id": "rnWwMgU6O7TH"
      },
      "source": [
        "#  Pipeline structure \n",
        "preprocess= make_column_transformer(\n",
        "     ( num_pipeline,  selector(dtype_include=\"number\") ),  #Numeric feature rescaling\n",
        "     (cat_pipeline, selector(dtype_exclude=\"number\"))  # Categorical features Encoding\n",
        "     )"
      ],
      "execution_count": null,
      "outputs": []
    },
    {
      "cell_type": "code",
      "metadata": {
        "colab": {
          "base_uri": "https://localhost:8080/"
        },
        "id": "6PTkH0fyO7TH",
        "outputId": "628ddd9c-d144-4343-972d-44239f45653c"
      },
      "source": [
        "preprocess.fit_transform(X_train).shape"
      ],
      "execution_count": null,
      "outputs": [
        {
          "output_type": "execute_result",
          "data": {
            "text/plain": [
              "(3061, 76)"
            ]
          },
          "metadata": {
            "tags": []
          },
          "execution_count": 310
        }
      ]
    },
    {
      "cell_type": "code",
      "metadata": {
        "id": "iidq8kDiO7TI"
      },
      "source": [
        "#df.select_dtypes(exclude=\"number\").shape"
      ],
      "execution_count": null,
      "outputs": []
    },
    {
      "cell_type": "code",
      "metadata": {
        "colab": {
          "base_uri": "https://localhost:8080/"
        },
        "id": "62CITadAO7TI",
        "outputId": "714c691c-6c02-4488-f0e5-e221f348ca6d"
      },
      "source": [
        "preprocess.fit_transform(X_train)[0]"
      ],
      "execution_count": null,
      "outputs": [
        {
          "output_type": "execute_result",
          "data": {
            "text/plain": [
              "array([-1.20193045, -1.59553814, -0.83479981,  1.42016022,  2.07144549,\n",
              "       -0.79564025, -1.43523365, -1.19288422, -0.80289205,  0.22279288,\n",
              "       -1.33635001,  0.39772246,  1.68444608,  0.93384567, -1.70949803,\n",
              "       -0.57564473, -1.79561765, -0.31878069,  0.65854273,  0.6072636 ,\n",
              "        1.71943514,  0.        ,  0.        ,  0.        ,  0.        ,\n",
              "        0.        ,  0.        ,  0.        ,  0.        ,  0.        ,\n",
              "        0.        ,  0.        ,  0.        ,  0.        ,  0.        ,\n",
              "        0.        ,  0.        ,  0.        ,  0.        ,  0.        ,\n",
              "        0.        ,  0.        ,  0.        ,  0.        ,  0.        ,\n",
              "        0.        ,  0.        ,  0.        ,  0.        ,  0.        ,\n",
              "        0.        ,  1.        ,  0.        ,  0.        ,  0.        ,\n",
              "        0.        ,  0.        ,  0.        ,  0.        ,  0.        ,\n",
              "        0.        ,  0.        ,  0.        ,  0.        ,  0.        ,\n",
              "        0.        ,  0.        ,  0.        ,  0.        ,  0.        ,\n",
              "        0.        ,  0.        ,  0.        ,  0.        ,  0.        ,\n",
              "        1.        ])"
            ]
          },
          "metadata": {
            "tags": []
          },
          "execution_count": 312
        }
      ]
    },
    {
      "cell_type": "code",
      "metadata": {
        "id": "ygtpwdJSO7TJ"
      },
      "source": [
        "# pipelline Model\n",
        "from xgboost import XGBClassifier\n",
        "pipe_reg= make_pipeline(\n",
        "    preprocess, \n",
        "    XGBClassifier()\n",
        "    )"
      ],
      "execution_count": null,
      "outputs": []
    },
    {
      "cell_type": "code",
      "metadata": {
        "colab": {
          "base_uri": "https://localhost:8080/"
        },
        "id": "5kqkheEaO7TJ",
        "outputId": "862bd73d-64be-456b-e35b-c9c0c5a6f00c"
      },
      "source": [
        "pipe_reg.get_params()"
      ],
      "execution_count": null,
      "outputs": [
        {
          "output_type": "execute_result",
          "data": {
            "text/plain": [
              "{'columntransformer': ColumnTransformer(transformers=[('pipeline-1',\n",
              "                                  Pipeline(steps=[('standardscaler',\n",
              "                                                   StandardScaler())]),\n",
              "                                  <sklearn.compose._column_transformer.make_column_selector object at 0x7f70bdf1b910>),\n",
              "                                 ('pipeline-2',\n",
              "                                  Pipeline(steps=[('onehotencoder',\n",
              "                                                   OneHotEncoder(drop='if_binary',\n",
              "                                                                 sparse=False))]),\n",
              "                                  <sklearn.compose._column_transformer.make_column_selector object at 0x7f70bdf1b110>)]),\n",
              " 'columntransformer__n_jobs': None,\n",
              " 'columntransformer__pipeline-1': Pipeline(steps=[('standardscaler', StandardScaler())]),\n",
              " 'columntransformer__pipeline-1__memory': None,\n",
              " 'columntransformer__pipeline-1__standardscaler': StandardScaler(),\n",
              " 'columntransformer__pipeline-1__standardscaler__copy': True,\n",
              " 'columntransformer__pipeline-1__standardscaler__with_mean': True,\n",
              " 'columntransformer__pipeline-1__standardscaler__with_std': True,\n",
              " 'columntransformer__pipeline-1__steps': [('standardscaler',\n",
              "   StandardScaler())],\n",
              " 'columntransformer__pipeline-1__verbose': False,\n",
              " 'columntransformer__pipeline-2': Pipeline(steps=[('onehotencoder',\n",
              "                  OneHotEncoder(drop='if_binary', sparse=False))]),\n",
              " 'columntransformer__pipeline-2__memory': None,\n",
              " 'columntransformer__pipeline-2__onehotencoder': OneHotEncoder(drop='if_binary', sparse=False),\n",
              " 'columntransformer__pipeline-2__onehotencoder__categories': 'auto',\n",
              " 'columntransformer__pipeline-2__onehotencoder__drop': 'if_binary',\n",
              " 'columntransformer__pipeline-2__onehotencoder__dtype': numpy.float64,\n",
              " 'columntransformer__pipeline-2__onehotencoder__handle_unknown': 'error',\n",
              " 'columntransformer__pipeline-2__onehotencoder__sparse': False,\n",
              " 'columntransformer__pipeline-2__steps': [('onehotencoder',\n",
              "   OneHotEncoder(drop='if_binary', sparse=False))],\n",
              " 'columntransformer__pipeline-2__verbose': False,\n",
              " 'columntransformer__remainder': 'drop',\n",
              " 'columntransformer__sparse_threshold': 0.3,\n",
              " 'columntransformer__transformer_weights': None,\n",
              " 'columntransformer__transformers': [('pipeline-1',\n",
              "   Pipeline(steps=[('standardscaler', StandardScaler())]),\n",
              "   <sklearn.compose._column_transformer.make_column_selector at 0x7f70bdf1b910>),\n",
              "  ('pipeline-2', Pipeline(steps=[('onehotencoder',\n",
              "                    OneHotEncoder(drop='if_binary', sparse=False))]), <sklearn.compose._column_transformer.make_column_selector at 0x7f70bdf1b110>)],\n",
              " 'columntransformer__verbose': False,\n",
              " 'memory': None,\n",
              " 'steps': [('columntransformer', ColumnTransformer(transformers=[('pipeline-1',\n",
              "                                    Pipeline(steps=[('standardscaler',\n",
              "                                                     StandardScaler())]),\n",
              "                                    <sklearn.compose._column_transformer.make_column_selector object at 0x7f70bdf1b910>),\n",
              "                                   ('pipeline-2',\n",
              "                                    Pipeline(steps=[('onehotencoder',\n",
              "                                                     OneHotEncoder(drop='if_binary',\n",
              "                                                                   sparse=False))]),\n",
              "                                    <sklearn.compose._column_transformer.make_column_selector object at 0x7f70bdf1b110>)])),\n",
              "  ('xgbclassifier', XGBClassifier())],\n",
              " 'verbose': False,\n",
              " 'xgbclassifier': XGBClassifier(),\n",
              " 'xgbclassifier__base_score': 0.5,\n",
              " 'xgbclassifier__booster': 'gbtree',\n",
              " 'xgbclassifier__colsample_bylevel': 1,\n",
              " 'xgbclassifier__colsample_bynode': 1,\n",
              " 'xgbclassifier__colsample_bytree': 1,\n",
              " 'xgbclassifier__gamma': 0,\n",
              " 'xgbclassifier__learning_rate': 0.1,\n",
              " 'xgbclassifier__max_delta_step': 0,\n",
              " 'xgbclassifier__max_depth': 3,\n",
              " 'xgbclassifier__min_child_weight': 1,\n",
              " 'xgbclassifier__missing': None,\n",
              " 'xgbclassifier__n_estimators': 100,\n",
              " 'xgbclassifier__n_jobs': 1,\n",
              " 'xgbclassifier__nthread': None,\n",
              " 'xgbclassifier__objective': 'binary:logistic',\n",
              " 'xgbclassifier__random_state': 0,\n",
              " 'xgbclassifier__reg_alpha': 0,\n",
              " 'xgbclassifier__reg_lambda': 1,\n",
              " 'xgbclassifier__scale_pos_weight': 1,\n",
              " 'xgbclassifier__seed': None,\n",
              " 'xgbclassifier__silent': None,\n",
              " 'xgbclassifier__subsample': 1,\n",
              " 'xgbclassifier__verbosity': 1}"
            ]
          },
          "metadata": {
            "tags": []
          },
          "execution_count": 314
        }
      ]
    },
    {
      "cell_type": "code",
      "metadata": {
        "id": "XKjazoy5O7TJ"
      },
      "source": [
        "# hyper parameters\n",
        "\n",
        "param_grid = {\n",
        "    'xgbclassifier__n_estimators': [50, 100, 150, 200],\n",
        "    'xgbclassifier__learning_rate': [0.01, 0.1, 0.2, 0.3],\n",
        "    'xgbclassifier__max_depth': range(3, 5),\n",
        "    'xgbclassifier__colsample_bytree': [i/10.0 for i in range(1, 3)],\n",
        "    'xgbclassifier__gamma': [i/10.0 for i in range(3)],\n",
        "    # 'pca__n_components':[40, 60, 80]\n",
        "\n",
        "}"
      ],
      "execution_count": null,
      "outputs": []
    },
    {
      "cell_type": "code",
      "metadata": {
        "colab": {
          "base_uri": "https://localhost:8080/",
          "height": 775
        },
        "id": "LZY_I0agBoED",
        "outputId": "03c7fdcc-83cb-4cd2-9546-dd56eaa2ae0b"
      },
      "source": [
        "# AUC and accuracy as score\n",
        "from sklearn.metrics import accuracy_score, make_scorer, f1_score\n",
        "scoring = make_scorer(f1_score(average='micro'))"
      ],
      "execution_count": null,
      "outputs": [
        {
          "output_type": "stream",
          "text": [
            "ERROR:root:Internal Python error in the inspect module.\n",
            "Below is the traceback from this internal error.\n",
            "\n"
          ],
          "name": "stderr"
        },
        {
          "output_type": "stream",
          "text": [
            "Traceback (most recent call last):\n",
            "  File \"/usr/local/lib/python3.7/dist-packages/IPython/core/interactiveshell.py\", line 2882, in run_code\n",
            "    exec(code_obj, self.user_global_ns, self.user_ns)\n",
            "  File \"<ipython-input-316-50ccf65f4534>\", line 3, in <module>\n",
            "    scoring = make_scorer(f1_score(average='micro'))\n",
            "  File \"/usr/local/lib/python3.7/dist-packages/sklearn/utils/validation.py\", line 63, in inner_f\n",
            "    return f(*args, **kwargs)\n",
            "TypeError: f1_score() missing 2 required positional arguments: 'y_true' and 'y_pred'\n",
            "\n",
            "During handling of the above exception, another exception occurred:\n",
            "\n",
            "Traceback (most recent call last):\n",
            "  File \"/usr/local/lib/python3.7/dist-packages/IPython/core/interactiveshell.py\", line 1823, in showtraceback\n",
            "    stb = value._render_traceback_()\n",
            "AttributeError: 'TypeError' object has no attribute '_render_traceback_'\n",
            "\n",
            "During handling of the above exception, another exception occurred:\n",
            "\n",
            "Traceback (most recent call last):\n",
            "  File \"/usr/local/lib/python3.7/dist-packages/IPython/core/ultratb.py\", line 1132, in get_records\n",
            "    return _fixed_getinnerframes(etb, number_of_lines_of_context, tb_offset)\n",
            "  File \"/usr/local/lib/python3.7/dist-packages/IPython/core/ultratb.py\", line 313, in wrapped\n",
            "    return f(*args, **kwargs)\n",
            "  File \"/usr/local/lib/python3.7/dist-packages/IPython/core/ultratb.py\", line 358, in _fixed_getinnerframes\n",
            "    records = fix_frame_records_filenames(inspect.getinnerframes(etb, context))\n",
            "  File \"/usr/lib/python3.7/inspect.py\", line 1502, in getinnerframes\n",
            "    frameinfo = (tb.tb_frame,) + getframeinfo(tb, context)\n",
            "  File \"/usr/lib/python3.7/inspect.py\", line 1460, in getframeinfo\n",
            "    filename = getsourcefile(frame) or getfile(frame)\n",
            "  File \"/usr/lib/python3.7/inspect.py\", line 696, in getsourcefile\n",
            "    if getattr(getmodule(object, filename), '__loader__', None) is not None:\n",
            "  File \"/usr/lib/python3.7/inspect.py\", line 725, in getmodule\n",
            "    file = getabsfile(object, _filename)\n",
            "  File \"/usr/lib/python3.7/inspect.py\", line 709, in getabsfile\n",
            "    return os.path.normcase(os.path.abspath(_filename))\n",
            "  File \"/usr/lib/python3.7/posixpath.py\", line 383, in abspath\n",
            "    cwd = os.getcwd()\n",
            "FileNotFoundError: [Errno 2] No such file or directory\n"
          ],
          "name": "stdout"
        },
        {
          "output_type": "error",
          "ename": "TypeError",
          "evalue": "ignored",
          "traceback": [
            "\u001b[0;31m---------------------------------------------------------------------------\u001b[0m"
          ]
        }
      ]
    },
    {
      "cell_type": "code",
      "metadata": {
        "id": "yvVUlnXRO7TK"
      },
      "source": [
        "from sklearn.model_selection import RandomizedSearchCV, KFold\n",
        "\n",
        "kf= KFold( n_splits=5, shuffle=True )\n",
        "gs= RandomizedSearchCV( pipe_reg, param_distributions=param_grid,  scoring=\"scoring\",  cv=kf,verbose=3)"
      ],
      "execution_count": null,
      "outputs": []
    },
    {
      "cell_type": "code",
      "metadata": {
        "id": "9mu58K1nO7TK"
      },
      "source": [
        "gs.fit(X_train, y_train)"
      ],
      "execution_count": null,
      "outputs": []
    },
    {
      "cell_type": "code",
      "metadata": {
        "id": "WCQsQ6frO7TK"
      },
      "source": [
        "gs.best_estimator_"
      ],
      "execution_count": null,
      "outputs": []
    },
    {
      "cell_type": "code",
      "metadata": {
        "id": "52_M4t9mO7TL"
      },
      "source": [
        "gs.best_params_"
      ],
      "execution_count": null,
      "outputs": []
    },
    {
      "cell_type": "code",
      "metadata": {
        "id": "I-4oLnkiO7TL"
      },
      "source": [
        "X_test.sample()"
      ],
      "execution_count": null,
      "outputs": []
    },
    {
      "cell_type": "code",
      "metadata": {
        "id": "L2xALOuEO7TL"
      },
      "source": [
        "std_Pred=X_test.loc[\"120512419\"]"
      ],
      "execution_count": null,
      "outputs": []
    },
    {
      "cell_type": "code",
      "metadata": {
        "id": "k5I5DVSSO7TM"
      },
      "source": [
        "gs.predict(X_test.loc[\"120512419\"])"
      ],
      "execution_count": null,
      "outputs": []
    },
    {
      "cell_type": "code",
      "metadata": {
        "id": "vHKbm3jiO7TM"
      },
      "source": [
        "std_Pred[\"Predicted_mark\"]=gs.predict(X_test.loc[\"120512419\"])"
      ],
      "execution_count": null,
      "outputs": []
    },
    {
      "cell_type": "code",
      "metadata": {
        "id": "bRKsloF7O7TN"
      },
      "source": [
        "std_Pred"
      ],
      "execution_count": null,
      "outputs": []
    },
    {
      "cell_type": "code",
      "metadata": {
        "id": "GNl60l11O7TN"
      },
      "source": [
        "y_pred=gs.predict(X_test)"
      ],
      "execution_count": null,
      "outputs": []
    },
    {
      "cell_type": "code",
      "metadata": {
        "id": "4DPZE8g7O7TN"
      },
      "source": [
        "from sklearn import  metrics\n",
        "print(f\"  MAE : { metrics.mean_absolute_error(y_test, y_pred):.3f}\")\n",
        "print(f\"  MSE : { metrics.mean_squared_error(y_test, y_pred):.3f}\")\n",
        "print(f\"  RMSE : { np.sqrt(metrics.mean_squared_error(y_test, y_pred)):.3f}\")\n",
        "print(f\"  R^2 : { metrics.r2_score(y_test, y_pred):.3f}\")\n",
        "print(f\"  Explained Variance Score : { metrics.mean_absolute_error(y_test, y_pred):.3f}\")"
      ],
      "execution_count": null,
      "outputs": []
    },
    {
      "cell_type": "code",
      "metadata": {
        "id": "thlN8kwyO7TN"
      },
      "source": [
        "# Residual Plot\n",
        "import seaborn as sns\n",
        "_= sns.residplot(x=y_test, y=y_pred, color=\"green\")"
      ],
      "execution_count": null,
      "outputs": []
    },
    {
      "cell_type": "code",
      "metadata": {
        "id": "QBtRKsXSO7TQ"
      },
      "source": [
        "X_test.shape"
      ],
      "execution_count": null,
      "outputs": []
    },
    {
      "cell_type": "code",
      "metadata": {
        "id": "fHRX4KUqO7TR"
      },
      "source": [
        "X_test.sample()"
      ],
      "execution_count": null,
      "outputs": []
    },
    {
      "cell_type": "code",
      "metadata": {
        "id": "zmvS2Hd2O7TS"
      },
      "source": [
        "df_avt.sample()"
      ],
      "execution_count": null,
      "outputs": []
    },
    {
      "cell_type": "code",
      "metadata": {
        "id": "Ayiz4uBpO7TS"
      },
      "source": [
        "df_avt.keys()"
      ],
      "execution_count": null,
      "outputs": []
    },
    {
      "cell_type": "code",
      "metadata": {
        "id": "Zq1LtjhpO7TS"
      },
      "source": [
        "X_test.keys()"
      ],
      "execution_count": null,
      "outputs": []
    },
    {
      "cell_type": "code",
      "metadata": {
        "id": "JGL5XFCMO7TT"
      },
      "source": [
        "#  Last Mark Comparaison\n",
        "pd.DataFrame({\"Actual Mark\": y_test, \"Predicted Mark\": y_pred}).sample(6)"
      ],
      "execution_count": null,
      "outputs": []
    },
    {
      "cell_type": "code",
      "metadata": {
        "id": "jGIG1Z2CO7TT"
      },
      "source": [
        "X_test[\"predicted_Mark\"]=y_pred"
      ],
      "execution_count": null,
      "outputs": []
    },
    {
      "cell_type": "code",
      "metadata": {
        "id": "wPYejHbAO7TT"
      },
      "source": [
        "X_test.head()"
      ],
      "execution_count": null,
      "outputs": []
    },
    {
      "cell_type": "code",
      "metadata": {
        "id": "nh67FtXIO7TT"
      },
      "source": [
        ""
      ],
      "execution_count": null,
      "outputs": []
    },
    {
      "cell_type": "code",
      "metadata": {
        "id": "yhC2o1xWO7TT"
      },
      "source": [
        ""
      ],
      "execution_count": null,
      "outputs": []
    },
    {
      "cell_type": "code",
      "metadata": {
        "id": "sNo3YcW2O7TU"
      },
      "source": [
        ""
      ],
      "execution_count": null,
      "outputs": []
    },
    {
      "cell_type": "code",
      "metadata": {
        "id": "8CYeJIR2O7TU"
      },
      "source": [
        ""
      ],
      "execution_count": null,
      "outputs": []
    }
  ]
}